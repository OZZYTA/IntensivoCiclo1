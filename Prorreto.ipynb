{
  "nbformat": 4,
  "nbformat_minor": 0,
  "metadata": {
    "colab": {
      "provenance": [],
      "collapsed_sections": [],
      "include_colab_link": true
    },
    "kernelspec": {
      "name": "python3",
      "display_name": "Python 3"
    },
    "language_info": {
      "name": "python"
    }
  },
  "cells": [
    {
      "cell_type": "markdown",
      "metadata": {
        "id": "view-in-github",
        "colab_type": "text"
      },
      "source": [
        "<a href=\"https://colab.research.google.com/github/OZZYTA/IntensivoCiclo1/blob/main/Prorreto.ipynb\" target=\"_parent\"><img src=\"https://colab.research.google.com/assets/colab-badge.svg\" alt=\"Open In Colab\"/></a>"
      ]
    },
    {
      "cell_type": "markdown",
      "source": [
        "#**Ejercicio Práctico de estructuras**"
      ],
      "metadata": {
        "id": "szygKsV5Gc2H"
      }
    },
    {
      "cell_type": "markdown",
      "source": [
        "El director tecnico del equipo Atletico Los Patios, tiene en la nomina de su equipo 32 jugadores, 11 de ellos considerados goleadores regulares. A continuación la lista original en orden de los numeros en sus camisetas:\n",
        "\n",
        "**`[\"Benitez\",\"Banguero\",\"Ferreira\",\"Bustos\",\"Contreras\",\"Sanchez\",\"Gomez\",\"Bedoya\",\"Rodriguez\",\"Torres\",\"Martinez\"]`**\n",
        "\n",
        "Durante la ultima temporada de entrenamientos, recopiló la cantidad total de goles hechos por cada uno, con la intención de determinar cual de ellos entrará titular.\n",
        "Desea un aplicativo que reciba la lista de jugadores con sus respectivos goles, justo en la posición siguiente, ambos valores de tipo String, la lista a continuación:.\n",
        "\n",
        "**`[\"Benitez\",\"5\",\"Gomez\",\"3\",\"Banguero\",\"2\",\"Ferreira\",\"4\",\"Bustos\",\"6\",\"Contreras\",\"1\",\"Sanchez\",\"2\",\"Martinez\",\"3\", \"Ferreira\",\"1\",\"Gomez\",\"1\",\"Bedoya\",\"1\",\"Rodriguez\",\"3\",\"Benitez\",\"1\",\"Martinez\",\"10\",\"Contreras\",\"1\"]`**\n",
        "\n",
        "\n",
        "Se busca que el aplicativo, reciba la lista de jugadores y sus goles y devuelva un diccionario de diccionarios que, en su primera posición entregue el key: \"mayor goleador\" junto con su value equivalente (diccionario), que en su segunda posición entregue el key: \"menor goleador\" junto con su value equivalente (diccionario) y a partir de alli, los valores de la lista original del jugadores como keys (en el orden original) y sus respectivos goles acumulados como values."
      ],
      "metadata": {
        "id": "bOel-Q9rsHZd"
      }
    },
    {
      "cell_type": "code",
      "source": [
        "jugadores=[\"Benitez\",\"Banguero\",\"Ferreira\",\"Bustos\",\"Contreras\",\"Sanchez\",\"Gomez\",\"Bedoya\",\"Rodriguez\",\"Torres\",\"Martinez\"]"
      ],
      "metadata": {
        "id": "260wZ0XQhRB6"
      },
      "execution_count": 1,
      "outputs": []
    },
    {
      "cell_type": "code",
      "source": [
        "listaConGoles=[\"Benitez\",\"5\",\"Gomez\",\"3\",\"Banguero\",\"2\",\"Ferreira\",\"4\",\"Bustos\",\"6\",\"Contreras\",\"1\",\"Sanchez\",\"2\",\"Martinez\",\"3\", \"Ferreira\",\"1\",\"Gomez\",\"1\",\"Bedoya\",\"1\",\"Rodriguez\",\"3\",\"Benitez\",\"1\",\"Martinez\",\"10\",\"Contreras\",\"1\"]"
      ],
      "metadata": {
        "id": "Kro7zIQJhXg7"
      },
      "execution_count": 2,
      "outputs": []
    },
    {
      "cell_type": "code",
      "source": [
        "dicc={}\n",
        "#Agarramos cada jugador habilitado para meter goles\n",
        "for i in range(len(jugadores)):\n",
        "  contador=0\n",
        "  #Tratamos de encontrar a esos jugados en la lista donde se registraron los goles\n",
        "  for j in range(len(listaConGoles)):\n",
        "    if jugadores[i]==listaConGoles[j]:\n",
        "      contador=contador+int(listaConGoles[j+1])\n",
        "  dicc[jugadores[i]]=contador\n",
        "\n",
        "dicc"
      ],
      "metadata": {
        "colab": {
          "base_uri": "https://localhost:8080/"
        },
        "id": "s88y5dyTh_em",
        "outputId": "0b8fe5a6-8630-4d87-966d-fb34638c12f3"
      },
      "execution_count": 3,
      "outputs": [
        {
          "output_type": "execute_result",
          "data": {
            "text/plain": [
              "{'Benitez': 6,\n",
              " 'Banguero': 2,\n",
              " 'Ferreira': 5,\n",
              " 'Bustos': 6,\n",
              " 'Contreras': 2,\n",
              " 'Sanchez': 2,\n",
              " 'Gomez': 4,\n",
              " 'Bedoya': 1,\n",
              " 'Rodriguez': 3,\n",
              " 'Torres': 0,\n",
              " 'Martinez': 13}"
            ]
          },
          "metadata": {},
          "execution_count": 3
        }
      ]
    },
    {
      "cell_type": "code",
      "source": [
        "goleadores=list(dicc.keys())\n",
        "goles=list(dicc.values())"
      ],
      "metadata": {
        "id": "1XSFQ9pzmFsq"
      },
      "execution_count": 4,
      "outputs": []
    },
    {
      "cell_type": "code",
      "source": [
        "goleadores"
      ],
      "metadata": {
        "colab": {
          "base_uri": "https://localhost:8080/"
        },
        "id": "GGMeI7D5mRJ9",
        "outputId": "260c7644-0b2f-4cb5-b709-306a5df5b399"
      },
      "execution_count": 5,
      "outputs": [
        {
          "output_type": "execute_result",
          "data": {
            "text/plain": [
              "['Benitez',\n",
              " 'Banguero',\n",
              " 'Ferreira',\n",
              " 'Bustos',\n",
              " 'Contreras',\n",
              " 'Sanchez',\n",
              " 'Gomez',\n",
              " 'Bedoya',\n",
              " 'Rodriguez',\n",
              " 'Torres',\n",
              " 'Martinez']"
            ]
          },
          "metadata": {},
          "execution_count": 5
        }
      ]
    },
    {
      "cell_type": "code",
      "source": [
        "goles"
      ],
      "metadata": {
        "colab": {
          "base_uri": "https://localhost:8080/"
        },
        "id": "dSB-u9sxmTyA",
        "outputId": "2bed8daa-466e-4046-bf16-dff6e6283d1b"
      },
      "execution_count": 6,
      "outputs": [
        {
          "output_type": "execute_result",
          "data": {
            "text/plain": [
              "[6, 2, 5, 6, 2, 2, 4, 1, 3, 0, 13]"
            ]
          },
          "metadata": {},
          "execution_count": 6
        }
      ]
    },
    {
      "cell_type": "code",
      "source": [
        "#Averiguemos cual fue la cantidad mayor y menor de goles\n",
        "min=goles[0] #Valores iniciales y supuestos\n",
        "max=goles[0] #Valores iniciales y supuestos\n",
        "\n",
        "for i in goles:\n",
        "  if i>max:\n",
        "    max=i\n",
        "  if i<min:\n",
        "    min=i\n",
        "\n",
        "max,min"
      ],
      "metadata": {
        "colab": {
          "base_uri": "https://localhost:8080/"
        },
        "id": "K3_U8J3ImiLG",
        "outputId": "25e11b72-dea4-4bec-cae8-335e54e4bc89"
      },
      "execution_count": 8,
      "outputs": [
        {
          "output_type": "execute_result",
          "data": {
            "text/plain": [
              "(13, 0)"
            ]
          },
          "metadata": {},
          "execution_count": 8
        }
      ]
    },
    {
      "cell_type": "code",
      "source": [
        "#Ahora verifiquemos quien hizo menos y mas goles a través de sus index (Indice o posición)\n",
        "\n",
        "indiceMayor=goles.index(max)\n",
        "indiceMenor=goles.index(min)\n",
        "\n",
        "indiceMayor, indiceMenor"
      ],
      "metadata": {
        "colab": {
          "base_uri": "https://localhost:8080/"
        },
        "id": "Pt4BE_mDoEjp",
        "outputId": "47d6f2a2-5671-4aed-e556-225be5d04dc4"
      },
      "execution_count": 9,
      "outputs": [
        {
          "output_type": "execute_result",
          "data": {
            "text/plain": [
              "(10, 9)"
            ]
          },
          "metadata": {},
          "execution_count": 9
        }
      ]
    },
    {
      "cell_type": "code",
      "source": [
        "respuesta={\"mayor goleador\":{goleadores[indiceMayor]:goles[indiceMayor]},\"menor goleador\":{goleadores[indiceMenor]:goles[indiceMenor]}}"
      ],
      "metadata": {
        "id": "JsrmkZRjop5S"
      },
      "execution_count": 12,
      "outputs": []
    },
    {
      "cell_type": "code",
      "source": [
        "respuesta"
      ],
      "metadata": {
        "colab": {
          "base_uri": "https://localhost:8080/"
        },
        "id": "iwdZiQa7pWxN",
        "outputId": "acec294f-9479-421a-8ee8-c0fb7ef3aa2a"
      },
      "execution_count": 13,
      "outputs": [
        {
          "output_type": "execute_result",
          "data": {
            "text/plain": [
              "{'mayor goleador': {'Martinez': 13}, 'menor goleador': {'Torres': 0}}"
            ]
          },
          "metadata": {},
          "execution_count": 13
        }
      ]
    },
    {
      "cell_type": "code",
      "source": [
        "respuesta=dict(respuesta,**dicc)\n",
        "respuesta"
      ],
      "metadata": {
        "colab": {
          "base_uri": "https://localhost:8080/"
        },
        "id": "HspH1KPPpwoh",
        "outputId": "6ffbd2b3-e871-4587-8bc3-55f009945069"
      },
      "execution_count": 14,
      "outputs": [
        {
          "output_type": "execute_result",
          "data": {
            "text/plain": [
              "{'mayor goleador': {'Martinez': 13},\n",
              " 'menor goleador': {'Torres': 0},\n",
              " 'Benitez': 6,\n",
              " 'Banguero': 2,\n",
              " 'Ferreira': 5,\n",
              " 'Bustos': 6,\n",
              " 'Contreras': 2,\n",
              " 'Sanchez': 2,\n",
              " 'Gomez': 4,\n",
              " 'Bedoya': 1,\n",
              " 'Rodriguez': 3,\n",
              " 'Torres': 0,\n",
              " 'Martinez': 13}"
            ]
          },
          "metadata": {},
          "execution_count": 14
        }
      ]
    },
    {
      "cell_type": "code",
      "source": [
        "#lo volvimos una función\n",
        "def equipoFutbol(listaConGoles):\n",
        "  jugadores=[\"Benitez\",\"Banguero\",\"Ferreira\",\"Bustos\",\"Contreras\",\"Sanchez\",\"Gomez\",\"Bedoya\",\"Rodriguez\",\"Torres\",\"Martinez\"]\n",
        "  dicc={}\n",
        "  #Agarramos cada jugador habilitado para meter goles\n",
        "  for i in range(len(jugadores)):\n",
        "    contador=0\n",
        "    #Tratamos de encontrar a esos jugados en la lista donde se registraron los goles\n",
        "    for j in range(len(listaConGoles)):\n",
        "      if jugadores[i]==listaConGoles[j]:\n",
        "        contador=contador+int(listaConGoles[j+1])\n",
        "    dicc[jugadores[i]]=contador\n",
        "\n",
        "  #Separamos los keys y los values en dos listas \n",
        "  goleadores=list(dicc.keys())\n",
        "  goles=list(dicc.values())\n",
        "\n",
        "  #buscamos los minimos goles y los maximos goles\n",
        "  min=goles[0] #Valores iniciales y supuestos\n",
        "  max=goles[0] #Valores iniciales y supuestos\n",
        "  for i in goles:\n",
        "    if i>max:\n",
        "      max=i\n",
        "    if i<min:\n",
        "      min=i\n",
        "\n",
        "  #Buscamos los indices para con ellos, buscar a los responsables de los goles en la otra lista\n",
        "  indiceMayor=goles.index(max)\n",
        "  indiceMenor=goles.index(min)\n",
        "\n",
        "  #Empezamos a formar el diccionario respuesta\n",
        "  respuesta={\"mayor goleador\":{goleadores[indiceMayor]:goles[indiceMayor]},\"menor goleador\":{goleadores[indiceMenor]:goles[indiceMenor]}}\n",
        "  \n",
        "  #Lo combinamos con el otro diccionario encontrado\n",
        "  respuesta=dict(respuesta,**dicc)\n",
        "  return respuesta"
      ],
      "metadata": {
        "id": "HgK7rpDAqK0r"
      },
      "execution_count": 15,
      "outputs": []
    },
    {
      "cell_type": "code",
      "source": [
        "listaConGoles=[\"Benitez\",\"5\",\"Gomez\",\"13\",\"Banguero\",\"2\",\"Torres\",\"7\",\"Ferreira\",\"4\",\"Bustos\",\"6\",\"Contreras\",\"1\",\"Sanchez\",\"2\",\"Martinez\",\"8\", \"Ferreira\",\"1\",\"Gomez\",\"2\",\"Rodriguez\",\"1\",\"Benitez\",\"1\",\"Contreras\",\"1\"]"
      ],
      "metadata": {
        "id": "eob_9EUBrC2J"
      },
      "execution_count": 19,
      "outputs": []
    },
    {
      "cell_type": "code",
      "source": [
        "equipoFutbol(listaConGoles)"
      ],
      "metadata": {
        "colab": {
          "base_uri": "https://localhost:8080/"
        },
        "id": "zsdmHwnPrWrB",
        "outputId": "3a1b65b9-6cf5-44d2-aa5e-6fd349b38ef4"
      },
      "execution_count": 20,
      "outputs": [
        {
          "output_type": "execute_result",
          "data": {
            "text/plain": [
              "{'mayor goleador': {'Gomez': 15},\n",
              " 'menor goleador': {'Bedoya': 0},\n",
              " 'Benitez': 6,\n",
              " 'Banguero': 2,\n",
              " 'Ferreira': 5,\n",
              " 'Bustos': 6,\n",
              " 'Contreras': 2,\n",
              " 'Sanchez': 2,\n",
              " 'Gomez': 15,\n",
              " 'Bedoya': 0,\n",
              " 'Rodriguez': 1,\n",
              " 'Torres': 7,\n",
              " 'Martinez': 8}"
            ]
          },
          "metadata": {},
          "execution_count": 20
        }
      ]
    }
  ]
}