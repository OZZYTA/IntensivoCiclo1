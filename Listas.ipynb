{
  "nbformat": 4,
  "nbformat_minor": 0,
  "metadata": {
    "colab": {
      "provenance": [],
      "collapsed_sections": [],
      "include_colab_link": true
    },
    "kernelspec": {
      "name": "python3",
      "display_name": "Python 3"
    },
    "language_info": {
      "name": "python"
    }
  },
  "cells": [
    {
      "cell_type": "markdown",
      "metadata": {
        "id": "view-in-github",
        "colab_type": "text"
      },
      "source": [
        "<a href=\"https://colab.research.google.com/github/OZZYTA/IntensivoCiclo1/blob/main/Listas.ipynb\" target=\"_parent\"><img src=\"https://colab.research.google.com/assets/colab-badge.svg\" alt=\"Open In Colab\"/></a>"
      ]
    },
    {
      "cell_type": "markdown",
      "metadata": {
        "id": "ZYHHmC-4YbXg"
      },
      "source": [
        "## Estructuras de datos en Python"
      ]
    },
    {
      "cell_type": "markdown",
      "metadata": {
        "id": "HnnjcxGuYgnf"
      },
      "source": [
        "**Listas**"
      ]
    },
    {
      "cell_type": "code",
      "source": [
        "comidas=[\"Pasta\", \"Hamburguesa\",\"Carne\",\"Pizza\"]  #lista de comidas\n",
        "comidas"
      ],
      "metadata": {
        "colab": {
          "base_uri": "https://localhost:8080/"
        },
        "id": "OfECntExPtNX",
        "outputId": "d7e486df-4f17-485d-8f09-44534503ddbb"
      },
      "execution_count": 1,
      "outputs": [
        {
          "output_type": "execute_result",
          "data": {
            "text/plain": [
              "['Pasta', 'Hamburguesa', 'Carne', 'Pizza']"
            ]
          },
          "metadata": {},
          "execution_count": 1
        }
      ]
    },
    {
      "cell_type": "code",
      "source": [
        "numerosPares=[2,4,6,8,10,12,14]\n",
        "numerosPares"
      ],
      "metadata": {
        "colab": {
          "base_uri": "https://localhost:8080/"
        },
        "id": "ogZ1vVtjP45y",
        "outputId": "6567c6ac-fe61-49a5-8640-08a6fa60bca4"
      },
      "execution_count": 2,
      "outputs": [
        {
          "output_type": "execute_result",
          "data": {
            "text/plain": [
              "[2, 4, 6, 8, 10, 12, 14]"
            ]
          },
          "metadata": {},
          "execution_count": 2
        }
      ]
    },
    {
      "cell_type": "code",
      "source": [
        "for plato in comidas:\n",
        "  print(plato)"
      ],
      "metadata": {
        "colab": {
          "base_uri": "https://localhost:8080/"
        },
        "id": "IwZjSORLQAV9",
        "outputId": "dc8f3460-f424-4598-f48c-1593c95bf4e5"
      },
      "execution_count": 3,
      "outputs": [
        {
          "output_type": "stream",
          "name": "stdout",
          "text": [
            "Pasta\n",
            "Hamburguesa\n",
            "Carne\n",
            "Pizza\n"
          ]
        }
      ]
    },
    {
      "cell_type": "code",
      "source": [
        "for numero in numerosPares:\n",
        "  print(numero)"
      ],
      "metadata": {
        "colab": {
          "base_uri": "https://localhost:8080/"
        },
        "id": "qvXGVHeuQGib",
        "outputId": "48c40d66-eba0-4b66-d861-43ddab8047ed"
      },
      "execution_count": 4,
      "outputs": [
        {
          "output_type": "stream",
          "name": "stdout",
          "text": [
            "2\n",
            "4\n",
            "6\n",
            "8\n",
            "10\n",
            "12\n",
            "14\n"
          ]
        }
      ]
    },
    {
      "cell_type": "code",
      "source": [
        "print(\"Este es el segundo plato de mi menu: \")\n",
        "print(comidas[1])"
      ],
      "metadata": {
        "colab": {
          "base_uri": "https://localhost:8080/"
        },
        "id": "Uh9uvbIBQehf",
        "outputId": "51eb161d-44c2-4646-ea84-b7587aeda416"
      },
      "execution_count": 5,
      "outputs": [
        {
          "output_type": "stream",
          "name": "stdout",
          "text": [
            "Este es el segundo plato de mi menu: \n",
            "Hamburguesa\n"
          ]
        }
      ]
    },
    {
      "cell_type": "code",
      "source": [
        "comidas.index(\"Carne\")"
      ],
      "metadata": {
        "colab": {
          "base_uri": "https://localhost:8080/"
        },
        "id": "2RmiYA3cQuom",
        "outputId": "79535dda-03cb-494c-c3ca-144ff124b3e2"
      },
      "execution_count": 6,
      "outputs": [
        {
          "output_type": "execute_result",
          "data": {
            "text/plain": [
              "2"
            ]
          },
          "metadata": {},
          "execution_count": 6
        }
      ]
    },
    {
      "cell_type": "code",
      "source": [
        "comidas[-1]"
      ],
      "metadata": {
        "colab": {
          "base_uri": "https://localhost:8080/",
          "height": 36
        },
        "id": "sERp8n_mQ5A6",
        "outputId": "9c8b3c3c-11ef-49f1-91c5-d55f886c4667"
      },
      "execution_count": 7,
      "outputs": [
        {
          "output_type": "execute_result",
          "data": {
            "text/plain": [
              "'Pizza'"
            ],
            "application/vnd.google.colaboratory.intrinsic+json": {
              "type": "string"
            }
          },
          "metadata": {},
          "execution_count": 7
        }
      ]
    },
    {
      "cell_type": "code",
      "source": [
        "len(comidas)"
      ],
      "metadata": {
        "colab": {
          "base_uri": "https://localhost:8080/"
        },
        "id": "vbyDlsrPQ830",
        "outputId": "529ee0d2-21bf-4d82-d7fa-b1a067e7c8fa"
      },
      "execution_count": 9,
      "outputs": [
        {
          "output_type": "execute_result",
          "data": {
            "text/plain": [
              "4"
            ]
          },
          "metadata": {},
          "execution_count": 9
        }
      ]
    },
    {
      "cell_type": "code",
      "source": [
        "#agregar elementos a una lista con append\n",
        "comidas.append(\"Perro Caliente\")"
      ],
      "metadata": {
        "id": "Ll-5FPqXRKAq"
      },
      "execution_count": 10,
      "outputs": []
    },
    {
      "cell_type": "code",
      "source": [
        "comidas"
      ],
      "metadata": {
        "colab": {
          "base_uri": "https://localhost:8080/"
        },
        "id": "V_uJuaboRPLG",
        "outputId": "2aeafa66-584f-4efa-8cdc-4a4bd2afe9da"
      },
      "execution_count": 11,
      "outputs": [
        {
          "output_type": "execute_result",
          "data": {
            "text/plain": [
              "['Pasta', 'Hamburguesa', 'Carne', 'Pizza', 'Perro Caliente']"
            ]
          },
          "metadata": {},
          "execution_count": 11
        }
      ]
    },
    {
      "cell_type": "code",
      "source": [
        "#funcion que agrega platos nuevos a mi lista\n",
        "def agregarPlato(comidas):\n",
        "  platoNuevo=input(\"Por favor ingresa el plato que quieres registrar en el menú: \")\n",
        "  comidas.append(platoNuevo)"
      ],
      "metadata": {
        "id": "JwCrG3QdRUES"
      },
      "execution_count": 13,
      "outputs": []
    },
    {
      "cell_type": "code",
      "source": [
        "agregarPlato(comidas)"
      ],
      "metadata": {
        "colab": {
          "base_uri": "https://localhost:8080/"
        },
        "id": "haJheT-7Rr4z",
        "outputId": "73d69de0-b25d-490c-9990-ac8c134c6da3"
      },
      "execution_count": 14,
      "outputs": [
        {
          "name": "stdout",
          "output_type": "stream",
          "text": [
            "Por favor ingresa el plato que quieres registrar en el menú: Sancocho\n"
          ]
        }
      ]
    },
    {
      "cell_type": "code",
      "source": [
        "comidas"
      ],
      "metadata": {
        "colab": {
          "base_uri": "https://localhost:8080/"
        },
        "id": "yYNLX9suRzGu",
        "outputId": "f1ffac66-a145-423f-a884-ede39de1105e"
      },
      "execution_count": 15,
      "outputs": [
        {
          "output_type": "execute_result",
          "data": {
            "text/plain": [
              "['Pasta', 'Hamburguesa', 'Carne', 'Pizza', 'Perro Caliente', 'Sancocho']"
            ]
          },
          "metadata": {},
          "execution_count": 15
        }
      ]
    },
    {
      "cell_type": "code",
      "source": [
        "comidas.insert(0,\"Arroz con Pollo\")\n",
        "comidas"
      ],
      "metadata": {
        "colab": {
          "base_uri": "https://localhost:8080/"
        },
        "id": "QYevoT5cRzPP",
        "outputId": "16a2de31-6979-4b0b-f008-d67782210f44"
      },
      "execution_count": 16,
      "outputs": [
        {
          "output_type": "execute_result",
          "data": {
            "text/plain": [
              "['Arroz con Pollo',\n",
              " 'Pasta',\n",
              " 'Hamburguesa',\n",
              " 'Carne',\n",
              " 'Pizza',\n",
              " 'Perro Caliente',\n",
              " 'Sancocho']"
            ]
          },
          "metadata": {},
          "execution_count": 16
        }
      ]
    },
    {
      "cell_type": "code",
      "source": [
        "comidas.insert(10,\"Arroz con Pollo\")\n",
        "comidas"
      ],
      "metadata": {
        "colab": {
          "base_uri": "https://localhost:8080/"
        },
        "id": "-po8jcL5Sqwa",
        "outputId": "d80b75c9-e231-4ce9-deb8-7db6be6b5224"
      },
      "execution_count": 19,
      "outputs": [
        {
          "output_type": "execute_result",
          "data": {
            "text/plain": [
              "['Arroz con Pollo',\n",
              " 'Pasta',\n",
              " 'Hamburguesa',\n",
              " 'Carne',\n",
              " 'Pizza',\n",
              " 'Perro Caliente',\n",
              " 'Sancocho',\n",
              " 'Arroz con Pollo']"
            ]
          },
          "metadata": {},
          "execution_count": 19
        }
      ]
    },
    {
      "cell_type": "code",
      "source": [
        "comidas.pop(7)\n",
        "comidas"
      ],
      "metadata": {
        "colab": {
          "base_uri": "https://localhost:8080/"
        },
        "id": "8tXs2UOSS7G-",
        "outputId": "6c835f4b-2b20-4f4e-f6fb-34d06f62560a"
      },
      "execution_count": 18,
      "outputs": [
        {
          "output_type": "execute_result",
          "data": {
            "text/plain": [
              "['Arroz con Pollo',\n",
              " 'Pasta',\n",
              " 'Hamburguesa',\n",
              " 'Carne',\n",
              " 'Pizza',\n",
              " 'Perro Caliente',\n",
              " 'Sancocho']"
            ]
          },
          "metadata": {},
          "execution_count": 18
        }
      ]
    },
    {
      "cell_type": "code",
      "source": [
        "comidas.remove(\"Arroz con Pollo\")\n",
        "comidas"
      ],
      "metadata": {
        "colab": {
          "base_uri": "https://localhost:8080/"
        },
        "id": "nu2GX9dYTIkk",
        "outputId": "c52b8dcb-c346-4251-d59e-24250620b815"
      },
      "execution_count": 20,
      "outputs": [
        {
          "output_type": "execute_result",
          "data": {
            "text/plain": [
              "['Pasta',\n",
              " 'Hamburguesa',\n",
              " 'Carne',\n",
              " 'Pizza',\n",
              " 'Perro Caliente',\n",
              " 'Sancocho',\n",
              " 'Arroz con Pollo']"
            ]
          },
          "metadata": {},
          "execution_count": 20
        }
      ]
    },
    {
      "cell_type": "markdown",
      "metadata": {
        "id": "QvhJyne_ZK5Q"
      },
      "source": [
        "**Lista de Listas**"
      ]
    },
    {
      "cell_type": "code",
      "source": [
        "equipos=[[\"Fran\",\"Carlos\",\"Maria\"],[\"Juan\",\"José\",\"Pedro\"],[\"Diego\",\"Luisa\",\"Carolina\"]]"
      ],
      "metadata": {
        "id": "EkXXt39WTxlR"
      },
      "execution_count": 21,
      "outputs": []
    },
    {
      "cell_type": "code",
      "source": [
        "for equipo in equipos:\n",
        "  print(equipo)"
      ],
      "metadata": {
        "colab": {
          "base_uri": "https://localhost:8080/"
        },
        "id": "TMSZYv0pUGet",
        "outputId": "002be7e2-bb55-4aba-cfe7-3cbca46eb8f4"
      },
      "execution_count": 22,
      "outputs": [
        {
          "output_type": "stream",
          "name": "stdout",
          "text": [
            "['Fran', 'Carlos', 'Maria']\n",
            "['Juan', 'José', 'Pedro']\n",
            "['Diego', 'Luisa', 'Carolina']\n"
          ]
        }
      ]
    },
    {
      "cell_type": "code",
      "source": [
        "print(\"El segundo miembre de mi tercer equipo se llama: \")\n",
        "print(equipos[2][1])"
      ],
      "metadata": {
        "colab": {
          "base_uri": "https://localhost:8080/"
        },
        "id": "lbDtOiDQUOj-",
        "outputId": "27f2616d-1e31-4d6f-90ac-ace8f478c53c"
      },
      "execution_count": 23,
      "outputs": [
        {
          "output_type": "stream",
          "name": "stdout",
          "text": [
            "El segundo miembre de mi tercer equipo se llama: \n",
            "Luisa\n"
          ]
        }
      ]
    },
    {
      "cell_type": "markdown",
      "metadata": {
        "id": "LpE7er3uvxx7"
      },
      "source": [
        "**Diccionario de Listas**"
      ]
    },
    {
      "cell_type": "code",
      "source": [
        "equipos={\"Tigres\":[\"Frank\",\"Claudia\",\"Carlos\"],\n",
        "         \"Diablos\":[\"Jorge\",\"Diana\",\"Luis\"],\n",
        "         \"Lobos\":[\"Alejandro\",\"Paola\",\"Yenny\"]}\n",
        "\n",
        "#diccionario={key:value, key:value, key:value ....... key:value}"
      ],
      "metadata": {
        "id": "m8j1LqD5UswR"
      },
      "execution_count": 24,
      "outputs": []
    },
    {
      "cell_type": "code",
      "source": [
        "for nombreEquipo in equipos:\n",
        "  print(nombreEquipo, equipos[nombreEquipo])"
      ],
      "metadata": {
        "colab": {
          "base_uri": "https://localhost:8080/"
        },
        "id": "15sZ1_NvV-5k",
        "outputId": "3025154c-dde0-4756-8ff3-e3b59393ab40"
      },
      "execution_count": 28,
      "outputs": [
        {
          "output_type": "stream",
          "name": "stdout",
          "text": [
            "Tigres ['Frank', 'Claudia', 'Carlos']\n",
            "Diablos ['Jorge', 'Diana', 'Luis']\n",
            "Lobos ['Alejandro', 'Paola', 'Yenny']\n"
          ]
        }
      ]
    },
    {
      "cell_type": "code",
      "source": [
        "print(\"Estos son los miembros del equipo Tigres: \")\n",
        "print(equipos[\"Tigres\"])"
      ],
      "metadata": {
        "colab": {
          "base_uri": "https://localhost:8080/"
        },
        "id": "rNIwDDbcWrsg",
        "outputId": "ad23ef01-1fc5-498c-d4cf-647c72895b04"
      },
      "execution_count": 29,
      "outputs": [
        {
          "output_type": "stream",
          "name": "stdout",
          "text": [
            "Estos son los miembros del equipo Tigres: \n",
            "['Frank', 'Claudia', 'Carlos']\n"
          ]
        }
      ]
    },
    {
      "cell_type": "code",
      "source": [
        "print(\"Estos son los miembros del equipo Lobos: \")\n",
        "print(equipos[\"Lobos\"])"
      ],
      "metadata": {
        "colab": {
          "base_uri": "https://localhost:8080/"
        },
        "id": "gocpodgVXCY9",
        "outputId": "57807ed5-2a79-4b7c-f043-80a3470daee8"
      },
      "execution_count": 30,
      "outputs": [
        {
          "output_type": "stream",
          "name": "stdout",
          "text": [
            "Estos son los miembros del equipo Lobos: \n",
            "['Alejandro', 'Paola', 'Yenny']\n"
          ]
        }
      ]
    },
    {
      "cell_type": "code",
      "source": [
        "equipos[\"Bufalos\"]=[\"Tatiana\",\"Tomas\",\"Teresa\"]\n",
        "equipos"
      ],
      "metadata": {
        "colab": {
          "base_uri": "https://localhost:8080/"
        },
        "id": "qdJsJWbFXL_Q",
        "outputId": "20c7fc84-672d-4d41-b8d2-1b54eeed6eb1"
      },
      "execution_count": 31,
      "outputs": [
        {
          "output_type": "execute_result",
          "data": {
            "text/plain": [
              "{'Tigres': ['Frank', 'Claudia', 'Carlos'],\n",
              " 'Diablos': ['Jorge', 'Diana', 'Luis'],\n",
              " 'Lobos': ['Alejandro', 'Paola', 'Yenny'],\n",
              " 'Bufalos': ['Tatiana', 'Tomas', 'Teresa']}"
            ]
          },
          "metadata": {},
          "execution_count": 31
        }
      ]
    },
    {
      "cell_type": "code",
      "source": [
        "diablos=equipos[\"Diablos\"]\n",
        "diablos"
      ],
      "metadata": {
        "colab": {
          "base_uri": "https://localhost:8080/"
        },
        "id": "09rZLAH8Xb9f",
        "outputId": "5ec7c03c-8de1-4831-8f4d-c4d8f2542d5e"
      },
      "execution_count": 32,
      "outputs": [
        {
          "output_type": "execute_result",
          "data": {
            "text/plain": [
              "['Jorge', 'Diana', 'Luis']"
            ]
          },
          "metadata": {},
          "execution_count": 32
        }
      ]
    },
    {
      "cell_type": "code",
      "source": [
        "diablos[2]"
      ],
      "metadata": {
        "colab": {
          "base_uri": "https://localhost:8080/",
          "height": 36
        },
        "id": "yd774nzjXsg7",
        "outputId": "13827f28-5bfd-47db-91cc-9e505294393a"
      },
      "execution_count": 34,
      "outputs": [
        {
          "output_type": "execute_result",
          "data": {
            "text/plain": [
              "'Luis'"
            ],
            "application/vnd.google.colaboratory.intrinsic+json": {
              "type": "string"
            }
          },
          "metadata": {},
          "execution_count": 34
        }
      ]
    },
    {
      "cell_type": "markdown",
      "metadata": {
        "id": "kb3XovCABcfL"
      },
      "source": [
        "**Ejercicios**\n",
        "\n",
        "1. Desarrollar un programa que solicite un número N y capture dos listas de números de tamaño N y devuelva:\n",
        "\n",
        "    -La suma de las dos listas.\n",
        "\n",
        "    -El producto de las dos listas.\n",
        "\n",
        "2. Cree un programa que solicite el nNombre, DNI, celular y correo electrónico de N clientes y organice estos datos en un diccionario indexado por la identificación. El programa debe permitir buscar los datos de una persona ingresando cualquiera de estos datos."
      ]
    }
  ]
}