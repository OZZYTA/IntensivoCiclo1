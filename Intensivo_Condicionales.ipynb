{
  "nbformat": 4,
  "nbformat_minor": 0,
  "metadata": {
    "colab": {
      "provenance": [],
      "collapsed_sections": [],
      "include_colab_link": true
    },
    "kernelspec": {
      "name": "python3",
      "display_name": "Python 3"
    }
  },
  "cells": [
    {
      "cell_type": "markdown",
      "metadata": {
        "id": "view-in-github",
        "colab_type": "text"
      },
      "source": [
        "<a href=\"https://colab.research.google.com/github/OZZYTA/IntensivoCiclo1/blob/main/Intensivo_Condicionales.ipynb\" target=\"_parent\"><img src=\"https://colab.research.google.com/assets/colab-badge.svg\" alt=\"Open In Colab\"/></a>"
      ]
    },
    {
      "cell_type": "markdown",
      "metadata": {
        "id": "JquMCVdA2g2C"
      },
      "source": [
        "**Lección 3: Condicionales**"
      ]
    },
    {
      "cell_type": "markdown",
      "metadata": {
        "id": "mj1iApMV3BMx"
      },
      "source": [
        "Ejemplo 1: If Simple"
      ]
    },
    {
      "cell_type": "code",
      "source": [
        "##Pasè matematicas?\n",
        "\n",
        "nota=float(input(\"ingresa por favor tu nota final: \"))\n",
        "if nota>=3:\n",
        "  print(\"Si pasaste la materia\")\n",
        "else:\n",
        "  print(\"No pasaste\")"
      ],
      "metadata": {
        "colab": {
          "base_uri": "https://localhost:8080/"
        },
        "id": "_CTwj71VojhY",
        "outputId": "edd99e05-7939-4295-d96e-0a83c1ac2c9b"
      },
      "execution_count": null,
      "outputs": [
        {
          "output_type": "stream",
          "name": "stdout",
          "text": [
            "ingresa por favor tu nota final: 8\n",
            "Si pasaste la materia\n"
          ]
        }
      ]
    },
    {
      "cell_type": "code",
      "source": [],
      "metadata": {
        "colab": {
          "base_uri": "https://localhost:8080/"
        },
        "id": "1lRGUYj4pusE",
        "outputId": "45b45965-f1f0-4d4a-b443-db8e443f0977"
      },
      "execution_count": null,
      "outputs": [
        {
          "output_type": "stream",
          "name": "stdout",
          "text": [
            "ingresa por favor tu nota final: 4\n",
            "Si pasaste la materia\n"
          ]
        }
      ]
    },
    {
      "cell_type": "markdown",
      "metadata": {
        "id": "tSgI21bi4b46"
      },
      "source": [
        "Ejemplo 2: if...else"
      ]
    },
    {
      "cell_type": "code",
      "source": [
        "edad=int(input(\"ingresa tu edad: \"))\n",
        "if edad>=18:\n",
        "  print(\"Eres mayor de edad\")\n",
        "else: \n",
        "  print(\"Eres menor de edad\")"
      ],
      "metadata": {
        "id": "lUadnmDDrLtm"
      },
      "execution_count": null,
      "outputs": []
    },
    {
      "cell_type": "markdown",
      "metadata": {
        "id": "U36rg8x149u7"
      },
      "source": [
        "Ejemplo 3: if...elif (else if)"
      ]
    },
    {
      "cell_type": "code",
      "source": [
        "#if, elif, elif, elif... else (Son mutuamente excluyentes)\n",
        "edad=int(input(\"Ingresa por favor tu edad: \"))\n",
        "if edad<=12 and edad>0:\n",
        "  print(\"Eres un niño\")\n",
        "elif edad>12 and edad<18:\n",
        "  print(\"Eres un adolescente\")\n",
        "elif edad>=18 and edad<55:\n",
        "  print(\"Eres un adulto\")\n",
        "else:\n",
        "  print(\"Eres un adulto mayor\")"
      ],
      "metadata": {
        "colab": {
          "base_uri": "https://localhost:8080/"
        },
        "id": "0Z7tkgDwrbls",
        "outputId": "4a8f794c-4efe-49e6-f32a-b0a91412815b"
      },
      "execution_count": null,
      "outputs": [
        {
          "output_type": "stream",
          "name": "stdout",
          "text": [
            "Ingresa por favor tu edad: 75\n",
            "Eres un adulto mayor\n"
          ]
        }
      ]
    },
    {
      "cell_type": "code",
      "source": [
        "# if, if, if, if, else  (no son mutualmente excluyentes (casi))\n",
        "\n",
        "numero= int(input(\"Ingresa por favor un numero entero: \"))\n",
        "\n",
        "if numero>=0:\n",
        "  print(\"El numero es positivo\")\n",
        "if numero%2==0:\n",
        "  print(\"El numero es par\")\n",
        "if numero%3==0:\n",
        "  print(\"El numero es multipo de 3\")\n",
        "else: #Relacionado con el ultimo if\n",
        "  print(\"No soy multiplo de 3\")"
      ],
      "metadata": {
        "colab": {
          "base_uri": "https://localhost:8080/"
        },
        "id": "pjA2ra2Zs3zq",
        "outputId": "19fc1657-1f02-4625-9c94-cac3d7dbdc7c"
      },
      "execution_count": null,
      "outputs": [
        {
          "output_type": "stream",
          "name": "stdout",
          "text": [
            "Ingresa por favor un numero entero: 9\n",
            "El numero es positivo\n",
            "El numero es multipo de 3\n"
          ]
        }
      ]
    },
    {
      "cell_type": "markdown",
      "metadata": {
        "id": "KJ5Hjx31mFXG"
      },
      "source": [
        "Ejemplo 4: if...elif...else"
      ]
    },
    {
      "cell_type": "code",
      "source": [
        "nota=float(input(\"ingresa por favor tu nota final: \"))\n",
        "if nota>5 or nota<0:\n",
        "  print(\"Ingresa una nota valida\")\n",
        "elif nota>=3:\n",
        "  print(\"Si pasaste la materia\")\n",
        "else:\n",
        "  print(\"No pasaste\")"
      ],
      "metadata": {
        "id": "4uPb3i9oupnn"
      },
      "execution_count": null,
      "outputs": []
    },
    {
      "cell_type": "markdown",
      "metadata": {
        "id": "up-H9EAhDmkO"
      },
      "source": [
        "Ejemplo 5: if anidado"
      ]
    },
    {
      "cell_type": "code",
      "source": [
        "from IPython.core.display import clear_output\n",
        "\n",
        "print(\"\"\"Selecciona una opción de merienda:\\n\n",
        "a. Desayuno\\n\n",
        "b. Almuerzo\\n\n",
        "c. Cena\"\"\")\n",
        "\n",
        "merienda=input(\"\\nCual es su elección: \").lower()\n",
        "\n",
        "if merienda==\"a\":\n",
        "  print(\"Que desea beber?\\n a. Chocolate\\n b. Cafe\\n c. Jugo\")\n",
        "  bebida=input(\"\\nCual es su elección: \").lower()\n",
        "  clear_output()\n",
        "  if bebida==\"a\":\n",
        "    print(\"Ud desayunara con chocolate\")\n",
        "  elif bebida==\"b\":\n",
        "    print(\"Ud desayunara con cafe\")\n",
        "  else: \n",
        "    print(\"Ud desayunará con Jugo\")\n",
        "\n",
        "elif merienda==\"b\":\n",
        "  print(\"Que desea beber?\\n a. Jugo \\n b. Gaseosa\\n c. Cerveza\")\n",
        "  bebida=input(\"\\nCual es su elección: \").lower()\n",
        "  clear_output()\n",
        "  if bebida==\"a\":\n",
        "    print(\"Ud almorazará con jugo\")\n",
        "  elif bebida==\"b\":\n",
        "    print(\"Ud almozará con gaseosa\")\n",
        "  else:\n",
        "    print(\"Ud almorzará con cerveza\")\n",
        "\n",
        "else: \n",
        "  print(\"Que desea beber?\\n a. Vino\\n b. Soda\\n c. Agua\")\n",
        "  bebida=input(\"\\nCual es su elección: \").lower()\n",
        "  clear_output()\n",
        "  if bebida==\"a\":\n",
        "    print(\"Ud cenará con vino\")\n",
        "  elif bebida==\"b\":\n",
        "    print(\"Ud cenará con Soda\")\n",
        "  else:\n",
        "    print(\"Ud cenará con agua\")"
      ],
      "metadata": {
        "colab": {
          "base_uri": "https://localhost:8080/"
        },
        "id": "-2QefQUmT62e",
        "outputId": "fea6f93d-8c47-4d40-c957-b695ec0ea653"
      },
      "execution_count": 6,
      "outputs": [
        {
          "output_type": "stream",
          "name": "stdout",
          "text": [
            "Ud desayunara con cafe\n"
          ]
        }
      ]
    },
    {
      "cell_type": "code",
      "source": [
        "#Realice un ejercicio que, solicite dos numeros enteros al usuario y con base en ellos responda, cual numero es menor, y que caracteristicas tiene\n",
        "#par? impar? multiplo de 3? positivo o negativo?\n",
        "\n",
        "numero1=int(input(\"ingrese por favor el primer numero: \"))\n",
        "numero2=int(input(\"ingrese por favor el segundo numero: \"))\n",
        "#Primero buscamos el numero menor\n",
        "if numero1<numero2:\n",
        "  menor=numero1\n",
        "  clear_output()\n",
        "  print(\"El primer numero es el numero menor\\n\")\n",
        "else:\n",
        "  menor=numero2\n",
        "  clear_output()\n",
        "  print(\"El segundo numero es el numero menor\\n\")\n",
        "\n",
        "#Ya tenemos el numero menor, ahora busquemos sus caracteristicas\n",
        "if menor%2==0:\n",
        "  print(\"El numero es par\")\n",
        "else:\n",
        "  print(\"El numero es impar\")\n",
        "\n",
        "if menor%3==0:\n",
        "  print(\"El numero es multiplo de 3\")\n",
        "else:\n",
        "  print(\"El numero no es multiplo de 3\")\n",
        "\n",
        "if menor<0:\n",
        "  print(\"El numero es negativo\")\n",
        "else:\n",
        "  print(\"El numero es positivo\")"
      ],
      "metadata": {
        "colab": {
          "base_uri": "https://localhost:8080/"
        },
        "id": "ALtKA5d7aIsU",
        "outputId": "1beb7d01-6820-4fcb-df97-bc2e055901ff"
      },
      "execution_count": 10,
      "outputs": [
        {
          "output_type": "stream",
          "name": "stdout",
          "text": [
            "El numero es par\n",
            "El numero es multiplo de 3\n",
            "El numero es negativo\n"
          ]
        }
      ]
    },
    {
      "cell_type": "markdown",
      "metadata": {
        "id": "pVuSvo5pplT3"
      },
      "source": [
        "**Ejercicios de practica**"
      ]
    },
    {
      "cell_type": "markdown",
      "metadata": {
        "id": "-St6YsM4pnov"
      },
      "source": [
        "//Práctica y conversión\n",
        "\n",
        "1.   Solicite al usuario que ingrese dos números y muestre cuál de los dos es menor.\n",
        "2.   Crea un programa que solicite los tres lados de un triángulo e imprima si es equilátero, isósceles o escaleno.\n",
        "3. Solicitar tres calificaciones de un estudiante. Calcular la media de las notas. Si el promedio es mayor a 3, imprima 'Pass', de lo contrario, imprima 'Fail'.\n",
        "4. Solicite un número entre 1 y 7. Si el número no pertenece a este rango, el programa debería mostrar un mensaje de error. El programa debe imprimir el respectivo día de la semana; por ejemplo, si el usuario ingresa \"1\", el programa debe imprimir LUNES.\n",
        "\n"
      ]
    }
  ]
}