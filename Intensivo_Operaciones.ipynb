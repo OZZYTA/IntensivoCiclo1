{
  "nbformat": 4,
  "nbformat_minor": 0,
  "metadata": {
    "colab": {
      "provenance": [],
      "authorship_tag": "ABX9TyNQn2kFBnpQEEcjbO41Gznx",
      "include_colab_link": true
    },
    "kernelspec": {
      "name": "python3",
      "display_name": "Python 3"
    },
    "language_info": {
      "name": "python"
    }
  },
  "cells": [
    {
      "cell_type": "markdown",
      "metadata": {
        "id": "view-in-github",
        "colab_type": "text"
      },
      "source": [
        "<a href=\"https://colab.research.google.com/github/OZZYTA/IntensivoCiclo1/blob/main/Intensivo_Operaciones.ipynb\" target=\"_parent\"><img src=\"https://colab.research.google.com/assets/colab-badge.svg\" alt=\"Open In Colab\"/></a>"
      ]
    },
    {
      "cell_type": "markdown",
      "source": [
        "#Lección 2: Operaciones \n",
        "\n"
      ],
      "metadata": {
        "id": "WcG1cJiJ2Lzo"
      }
    },
    {
      "cell_type": "markdown",
      "source": [
        "**Suma**"
      ],
      "metadata": {
        "id": "M4DFlaSt2Uxt"
      }
    },
    {
      "cell_type": "code",
      "source": [
        "4+5"
      ],
      "metadata": {
        "colab": {
          "base_uri": "https://localhost:8080/"
        },
        "id": "LASnuxTObg8x",
        "outputId": "d4926ad3-ea3b-4041-e66d-5bc7388b9558"
      },
      "execution_count": 1,
      "outputs": [
        {
          "output_type": "execute_result",
          "data": {
            "text/plain": [
              "9"
            ]
          },
          "metadata": {},
          "execution_count": 1
        }
      ]
    },
    {
      "cell_type": "code",
      "source": [
        "numero1=5\n",
        "numero2=4\n",
        "suma=numero1+numero2\n",
        "suma"
      ],
      "metadata": {
        "colab": {
          "base_uri": "https://localhost:8080/"
        },
        "id": "AAdfnos0boqb",
        "outputId": "9dc24c32-3d96-4e5b-f0da-58fc6d29dc7e"
      },
      "execution_count": 2,
      "outputs": [
        {
          "output_type": "execute_result",
          "data": {
            "text/plain": [
              "9"
            ]
          },
          "metadata": {},
          "execution_count": 2
        }
      ]
    },
    {
      "cell_type": "code",
      "source": [
        "numero1=float(input(\"Ingrese por favor el primer numero a sumar: \"))\n",
        "numero2=float(input(\"Ingrese por favor el segundo numero: \"))\n",
        "suma=numero1+numero2\n",
        "print(round(suma,1)) #Round se usa para restringir decimales"
      ],
      "metadata": {
        "colab": {
          "base_uri": "https://localhost:8080/"
        },
        "id": "mexaiv18bwZE",
        "outputId": "87fa02fa-92b6-4536-fbef-3b3c9cf98f19"
      },
      "execution_count": 7,
      "outputs": [
        {
          "output_type": "stream",
          "name": "stdout",
          "text": [
            "Ingrese por favor el primer numero a sumar: 5.78\n",
            "Ingrese por favor el segundo numero: 6.888\n",
            "12.7\n"
          ]
        }
      ]
    },
    {
      "cell_type": "markdown",
      "source": [
        "**Resta**"
      ],
      "metadata": {
        "id": "elGU0xJc2ois"
      }
    },
    {
      "cell_type": "code",
      "source": [
        "numero1=float(input(\"Ingrese por favor el primer numero a restar: \"))\n",
        "numero2=float(input(\"Ingrese por favor el segundo numero: \"))\n",
        "resta=numero1-numero2\n",
        "print(round(resta,1)) "
      ],
      "metadata": {
        "colab": {
          "base_uri": "https://localhost:8080/"
        },
        "id": "sAuTPSe2dGTT",
        "outputId": "093b7933-34f5-4f61-c6ae-64a6ed719b2d"
      },
      "execution_count": 9,
      "outputs": [
        {
          "output_type": "stream",
          "name": "stdout",
          "text": [
            "Ingrese por favor el primer numero a restar: 6\n",
            "Ingrese por favor el segundo numero: 99\n",
            "-93.0\n"
          ]
        }
      ]
    },
    {
      "cell_type": "markdown",
      "source": [
        "**Multiplicación**"
      ],
      "metadata": {
        "id": "AmDSBRuo227A"
      }
    },
    {
      "cell_type": "code",
      "source": [
        "numero1=float(input(\"Ingrese por favor el primer numero a multiplicar: \"))\n",
        "numero2=float(input(\"Ingrese por favor el segundo numero: \"))\n",
        "multiplicacion=numero1*numero2\n",
        "print(round(multiplicacion,1)) "
      ],
      "metadata": {
        "colab": {
          "base_uri": "https://localhost:8080/"
        },
        "id": "9RT9e6RLdWd4",
        "outputId": "d4eae885-4232-42f7-92e5-da08abfbe923"
      },
      "execution_count": 10,
      "outputs": [
        {
          "output_type": "stream",
          "name": "stdout",
          "text": [
            "Ingrese por favor el primer numero a multiplicar: 9\n",
            "Ingrese por favor el segundo numero: 8\n",
            "72.0\n"
          ]
        }
      ]
    },
    {
      "cell_type": "markdown",
      "source": [
        "**División**"
      ],
      "metadata": {
        "id": "6Xm1g5xx3C8v"
      }
    },
    {
      "cell_type": "code",
      "source": [
        "dividendo=float(input(\"Ingrese por favor el dividendo: \"))\n",
        "divisor=float(input(\"Ingrese por favor el divisor: \"))\n",
        "\n",
        "if divisor==0:\n",
        "  print(\"No podemos dividir por 0, resultado indefinido\")\n",
        "else:\n",
        "  cociente=dividendo/divisor\n",
        "  print(\"Resultado es: \", round(cociente,2))"
      ],
      "metadata": {
        "colab": {
          "base_uri": "https://localhost:8080/"
        },
        "id": "TvtcbgQ7dk3p",
        "outputId": "68c64382-0548-446a-bf30-0e80d48c1553"
      },
      "execution_count": 17,
      "outputs": [
        {
          "output_type": "stream",
          "name": "stdout",
          "text": [
            "Ingrese por favor el dividendo: 8\n",
            "Ingrese por favor el divisor: 2\n",
            "Resultado es:  4.0\n"
          ]
        }
      ]
    },
    {
      "cell_type": "markdown",
      "source": [
        "**División** **Entera**"
      ],
      "metadata": {
        "id": "Q0HPoZHM4Mpn"
      }
    },
    {
      "cell_type": "code",
      "source": [
        "#Tenemos 19 pedazos de pizza en la fiesta y somos 9 invitados, cuantos pedazos enteros de pizza le toca a cada uno?\n",
        "\n",
        "pedazosPizza=19\n",
        "invitados=9\n",
        "\n",
        "pedazosEnteros=19//9\n",
        "pedazosEnteros"
      ],
      "metadata": {
        "colab": {
          "base_uri": "https://localhost:8080/"
        },
        "id": "hXrJjaS3eza1",
        "outputId": "3a325ffb-7a70-4843-f721-905d2711fa32"
      },
      "execution_count": 21,
      "outputs": [
        {
          "output_type": "execute_result",
          "data": {
            "text/plain": [
              "2"
            ]
          },
          "metadata": {},
          "execution_count": 21
        }
      ]
    },
    {
      "cell_type": "markdown",
      "source": [
        "**Modulo (resto) %**"
      ],
      "metadata": {
        "id": "UsmgeQPU4Zzv"
      }
    },
    {
      "cell_type": "code",
      "source": [
        "#Modulo (mod) verifica si existe o no un residuo\n",
        "\n",
        "residuo=20%3\n",
        "residuo"
      ],
      "metadata": {
        "colab": {
          "base_uri": "https://localhost:8080/"
        },
        "id": "rD1oh0xZfq6B",
        "outputId": "6541573d-3629-4735-c764-6d925bbf4907"
      },
      "execution_count": 25,
      "outputs": [
        {
          "output_type": "execute_result",
          "data": {
            "text/plain": [
              "2"
            ]
          },
          "metadata": {},
          "execution_count": 25
        }
      ]
    },
    {
      "cell_type": "code",
      "source": [
        "#Verifiquemos si un numero es par\n",
        "numero=int(input(\"Ingrese por favor el numero: \"))\n",
        "if numero%2==0:\n",
        "  print(\"El numero es par\")\n",
        "else:\n",
        "  print(\"El numero es impar\")"
      ],
      "metadata": {
        "colab": {
          "base_uri": "https://localhost:8080/"
        },
        "id": "V-fK5PeNgslA",
        "outputId": "35b1a6ae-e96d-4993-ea29-9194daad4ac4"
      },
      "execution_count": 26,
      "outputs": [
        {
          "output_type": "stream",
          "name": "stdout",
          "text": [
            "Ingrese por favor el numero: 15\n",
            "El numero es impar\n"
          ]
        }
      ]
    },
    {
      "cell_type": "code",
      "source": [
        "#Verifiquemos si un numero es multiplo de 7\n",
        "numero=int(input(\"Ingrese por favor el numero: \"))\n",
        "if numero%7==0:\n",
        "  print(\"El numero es multiplo de 7\")\n",
        "else:\n",
        "  print(\"El numero no es multiplo de 7\")"
      ],
      "metadata": {
        "colab": {
          "base_uri": "https://localhost:8080/"
        },
        "id": "DVLpamAUhK7f",
        "outputId": "3dbdf105-73e8-4feb-b043-f5a0e2b287bf"
      },
      "execution_count": 28,
      "outputs": [
        {
          "output_type": "stream",
          "name": "stdout",
          "text": [
            "Ingrese por favor el numero: 49\n",
            "El numero es multiplo de 7\n"
          ]
        }
      ]
    },
    {
      "cell_type": "markdown",
      "source": [
        "**Potenciación**"
      ],
      "metadata": {
        "id": "7MF6izYn5DDv"
      }
    },
    {
      "cell_type": "code",
      "source": [
        "#Potenciación basica sin herramientas externas\n",
        "\n",
        "5*5*5*5"
      ],
      "metadata": {
        "colab": {
          "base_uri": "https://localhost:8080/"
        },
        "id": "G7wsnuCUhgqg",
        "outputId": "1c229f6f-3d84-4d28-96e6-911945181b16"
      },
      "execution_count": 32,
      "outputs": [
        {
          "output_type": "execute_result",
          "data": {
            "text/plain": [
              "625"
            ]
          },
          "metadata": {},
          "execution_count": 32
        }
      ]
    },
    {
      "cell_type": "code",
      "source": [
        "5**4"
      ],
      "metadata": {
        "colab": {
          "base_uri": "https://localhost:8080/"
        },
        "id": "C07bFdzAhplR",
        "outputId": "a6b08a10-3762-4887-f831-5d79274bcf59"
      },
      "execution_count": 33,
      "outputs": [
        {
          "output_type": "execute_result",
          "data": {
            "text/plain": [
              "625"
            ]
          },
          "metadata": {},
          "execution_count": 33
        }
      ]
    },
    {
      "cell_type": "code",
      "source": [
        "#Potenciacion utilizando librerias\n",
        "\n",
        "import math  #Importando librerias :)\n",
        "\n",
        "math.pow(5,4)\n",
        "\n",
        "\n",
        "#from math import pow #importando solo a pow\n",
        "\n",
        "#pow(5,4)"
      ],
      "metadata": {
        "colab": {
          "base_uri": "https://localhost:8080/"
        },
        "id": "Vq1J085Rhsi1",
        "outputId": "ee93d3e7-be03-4618-d1cd-29abac3d2458"
      },
      "execution_count": 34,
      "outputs": [
        {
          "output_type": "execute_result",
          "data": {
            "text/plain": [
              "625.0"
            ]
          },
          "metadata": {},
          "execution_count": 34
        }
      ]
    },
    {
      "cell_type": "markdown",
      "source": [
        "**Raiz Cuadrada**"
      ],
      "metadata": {
        "id": "CNGhSH1q5kiO"
      }
    },
    {
      "cell_type": "code",
      "source": [
        "9**(1/2)"
      ],
      "metadata": {
        "colab": {
          "base_uri": "https://localhost:8080/"
        },
        "id": "s1sll5NPiyq8",
        "outputId": "3c295676-6a9b-4d7f-d40a-63338952c322"
      },
      "execution_count": 36,
      "outputs": [
        {
          "output_type": "execute_result",
          "data": {
            "text/plain": [
              "3.0"
            ]
          },
          "metadata": {},
          "execution_count": 36
        }
      ]
    },
    {
      "cell_type": "code",
      "source": [
        "math.sqrt(9)"
      ],
      "metadata": {
        "colab": {
          "base_uri": "https://localhost:8080/"
        },
        "id": "YjP8jtdfjmVc",
        "outputId": "2a087f1e-16ba-4bbe-bd9e-b0e17e8b38cc"
      },
      "execution_count": 37,
      "outputs": [
        {
          "output_type": "execute_result",
          "data": {
            "text/plain": [
              "3.0"
            ]
          },
          "metadata": {},
          "execution_count": 37
        }
      ]
    },
    {
      "cell_type": "markdown",
      "source": [
        "**Raices Varias**"
      ],
      "metadata": {
        "id": "0Y0TCGfq9UKf"
      }
    },
    {
      "cell_type": "code",
      "source": [
        "9**(1/3)"
      ],
      "metadata": {
        "colab": {
          "base_uri": "https://localhost:8080/"
        },
        "id": "Pf8xayyCjagR",
        "outputId": "898ccca3-a984-4342-9e9c-84988ec7582f"
      },
      "execution_count": 38,
      "outputs": [
        {
          "output_type": "execute_result",
          "data": {
            "text/plain": [
              "2.080083823051904"
            ]
          },
          "metadata": {},
          "execution_count": 38
        }
      ]
    },
    {
      "cell_type": "code",
      "source": [
        "9**(1/5)"
      ],
      "metadata": {
        "colab": {
          "base_uri": "https://localhost:8080/"
        },
        "id": "O0OmtEkEjsp3",
        "outputId": "841086ee-2a14-4b2a-a83f-83b9e5e13c0d"
      },
      "execution_count": 39,
      "outputs": [
        {
          "output_type": "execute_result",
          "data": {
            "text/plain": [
              "1.5518455739153598"
            ]
          },
          "metadata": {},
          "execution_count": 39
        }
      ]
    },
    {
      "cell_type": "code",
      "source": [
        "math.pow(9,(1/3))"
      ],
      "metadata": {
        "colab": {
          "base_uri": "https://localhost:8080/"
        },
        "id": "G9Sk4aOsjvyh",
        "outputId": "d8a6b3cf-be15-4de9-bde8-51ea0e96b49e"
      },
      "execution_count": 40,
      "outputs": [
        {
          "output_type": "execute_result",
          "data": {
            "text/plain": [
              "2.080083823051904"
            ]
          },
          "metadata": {},
          "execution_count": 40
        }
      ]
    },
    {
      "cell_type": "markdown",
      "source": [
        "**Valor absoluto**"
      ],
      "metadata": {
        "id": "KqW0Kqat9t4c"
      }
    },
    {
      "cell_type": "code",
      "source": [
        "numero=-128\n",
        "abs(numero)"
      ],
      "metadata": {
        "colab": {
          "base_uri": "https://localhost:8080/"
        },
        "id": "h1-clQeZkFQj",
        "outputId": "072a50ba-06c7-4566-b661-d14f33cc62dd"
      },
      "execution_count": 41,
      "outputs": [
        {
          "output_type": "execute_result",
          "data": {
            "text/plain": [
              "128"
            ]
          },
          "metadata": {},
          "execution_count": 41
        }
      ]
    },
    {
      "cell_type": "markdown",
      "source": [
        "**Pi**"
      ],
      "metadata": {
        "id": "obxV2i7n-LtI"
      }
    },
    {
      "cell_type": "code",
      "source": [
        "numero=5*math.pi\n",
        "round(numero,8)"
      ],
      "metadata": {
        "colab": {
          "base_uri": "https://localhost:8080/"
        },
        "id": "PckLF3zOkYLE",
        "outputId": "5834db1f-b414-4e9d-ef59-6751c06c3bda"
      },
      "execution_count": 43,
      "outputs": [
        {
          "output_type": "execute_result",
          "data": {
            "text/plain": [
              "15.70796327"
            ]
          },
          "metadata": {},
          "execution_count": 43
        }
      ]
    },
    {
      "cell_type": "markdown",
      "source": [
        "**Logaritmos**"
      ],
      "metadata": {
        "id": "PiPZPeqp-RUF"
      }
    },
    {
      "cell_type": "code",
      "source": [
        "math.log(45)"
      ],
      "metadata": {
        "colab": {
          "base_uri": "https://localhost:8080/"
        },
        "id": "sEvgH5Vgkyjp",
        "outputId": "81aeb0e7-9963-4821-de38-4039e80ddc8a"
      },
      "execution_count": 48,
      "outputs": [
        {
          "output_type": "execute_result",
          "data": {
            "text/plain": [
              "3.8066624897703196"
            ]
          },
          "metadata": {},
          "execution_count": 48
        }
      ]
    },
    {
      "cell_type": "code",
      "source": [],
      "metadata": {
        "id": "z01Ad7HOnRZq"
      },
      "execution_count": null,
      "outputs": []
    },
    {
      "cell_type": "markdown",
      "source": [
        "**Trigonometría Básica**"
      ],
      "metadata": {
        "id": "2SwphwTR-Cm4"
      }
    },
    {
      "cell_type": "code",
      "source": [
        "math.sin(90)"
      ],
      "metadata": {
        "colab": {
          "base_uri": "https://localhost:8080/"
        },
        "id": "u1P7s0D_m4BL",
        "outputId": "278950f4-ee4e-40f9-a452-b7939fecc54f"
      },
      "execution_count": 51,
      "outputs": [
        {
          "output_type": "execute_result",
          "data": {
            "text/plain": [
              "0.8939966636005579"
            ]
          },
          "metadata": {},
          "execution_count": 51
        }
      ]
    },
    {
      "cell_type": "code",
      "source": [
        "math.cos(90)"
      ],
      "metadata": {
        "colab": {
          "base_uri": "https://localhost:8080/"
        },
        "id": "XYjAdPvAnNsu",
        "outputId": "473f4cf4-8dba-4348-8831-e6ebe5b89c44"
      },
      "execution_count": 52,
      "outputs": [
        {
          "output_type": "execute_result",
          "data": {
            "text/plain": [
              "-0.4480736161291701"
            ]
          },
          "metadata": {},
          "execution_count": 52
        }
      ]
    },
    {
      "cell_type": "code",
      "source": [
        "math.tan(90)"
      ],
      "metadata": {
        "colab": {
          "base_uri": "https://localhost:8080/"
        },
        "id": "CfpcWB46nX_L",
        "outputId": "82d52d64-ba45-41ac-bc0c-2573a8347884"
      },
      "execution_count": 53,
      "outputs": [
        {
          "output_type": "execute_result",
          "data": {
            "text/plain": [
              "-1.995200412208242"
            ]
          },
          "metadata": {},
          "execution_count": 53
        }
      ]
    },
    {
      "cell_type": "code",
      "source": [
        "math.acos(90)"
      ],
      "metadata": {
        "colab": {
          "base_uri": "https://localhost:8080/",
          "height": 166
        },
        "id": "nFT-9lIBnd91",
        "outputId": "0d9a30d2-a1df-4d5e-a166-9c3bea6b66c6"
      },
      "execution_count": 54,
      "outputs": [
        {
          "output_type": "error",
          "ename": "ValueError",
          "evalue": "ignored",
          "traceback": [
            "\u001b[0;31m---------------------------------------------------------------------------\u001b[0m",
            "\u001b[0;31mValueError\u001b[0m                                Traceback (most recent call last)",
            "\u001b[0;32m<ipython-input-54-51e8b311e060>\u001b[0m in \u001b[0;36m<module>\u001b[0;34m\u001b[0m\n\u001b[0;32m----> 1\u001b[0;31m \u001b[0mmath\u001b[0m\u001b[0;34m.\u001b[0m\u001b[0macos\u001b[0m\u001b[0;34m(\u001b[0m\u001b[0;36m90\u001b[0m\u001b[0;34m)\u001b[0m\u001b[0;34m\u001b[0m\u001b[0;34m\u001b[0m\u001b[0m\n\u001b[0m",
            "\u001b[0;31mValueError\u001b[0m: math domain error"
          ]
        }
      ]
    },
    {
      "cell_type": "code",
      "source": [
        "math.tan(90)"
      ],
      "metadata": {
        "colab": {
          "base_uri": "https://localhost:8080/"
        },
        "id": "Qma-dbyBni-g",
        "outputId": "ff6cc7de-b35a-4f5f-af8b-4a17da598337"
      },
      "execution_count": 55,
      "outputs": [
        {
          "output_type": "execute_result",
          "data": {
            "text/plain": [
              "-1.995200412208242"
            ]
          },
          "metadata": {},
          "execution_count": 55
        }
      ]
    },
    {
      "cell_type": "code",
      "source": [
        "math.sin(1)"
      ],
      "metadata": {
        "colab": {
          "base_uri": "https://localhost:8080/"
        },
        "id": "7JjuQ_ZvnmMN",
        "outputId": "b9484a7b-9ef8-4769-d947-c6351869cfb1"
      },
      "execution_count": 58,
      "outputs": [
        {
          "output_type": "execute_result",
          "data": {
            "text/plain": [
              "0.8414709848078965"
            ]
          },
          "metadata": {},
          "execution_count": 58
        }
      ]
    },
    {
      "cell_type": "code",
      "source": [],
      "metadata": {
        "id": "fWc3Ro-HnZaP"
      },
      "execution_count": null,
      "outputs": []
    }
  ]
}