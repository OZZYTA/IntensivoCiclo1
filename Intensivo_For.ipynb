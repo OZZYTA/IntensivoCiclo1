{
  "nbformat": 4,
  "nbformat_minor": 0,
  "metadata": {
    "colab": {
      "provenance": [],
      "collapsed_sections": [],
      "include_colab_link": true
    },
    "kernelspec": {
      "name": "python3",
      "display_name": "Python 3"
    }
  },
  "cells": [
    {
      "cell_type": "markdown",
      "metadata": {
        "id": "view-in-github",
        "colab_type": "text"
      },
      "source": [
        "<a href=\"https://colab.research.google.com/github/OZZYTA/IntensivoCiclo1/blob/main/Intensivo_For.ipynb\" target=\"_parent\"><img src=\"https://colab.research.google.com/assets/colab-badge.svg\" alt=\"Open In Colab\"/></a>"
      ]
    },
    {
      "cell_type": "markdown",
      "metadata": {
        "id": "ovuV5A2lpySo"
      },
      "source": [
        "# **Lección 4: For**"
      ]
    },
    {
      "cell_type": "markdown",
      "metadata": {
        "id": "P9Npif66p7vD"
      },
      "source": [
        "Ejemplo 1: for loops"
      ]
    },
    {
      "cell_type": "code",
      "source": [
        "lista=[0,1,2,3,4,5,6,7]  #lista es una sola variable, con diferentes valores segun su pocision"
      ],
      "metadata": {
        "id": "-kbuXzcDd-mv"
      },
      "execution_count": null,
      "outputs": []
    },
    {
      "cell_type": "code",
      "source": [
        "#Dada una lista de valores, imprimir cada valor de dicha lista\n",
        "lista=[2,1,5,3,6,8,9,3]\n",
        "\n",
        "#(inicio, llegada, intervalo)\n",
        "\n",
        "for i in lista:\n",
        "  print(i)"
      ],
      "metadata": {
        "colab": {
          "base_uri": "https://localhost:8080/"
        },
        "id": "cVFCiLNCeYwa",
        "outputId": "23286c8a-232d-4168-b4c5-869c9ae79394"
      },
      "execution_count": 2,
      "outputs": [
        {
          "output_type": "stream",
          "name": "stdout",
          "text": [
            "2\n",
            "1\n",
            "5\n",
            "3\n",
            "6\n",
            "8\n",
            "9\n",
            "3\n"
          ]
        }
      ]
    },
    {
      "cell_type": "markdown",
      "metadata": {
        "id": "Rq1jc8TNr51q"
      },
      "source": [
        "Ejemplo 2: for loops"
      ]
    },
    {
      "cell_type": "code",
      "source": [
        "for i in range(50,100,5): #Punto de partida es limite cerrado, punto de llegada es limite abierto\n",
        "  print(i)"
      ],
      "metadata": {
        "colab": {
          "base_uri": "https://localhost:8080/"
        },
        "id": "hUk-WChofv-L",
        "outputId": "a0a26c31-0d3e-4f6f-cd06-69dbeab49272"
      },
      "execution_count": 6,
      "outputs": [
        {
          "output_type": "stream",
          "name": "stdout",
          "text": [
            "50\n",
            "55\n",
            "60\n",
            "65\n",
            "70\n",
            "75\n",
            "80\n",
            "85\n",
            "90\n",
            "95\n"
          ]
        }
      ]
    },
    {
      "cell_type": "code",
      "source": [
        "partida=int(input(\"Por favor escriba el punto de partida de su recorrido: \"))\n",
        "llegada=int(input(\"Por favor escriba el punto de llegada de su recorrido: \"))\n",
        "intervalo=int(input(\"Por favor escriba de cuanto en cuanto desea ir en su recorrido: \"))\n",
        "\n",
        "for i in range(partida, llegada, intervalo):\n",
        "  print(i)"
      ],
      "metadata": {
        "id": "OU4CHsg0gbR_"
      },
      "execution_count": null,
      "outputs": []
    },
    {
      "cell_type": "code",
      "source": [
        "partida=int(input(\"Por favor escriba el punto de partida de su recorrido: \"))\n",
        "llegada=int(input(\"Por favor escriba el punto de llegada de su recorrido: \"))\n",
        "intervalo=int(input(\"Por favor escriba de cuanto en cuanto desea ir en su recorrido: \"))\n",
        "\n",
        "for i in range(partida, llegada, intervalo):\n",
        "  print(i, end=\" \")"
      ],
      "metadata": {
        "colab": {
          "base_uri": "https://localhost:8080/"
        },
        "id": "P2KybOohhBox",
        "outputId": "b6a45bf9-012a-47a5-e9b5-575b00d6ced6"
      },
      "execution_count": 8,
      "outputs": [
        {
          "output_type": "stream",
          "name": "stdout",
          "text": [
            "Por favor escriba el punto de partida de su recorrido: 10\n",
            "Por favor escriba el punto de llegada de su recorrido: 800\n",
            "Por favor escriba de cuanto en cuanto desea ir en su recorrido: 18\n",
            "10 28 46 64 82 100 118 136 154 172 190 208 226 244 262 280 298 316 334 352 370 388 406 424 442 460 478 496 514 532 550 568 586 604 622 640 658 676 694 712 730 748 766 784 "
          ]
        }
      ]
    },
    {
      "cell_type": "markdown",
      "metadata": {
        "id": "T2yWJ5BisFpr"
      },
      "source": [
        "Ejemplo 3: for loops"
      ]
    },
    {
      "cell_type": "code",
      "source": [
        "partida=int(input(\"Por favor escriba el punto de partida de su recorrido: \"))\n",
        "llegada=int(input(\"Por favor escriba el punto de llegada de su recorrido: \"))\n",
        "intervalo=int(input(\"Por favor escriba de cuanto en cuanto desea ir en su recorrido: \"))\n",
        "\n",
        "for i in range(partida, llegada+1, intervalo):\n",
        "  print(i, end=\" \")"
      ],
      "metadata": {
        "colab": {
          "base_uri": "https://localhost:8080/"
        },
        "id": "csZFeDwXhT08",
        "outputId": "21316b19-752d-409e-a486-c70fa8ca0856"
      },
      "execution_count": 10,
      "outputs": [
        {
          "output_type": "stream",
          "name": "stdout",
          "text": [
            "Por favor escriba el punto de partida de su recorrido: 10\n",
            "Por favor escriba el punto de llegada de su recorrido: 200\n",
            "Por favor escriba de cuanto en cuanto desea ir en su recorrido: 5\n",
            "10 15 20 25 30 35 40 45 50 55 60 65 70 75 80 85 90 95 100 105 110 115 120 125 130 135 140 145 150 155 160 165 170 175 180 185 190 195 200 "
          ]
        }
      ]
    },
    {
      "cell_type": "markdown",
      "metadata": {
        "id": "6dltVEzWshIF"
      },
      "source": [
        "Ejemplo 4: arreglos en for loop"
      ]
    },
    {
      "cell_type": "code",
      "source": [
        "semana=[\"lunes\", \"martes\", \"miercoles\", \"jueves\", \"viernes\", \"sabado\", \"domingo\"]\n",
        "\n",
        "for dia in semana:\n",
        "  print(dia)"
      ],
      "metadata": {
        "colab": {
          "base_uri": "https://localhost:8080/"
        },
        "id": "1aGRDS0Dhrn4",
        "outputId": "53fecf08-f208-49a5-d635-dd1b92fe2436"
      },
      "execution_count": 12,
      "outputs": [
        {
          "output_type": "stream",
          "name": "stdout",
          "text": [
            "lunes\n",
            "martes\n",
            "miercoles\n",
            "jueves\n",
            "viernes\n",
            "sabado\n",
            "domingo\n"
          ]
        }
      ]
    },
    {
      "cell_type": "code",
      "source": [
        "len(semana)"
      ],
      "metadata": {
        "colab": {
          "base_uri": "https://localhost:8080/"
        },
        "id": "LaMZ5Ej_iTCc",
        "outputId": "ca2daecc-9ab1-4299-98aa-8b4e7f14e723"
      },
      "execution_count": 13,
      "outputs": [
        {
          "output_type": "execute_result",
          "data": {
            "text/plain": [
              "7"
            ]
          },
          "metadata": {},
          "execution_count": 13
        }
      ]
    },
    {
      "cell_type": "code",
      "source": [
        "semana[3]"
      ],
      "metadata": {
        "colab": {
          "base_uri": "https://localhost:8080/",
          "height": 36
        },
        "id": "IZfh8hVZjHzP",
        "outputId": "7ea8d5b6-e535-4d02-bd88-10695a6dd4d6"
      },
      "execution_count": 14,
      "outputs": [
        {
          "output_type": "execute_result",
          "data": {
            "text/plain": [
              "'jueves'"
            ],
            "application/vnd.google.colaboratory.intrinsic+json": {
              "type": "string"
            }
          },
          "metadata": {},
          "execution_count": 14
        }
      ]
    },
    {
      "cell_type": "code",
      "source": [
        "for i in range(0,6+1,1):\n",
        "  print(semana[i])"
      ],
      "metadata": {
        "colab": {
          "base_uri": "https://localhost:8080/"
        },
        "id": "3RrqzX8eiwij",
        "outputId": "d30f5518-d992-431a-90d4-8406153614fb"
      },
      "execution_count": 16,
      "outputs": [
        {
          "output_type": "stream",
          "name": "stdout",
          "text": [
            "lunes\n",
            "martes\n",
            "miercoles\n",
            "jueves\n",
            "viernes\n",
            "sabado\n",
            "domingo\n"
          ]
        }
      ]
    },
    {
      "cell_type": "code",
      "source": [
        "arreglo=[\"piña\", \"fresa\", \"naranja\", \"limon\", \"guayaba\", \"coco\", \"curuba\", \"mandarina\", \"maracuya\"]\n",
        "\n",
        "limite=len(arreglo)\n",
        "limite\n",
        "\n",
        "for i in range(0, limite, 1):\n",
        "  print(arreglo[i])"
      ],
      "metadata": {
        "colab": {
          "base_uri": "https://localhost:8080/"
        },
        "id": "7opVwP95j95z",
        "outputId": "2af6cc88-f63f-4281-d7d9-05053ccda1ed"
      },
      "execution_count": 29,
      "outputs": [
        {
          "output_type": "stream",
          "name": "stdout",
          "text": [
            "piña\n",
            "fresa\n",
            "naranja\n",
            "limon\n",
            "guayaba\n",
            "coco\n",
            "curuba\n",
            "mandarina\n",
            "maracuya\n"
          ]
        }
      ]
    },
    {
      "cell_type": "code",
      "source": [
        "nombre= \"Eduardo\"\n",
        "for i in nombre:\n",
        "  print(i)"
      ],
      "metadata": {
        "colab": {
          "base_uri": "https://localhost:8080/"
        },
        "id": "4XuFm1WmlkUL",
        "outputId": "b6a71853-e0ba-4084-c2c8-2d767f44b06c"
      },
      "execution_count": 30,
      "outputs": [
        {
          "output_type": "stream",
          "name": "stdout",
          "text": [
            "E\n",
            "d\n",
            "u\n",
            "a\n",
            "r\n",
            "d\n",
            "o\n"
          ]
        }
      ]
    },
    {
      "cell_type": "code",
      "source": [
        "numero=str(655.88)\n",
        "for num in numero:\n",
        "  print(num)"
      ],
      "metadata": {
        "colab": {
          "base_uri": "https://localhost:8080/"
        },
        "id": "Bhd8vT42mO3G",
        "outputId": "b0616a97-1946-4a57-eb8b-7e4cd197961b"
      },
      "execution_count": 33,
      "outputs": [
        {
          "output_type": "stream",
          "name": "stdout",
          "text": [
            "6\n",
            "5\n",
            "5\n",
            ".\n",
            "8\n",
            "8\n"
          ]
        }
      ]
    },
    {
      "cell_type": "markdown",
      "metadata": {
        "id": "CnjjcHbCzZ4S"
      },
      "source": [
        "Example 5: For anidado"
      ]
    },
    {
      "cell_type": "code",
      "source": [
        "comida=[\"hamburguesa\", \"pizza\", \"Pasta\"]\n",
        "bebidas=[\"Soda\", \"Jugo\", \"Agua\", \"malteada\"]\n",
        "\n",
        "for c in comida:\n",
        "  for b in bebidas:\n",
        "    print(c, \"con \", b)"
      ],
      "metadata": {
        "colab": {
          "base_uri": "https://localhost:8080/"
        },
        "id": "Ec9LBq6YmvvA",
        "outputId": "24fd2b9d-f244-4f6d-aae7-4374e55eaaa3"
      },
      "execution_count": 38,
      "outputs": [
        {
          "output_type": "stream",
          "name": "stdout",
          "text": [
            "hamburguesa con  Soda\n",
            "hamburguesa con  Jugo\n",
            "hamburguesa con  Agua\n",
            "hamburguesa con  malteada\n",
            "pizza con  Soda\n",
            "pizza con  Jugo\n",
            "pizza con  Agua\n",
            "pizza con  malteada\n",
            "Pasta con  Soda\n",
            "Pasta con  Jugo\n",
            "Pasta con  Agua\n",
            "Pasta con  malteada\n"
          ]
        }
      ]
    },
    {
      "cell_type": "code",
      "source": [
        "for c in comida:\n",
        "  for b in range(0,len(bebidas),1):\n",
        "    print(c, \"con \", bebidas[b])"
      ],
      "metadata": {
        "colab": {
          "base_uri": "https://localhost:8080/"
        },
        "id": "qRIvBl4_neS-",
        "outputId": "354ac806-4e28-49d7-f48c-45877eb8b9ed"
      },
      "execution_count": 37,
      "outputs": [
        {
          "output_type": "stream",
          "name": "stdout",
          "text": [
            "hamburguesa con  Soda\n",
            "hamburguesa con  Jugo\n",
            "hamburguesa con  Agua\n",
            "hamburguesa con  malteada\n",
            "pizza con  Soda\n",
            "pizza con  Jugo\n",
            "pizza con  Agua\n",
            "pizza con  malteada\n",
            "Pasta con  Soda\n",
            "Pasta con  Jugo\n",
            "Pasta con  Agua\n",
            "Pasta con  malteada\n"
          ]
        }
      ]
    },
    {
      "cell_type": "markdown",
      "metadata": {
        "id": "nMAJDtkEAdcQ"
      },
      "source": [
        "**Ejercicios de practica/investigación**\n",
        "\n",
        "1. Desarrollar un programa que le pida al usuario un número entero; luego, el programa debe mostrar su tabla de multiplicar del 1 al 10. Ejemplo: n = 12, entonces: 1 \\* 12 = 12, 2 \\* 12 = 24...10 \\* 12 = 120\n",
        "\n",
        "2. Desarrolle un programa que solicite al usuario dos números enteros: n y m. El programa debe mostrar la suma de todos los números entre n y m, incluidos n y m.\n",
        "\n",
        "3. Desarrolle un programa que pida un nombre (una sola palabra) e imprima una a una cada letra del nombre."
      ]
    }
  ]
}