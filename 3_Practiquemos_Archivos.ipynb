{
  "nbformat": 4,
  "nbformat_minor": 0,
  "metadata": {
    "colab": {
      "provenance": [],
      "include_colab_link": true
    },
    "kernelspec": {
      "name": "python3",
      "display_name": "Python 3"
    },
    "language_info": {
      "name": "python"
    }
  },
  "cells": [
    {
      "cell_type": "markdown",
      "metadata": {
        "id": "view-in-github",
        "colab_type": "text"
      },
      "source": [
        "<a href=\"https://colab.research.google.com/github/OZZYTA/IntensivoCiclo1/blob/main/3_Practiquemos_Archivos.ipynb\" target=\"_parent\"><img src=\"https://colab.research.google.com/assets/colab-badge.svg\" alt=\"Open In Colab\"/></a>"
      ]
    },
    {
      "cell_type": "markdown",
      "metadata": {
        "id": "ipM36ZpYTvdm"
      },
      "source": [
        "**Ejercicio 1**\n",
        "\n",
        "Se cuenta con un [archivo csv](https://drive.google.com/file/d/1Koqjq2Qe7r4_56O0ji95yYqstbjPbY-V/view?usp=sharing), que cuenta con el registro de ventas y compras de los empleados durante el año 2021. Se requiere, a traves de una función crear un archivo csv derivado del archivo inicial, sin modificar el primero, que muestre el ID de los empleados y el nivel de comisión teniendo en cuenta que el nivel se calcula segun:\n",
        "\n",
        "*   Mayor que 0 y menor a 333.400 es baja\n",
        "*   Mayor o igual que 333.400 y menor de 666.800 es media\n",
        "*   Mayor o igual a 666.800 y menor o igual a 999.999 es alta.\n",
        "\n",
        "\n",
        "**Ejemplo:**\n",
        "\n",
        "ID\t\tComision\n",
        "\n",
        "1396491597\tAlta\n",
        "\n",
        "1509558784\tMedia\n",
        "\n",
        "1299929243\tMedia\n",
        "\n",
        "1297565567\tAlta\n",
        "\n",
        "1937079677\tBaja\n",
        "\n",
        "Esos valores (columnas) deben verse reflejados en el archivo plano con una tabulación como separador o delimitador (tab) en vez de una coma.\n",
        "\n",
        "Igualmente se solicita que la función retorne los valores de:\n",
        "\n",
        "1.   la venta mas alta y el ID de quien la consiguió.\n",
        "2.   la compra mas baja y el ID de quien la consiguió."
      ]
    },
    {
      "cell_type": "code",
      "source": [
        "import csv\n",
        "\n",
        "def comisiones(ruta_archivo):\n",
        "  archivo=open(ruta_archivo, \"r\")\n",
        "  datos= csv.reader(archivo)\n",
        "  next(datos,None) #La estructura sera iterable\n",
        "  ID=[]\n",
        "  comision=[]\n",
        "  venta=[]\n",
        "  compra=[]\n",
        "  for fila in datos:\n",
        "    ID.append(fila[6])\n",
        "    venta.append(fila[2])\n",
        "    compra.append(fila[3])\n",
        "    if int(fila[4])>0 and int(fila[4])<333400:\n",
        "      comision.append(\"Baja\")\n",
        "    elif int(fila[4])>=33400 and int(fila[4])<666800:\n",
        "      comision.append(\"Media\")\n",
        "    else:\n",
        "      comision.append(\"Alta\")\n",
        "\n",
        "  indiceVentaAlta=venta.index(max(venta))\n",
        "  indiceCompraBaja=compra.index(min(compra))\n",
        "  ventaAlta=venta[indiceVentaAlta]\n",
        "  compraBaja=compra[indiceCompraBaja]\n",
        "\n",
        "  IdVentaAlta=ID[indiceVentaAlta]\n",
        "  IdCompraBaja=ID[indiceCompraBaja]\n",
        "\n",
        "  #Crear un archivo como lo pide el enunciado\n",
        "  with open(\"resultados.csv\",\"w\") as file:\n",
        "    file.write(\"ID\\t\")\n",
        "    file.write(\"Comision\\n\")\n",
        "    for i in range(len(ID)):\n",
        "      file.write(\"%s\\t\" % ID[i])\n",
        "      file.write(\"%s\\n\" % comision[i])\n",
        "    file.close()\n",
        "    archivo.close()\n",
        "    mensaje= \"La venta mas alta la hizo el vendedor con ID:\", IdVentaAlta, \"por: $\"ventaAlta,\" y la compra mas baja la hizo el vendedor con ID: \",IdCompraBaja,\" por valor de $\",compraBaja;\n",
        "    return mensaje\n",
        "\n"
      ],
      "metadata": {
        "id": "WK9yJNADtflf"
      },
      "execution_count": 14,
      "outputs": []
    },
    {
      "cell_type": "code",
      "source": [
        "ruta=\"/content/centroPLACE.csv\"\n",
        "comisiones(ruta)"
      ],
      "metadata": {
        "colab": {
          "base_uri": "https://localhost:8080/"
        },
        "id": "YAsVd3zf1dAk",
        "outputId": "a3828428-0fce-43bd-a919-8fe9bd96002e"
      },
      "execution_count": 15,
      "outputs": [
        {
          "output_type": "execute_result",
          "data": {
            "text/plain": [
              "('La venta mas alta la hizo el vendedor con ID:',\n",
              " '1288603541',\n",
              " 'por: $',\n",
              " '90040002',\n",
              " ' y la compra mas baja la hizo el vendedor con ID: ',\n",
              " '1460150294',\n",
              " ' por valor de $',\n",
              " '10037300')"
            ]
          },
          "metadata": {},
          "execution_count": 15
        }
      ]
    },
    {
      "cell_type": "markdown",
      "metadata": {
        "id": "Cbz2kzo_NFxo"
      },
      "source": [
        "**PANDAS**"
      ]
    },
    {
      "cell_type": "markdown",
      "metadata": {
        "id": "K8X1fnDMNFxt"
      },
      "source": [
        "**Pasar el dataframe a csv**"
      ]
    }
  ]
}