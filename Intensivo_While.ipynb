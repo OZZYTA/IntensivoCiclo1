{
  "nbformat": 4,
  "nbformat_minor": 0,
  "metadata": {
    "colab": {
      "provenance": [],
      "collapsed_sections": [],
      "include_colab_link": true
    },
    "kernelspec": {
      "name": "python3",
      "display_name": "Python 3"
    },
    "language_info": {
      "name": "python"
    }
  },
  "cells": [
    {
      "cell_type": "markdown",
      "metadata": {
        "id": "view-in-github",
        "colab_type": "text"
      },
      "source": [
        "<a href=\"https://colab.research.google.com/github/OZZYTA/IntensivoCiclo1/blob/main/Intensivo_While.ipynb\" target=\"_parent\"><img src=\"https://colab.research.google.com/assets/colab-badge.svg\" alt=\"Open In Colab\"/></a>"
      ]
    },
    {
      "cell_type": "markdown",
      "source": [
        "#**Lección 5: While**"
      ],
      "metadata": {
        "id": "mB4HJGH-SwuQ"
      }
    },
    {
      "cell_type": "markdown",
      "metadata": {
        "id": "NimkL62j9D2c"
      },
      "source": [
        "**While Loop**"
      ]
    },
    {
      "cell_type": "code",
      "source": [
        "#Haz un programa que muestro los numeros del 1 al 10, comenzando en el 1, al final debe mostrar un mensaje\n",
        "\n",
        "contador=0\n",
        "while contador<10:\n",
        "  contador=contador+1\n",
        "  print(contador) #11\n",
        "\n",
        "print(\"=====FIN DEL PROGRAMA======\")"
      ],
      "metadata": {
        "colab": {
          "base_uri": "https://localhost:8080/"
        },
        "id": "WTDvVfB_owIx",
        "outputId": "5e062af9-1ef5-4105-ea2c-5941dc866674"
      },
      "execution_count": 3,
      "outputs": [
        {
          "output_type": "stream",
          "name": "stdout",
          "text": [
            "1\n",
            "2\n",
            "3\n",
            "4\n",
            "5\n",
            "6\n",
            "7\n",
            "8\n",
            "9\n",
            "10\n",
            "=====FIN DEL PROGRAMA======\n"
          ]
        }
      ]
    },
    {
      "cell_type": "markdown",
      "metadata": {
        "id": "7y-eYnOp9Z94"
      },
      "source": [
        "**Menu con While Loop**"
      ]
    },
    {
      "cell_type": "code",
      "source": [
        "#Cree un programa que pida un numero del 1 al 10 y nos muestre nuestra eleccion\n",
        "#Si el valor que le doy no esta dentro del rango, vuelve y me pide el numero\n",
        "\n",
        "opcion=int(input(\"Por favor ingrese un numero del 1 al 10: \"))\n",
        "\n",
        "while opcion<1 or opcion>10:\n",
        "  opcion=int(input(\"Por favor ingrese un numero del 1 al 10: \"))\n",
        "\n",
        "print(\"La opcion que diste fue: \", opcion)\n",
        "print(\"=====FIN DEL PROGRAMA====\")"
      ],
      "metadata": {
        "colab": {
          "base_uri": "https://localhost:8080/"
        },
        "id": "btDcC8aJqYMc",
        "outputId": "4dce67e7-b169-45ca-9028-e4de62776ba4"
      },
      "execution_count": 5,
      "outputs": [
        {
          "output_type": "stream",
          "name": "stdout",
          "text": [
            "Por favor ingrese un numero del 1 al 10: 78\n",
            "Por favor ingrese un numero del 1 al 10: 45\n",
            "Por favor ingrese un numero del 1 al 10: -67\n",
            "Por favor ingrese un numero del 1 al 10: 6\n",
            "La opcion que diste fue:  6\n"
          ]
        }
      ]
    },
    {
      "cell_type": "markdown",
      "source": [
        "**While true**"
      ],
      "metadata": {
        "id": "W5guHMU2sa3K"
      }
    },
    {
      "cell_type": "code",
      "source": [
        "while True:\n",
        "  opcion=int(input(\"Por favor ingrese un numero del 1 al 10: \"))\n",
        "  if opcion<1 or opcion>10:\n",
        "    print(\"por favor ingrese un valor entre 1 y 10 carajo!\")\n",
        "  else:\n",
        "    print(\"Escogiste el numero \", opcion)\n",
        "    break\n",
        "print(\"=====FIN DEL PROGRAMA=====\")"
      ],
      "metadata": {
        "colab": {
          "base_uri": "https://localhost:8080/"
        },
        "id": "AlAL-UZEsn2g",
        "outputId": "4648cadf-b03d-4a5c-ae44-bfd352138a97"
      },
      "execution_count": 7,
      "outputs": [
        {
          "output_type": "stream",
          "name": "stdout",
          "text": [
            "Por favor ingrese un numero del 1 al 10: 56\n",
            "por favor ingrese un valor entre 1 y 10 carajo!\n",
            "Por favor ingrese un numero del 1 al 10: 34\n",
            "por favor ingrese un valor entre 1 y 10 carajo!\n",
            "Por favor ingrese un numero del 1 al 10: 6\n",
            "Escogiste el numero  6\n",
            "=====FIN DEL PROGRAMA=====\n"
          ]
        }
      ]
    },
    {
      "cell_type": "code",
      "source": [
        "#Cree un programa que pida un numero del 1 al 10 y nos muestre nuestra eleccion\n",
        "#Si el valor que le doy no esta dentro del rango, vuelve y me pide el numero\n",
        "\n",
        "opcion=int(input(\"Por favor ingrese un numero del 1 al 10: \"))\n",
        "\n",
        "while opcion<1 or opcion>10:\n",
        "  opcion=int(input(\"Por favor ingrese un numero del 1 al 10: \"))\n",
        "\n",
        "print(\"La opcion que diste fue: \", opcion)"
      ],
      "metadata": {
        "id": "1FmjOrEqsf9c"
      },
      "execution_count": null,
      "outputs": []
    },
    {
      "cell_type": "markdown",
      "source": [
        "**While + if + else + break**"
      ],
      "metadata": {
        "id": "gBVVWxt_SN9C"
      }
    },
    {
      "cell_type": "code",
      "source": [
        "#Programa que pide un numero de 3 cifras y nos de su raiz cuadrada, su raiz cubica y su valor elevado a la quinta \n",
        "#potencia, PERO! si el valor no es de 3 cifras, el aplicativo de pedirlo nuevamente al usuario.\n",
        "#El aplicativo finaliza si el usuario ingresa el valor 0\n",
        "\n",
        "numero=input(\"Por favor ingrese un numero de 3 cifras: \")\n",
        "\n",
        "#Descartamos el deseo de salir del programa o el error en la cantidad de cifras\n",
        "while len(numero)!=3:\n",
        "  if numero==\"0\":\n",
        "    print(\"=======FIN DEL PROGRAMA=====\")\n",
        "    break\n",
        "  else:\n",
        "    numero=input(\"Por favor ingrese un numero de 3 cifras: \")\n",
        "\n",
        "#Habiendo verificado que el numero si tiene 3 cifras, el while nos expulsa de él\n",
        "else:\n",
        "  numero=int(numero) #Convertimos el string en numero entero\n",
        "  cuadrada= numero**(1/2)\n",
        "  cubica= numero**(1/3)\n",
        "  potencia =numero**5\n",
        "  print(\"La raiz cuadrada del numero es: \", cuadrada)\n",
        "  print(\"La raiz cubica del numero es: \", cubica)\n",
        "  print(\"El numero elevado a la quinta potencia es: \", potencia)\n",
        "  print(\"\\n========FIN DEL PROGRAMA=========\")\n"
      ],
      "metadata": {
        "colab": {
          "base_uri": "https://localhost:8080/"
        },
        "id": "VKFRAtH2ub37",
        "outputId": "7c002b61-0239-4b59-cce0-a55201921e71"
      },
      "execution_count": 16,
      "outputs": [
        {
          "output_type": "stream",
          "name": "stdout",
          "text": [
            "Por favor ingrese un numero de 3 cifras: 756757\n",
            "Por favor ingrese un numero de 3 cifras: 789\n",
            "La raiz cuadrada del numero es:  28.089143810376278\n",
            "La raiz cubica del numero es:  9.240433254923236\n",
            "El numero elevado a la quinta potencia es:  305763060002949\n",
            "\n",
            "========FIN DEL PROGRAMA=========\n"
          ]
        }
      ]
    },
    {
      "cell_type": "markdown",
      "metadata": {
        "id": "Pe9MV2gYPzuu"
      },
      "source": [
        "**Ejercicios de Practica/investigación**"
      ]
    },
    {
      "cell_type": "markdown",
      "metadata": {
        "id": "WFQtHawHP78h"
      },
      "source": [
        "1. Escriba un programa que le pregunte una y otra vez si desea continuar con el programa, siempre y cuando responda exactamente \"sí\" o \"SÍ\" o \"y\" o \"Y\".\n",
        "\n",
        "2. Escriba un programa que pida números siempre que no se ingresen negativos. Al final, se debe mostrar la suma de los números ingresados.\n",
        "\n",
        "3. Escriba un programa que solicite una contraseña preestablecida y la solicite nuevamente hasta que las dos contraseñas coincidan, con un límite de tres solicitudes.\n",
        "\n",
        "4. Escriba un programa que solicite al usuario un número secreto. Cada vez que el usuario responde, el programa debe indicar si el número es mayor o menor que el ingresado. Cuando el usuario acierta el número, el programa debe indicar el número de intentos."
      ]
    }
  ]
}