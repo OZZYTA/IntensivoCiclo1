{
  "cells": [
    {
      "cell_type": "markdown",
      "metadata": {
        "id": "view-in-github",
        "colab_type": "text"
      },
      "source": [
        "<a href=\"https://colab.research.google.com/github/OZZYTA/IntensivoCiclo1/blob/main/2_Archivos.ipynb\" target=\"_parent\"><img src=\"https://colab.research.google.com/assets/colab-badge.svg\" alt=\"Open In Colab\"/></a>"
      ]
    },
    {
      "cell_type": "markdown",
      "metadata": {
        "id": "Hh7GtVdCTvUs"
      },
      "source": [
        "**Archivos Python**"
      ]
    },
    {
      "cell_type": "markdown",
      "metadata": {
        "id": "kE3UB7bPTF4R"
      },
      "source": [
        "La función clave para trabajar con archivos en Python es la función **open()**. La función **open()** toma dos parámetros: nombre de archivo y modo.\n",
        "\n",
        "Hay cuatro métodos (modos) diferentes para abrir un archivo:\n",
        "\n",
        "\"*r*\" - Lectura - Valor predeterminado. Abre un archivo para lectura, error si el archivo no existe\n",
        "\n",
        "\"*a*\" - Agregar - Abre un archivo para agregar, crea el archivo si no existe\n",
        "\n",
        "\"*w*\" - Escribir - Abre un archivo para escritura, crea el archivo si no existe\n",
        "\n",
        "\"*x*\" - Crear - Crea el archivo especificado, devuelve un error si el archivo existe\n",
        "\n",
        "Además, puede especificar si el archivo debe manejarse como modo binario o de texto:\n",
        "\n",
        "\"t\" - Texto - Valor por defecto. Modo de texto\n",
        "\n",
        "\"b\" - Binario - Modo binario (por ejemplo, imágenes)\n",
        "\n"
      ]
    },
    {
      "cell_type": "markdown",
      "metadata": {
        "id": "LclBQzRoUr35"
      },
      "source": [
        "**Ejemplo 1: Leer un [archivo](https://drive.google.com/file/d/1Mvg_AfH_OIAw2X815YJtb69Gd5AmKzbG/view?usp=sharing)**"
      ]
    },
    {
      "cell_type": "code",
      "source": [
        "data=open(\"/content/datos.txt\",\"r\")\n",
        "texto=data.read()\n",
        "data.close()\n",
        "texto"
      ],
      "metadata": {
        "colab": {
          "base_uri": "https://localhost:8080/",
          "height": 192
        },
        "id": "MUAp43Q0eS8S",
        "outputId": "8951458b-a88b-43fa-8b25-5e736d98f58e"
      },
      "execution_count": 6,
      "outputs": [
        {
          "output_type": "execute_result",
          "data": {
            "text/plain": [
              "'NOMBRE,CARGO,FECHA DE CONTRATACION,SALARIO\\nSARA LISET TRUJILLO DIAZ,ASISTENTE ADMINISTRATIVO,19/07/2019,905528\\nJOSE GELVEZ BAUTISTA,TECNOLOGO EN SISTEMAS,2/01/2001,1800000\\nMARIA FERNANDA MIRANDA,CONTADOR,5/05/2016,2000000\\nRICHARD VIGGIANI,CONSULTOR,5/05/2016,2300000\\nFABRICIO COMBARIZA,TECNOLOGO EN SISTEMAS,1/11/2013,1800000\\nJAIR PEÑA,ABOGADO,4/07/2019,2100000\\nSINDY GALVIS,ENFERMERA,1/07/2019,1000000\\nESTEFANY DURAN,JEFE DE ENFERMERIA,1/08/2019,1800000\\nSIMDY RANGEL,ENFERMERA,1/07/2019,1000000\\nLISET HERNANDEZ,ENFERMERA,1/07/2019,1000000\\nLUIS SIERRA,MENSAJERO,1/07/2019,1100000\\nSANDRA DIAZ,SECRETARIA,1/04/2018,1000000\\nDIEGO CAMARGO,FACTURADOR,2/01/2021,1200000'"
            ],
            "application/vnd.google.colaboratory.intrinsic+json": {
              "type": "string"
            }
          },
          "metadata": {},
          "execution_count": 6
        }
      ]
    },
    {
      "cell_type": "markdown",
      "metadata": {
        "id": "xndmB8uLVXPj"
      },
      "source": [
        "**Ejemplo 2: Leer N caracteres.**"
      ]
    },
    {
      "cell_type": "code",
      "source": [
        "data=open(\"/content/datos.txt\",\"r\")\n",
        "texto=data.read(100)\n",
        "data.close()\n",
        "print(texto)"
      ],
      "metadata": {
        "colab": {
          "base_uri": "https://localhost:8080/"
        },
        "id": "ifLE75YtfY6A",
        "outputId": "beb09092-0abe-439b-f851-a36d268d3c5b"
      },
      "execution_count": 7,
      "outputs": [
        {
          "output_type": "stream",
          "name": "stdout",
          "text": [
            "NOMBRE,CARGO,FECHA DE CONTRATACION,SALARIO\n",
            "SARA LISET TRUJILLO DIAZ,ASISTENTE ADMINISTRATIVO,19/07/2\n"
          ]
        }
      ]
    },
    {
      "cell_type": "markdown",
      "metadata": {
        "id": "f_P3xJdEV7rA"
      },
      "source": [
        "**Ejemplo 3: Leer letra por letra en una línea**"
      ]
    },
    {
      "cell_type": "code",
      "source": [
        "#Leer linea por linea\n",
        "texto=open(\"/content/datos.txt\",\"r\")\n",
        "print(texto.readline())\n",
        "print(texto.readline())\n",
        "print(texto.readline())\n",
        "print(texto.readline())\n",
        "print(texto.readline())\n",
        "print(texto.readline())\n",
        "print(texto.readline())\n",
        "texto.close()"
      ],
      "metadata": {
        "colab": {
          "base_uri": "https://localhost:8080/"
        },
        "id": "eH48bypZf0Eu",
        "outputId": "8313a409-3af0-4de0-c99a-3cd72262554c"
      },
      "execution_count": 10,
      "outputs": [
        {
          "output_type": "stream",
          "name": "stdout",
          "text": [
            "NOMBRE,CARGO,FECHA DE CONTRATACION,SALARIO\n",
            "\n",
            "SARA LISET TRUJILLO DIAZ,ASISTENTE ADMINISTRATIVO,19/07/2019,905528\n",
            "\n",
            "JOSE GELVEZ BAUTISTA,TECNOLOGO EN SISTEMAS,2/01/2001,1800000\n",
            "\n",
            "MARIA FERNANDA MIRANDA,CONTADOR,5/05/2016,2000000\n",
            "\n",
            "RICHARD VIGGIANI,CONSULTOR,5/05/2016,2300000\n",
            "\n",
            "FABRICIO COMBARIZA,TECNOLOGO EN SISTEMAS,1/11/2013,1800000\n",
            "\n",
            "JAIR PEÑA,ABOGADO,4/07/2019,2100000\n",
            "\n"
          ]
        }
      ]
    },
    {
      "cell_type": "code",
      "source": [
        "#Imprimir linea por linea (segunda forma)\n",
        "texto=open(\"/content/datos.txt\", \"r\")\n",
        "for linea in texto:\n",
        "  print(linea)\n",
        "texto.close()"
      ],
      "metadata": {
        "colab": {
          "base_uri": "https://localhost:8080/"
        },
        "id": "fyoXasFzgQMN",
        "outputId": "d6f1ef21-a512-439a-ac50-7b0d1afc36ec"
      },
      "execution_count": 11,
      "outputs": [
        {
          "output_type": "stream",
          "name": "stdout",
          "text": [
            "NOMBRE,CARGO,FECHA DE CONTRATACION,SALARIO\n",
            "\n",
            "SARA LISET TRUJILLO DIAZ,ASISTENTE ADMINISTRATIVO,19/07/2019,905528\n",
            "\n",
            "JOSE GELVEZ BAUTISTA,TECNOLOGO EN SISTEMAS,2/01/2001,1800000\n",
            "\n",
            "MARIA FERNANDA MIRANDA,CONTADOR,5/05/2016,2000000\n",
            "\n",
            "RICHARD VIGGIANI,CONSULTOR,5/05/2016,2300000\n",
            "\n",
            "FABRICIO COMBARIZA,TECNOLOGO EN SISTEMAS,1/11/2013,1800000\n",
            "\n",
            "JAIR PEÑA,ABOGADO,4/07/2019,2100000\n",
            "\n",
            "SINDY GALVIS,ENFERMERA,1/07/2019,1000000\n",
            "\n",
            "ESTEFANY DURAN,JEFE DE ENFERMERIA,1/08/2019,1800000\n",
            "\n",
            "SIMDY RANGEL,ENFERMERA,1/07/2019,1000000\n",
            "\n",
            "LISET HERNANDEZ,ENFERMERA,1/07/2019,1000000\n",
            "\n",
            "LUIS SIERRA,MENSAJERO,1/07/2019,1100000\n",
            "\n",
            "SANDRA DIAZ,SECRETARIA,1/04/2018,1000000\n",
            "\n",
            "DIEGO CAMARGO,FACTURADOR,2/01/2021,1200000\n"
          ]
        }
      ]
    },
    {
      "cell_type": "code",
      "source": [
        "#imprimir las letras de una linea\n",
        "texto=open(\"/content/datos.txt\",\"r\")\n",
        "linea=texto.readline()\n",
        "for letra in linea:\n",
        "  print(letra)"
      ],
      "metadata": {
        "colab": {
          "base_uri": "https://localhost:8080/"
        },
        "id": "knTs106rgjom",
        "outputId": "5284380d-d003-4606-bb56-8fd928df6a4a"
      },
      "execution_count": 12,
      "outputs": [
        {
          "output_type": "stream",
          "name": "stdout",
          "text": [
            "N\n",
            "O\n",
            "M\n",
            "B\n",
            "R\n",
            "E\n",
            ",\n",
            "C\n",
            "A\n",
            "R\n",
            "G\n",
            "O\n",
            ",\n",
            "F\n",
            "E\n",
            "C\n",
            "H\n",
            "A\n",
            " \n",
            "D\n",
            "E\n",
            " \n",
            "C\n",
            "O\n",
            "N\n",
            "T\n",
            "R\n",
            "A\n",
            "T\n",
            "A\n",
            "C\n",
            "I\n",
            "O\n",
            "N\n",
            ",\n",
            "S\n",
            "A\n",
            "L\n",
            "A\n",
            "R\n",
            "I\n",
            "O\n",
            "\n",
            "\n"
          ]
        }
      ]
    },
    {
      "cell_type": "markdown",
      "metadata": {
        "id": "sKb2sHy_aL6R"
      },
      "source": [
        "**Manejo de archivos**\n",
        "\n",
        "\"x\" - Create - creará un archivo, devuelve un error si el archivo existe\n",
        "\n",
        "\"a\" - Agregar - creará un archivo si el archivo especificado no existe\n",
        "\n",
        "\"w\" - Escribir - creará un archivo si el archivo especificado no existe\n"
      ]
    },
    {
      "cell_type": "markdown",
      "metadata": {
        "id": "qGPten1oZNtq"
      },
      "source": [
        "**Ejemplo 4: escribir en un archivo**"
      ]
    },
    {
      "cell_type": "code",
      "source": [
        "f=open(\"/content/datos.txt\",\"a\")\n",
        "texto=input(\"Ingrese lo que desea escribir en el archivo: \")\n",
        "f.write(texto)\n",
        "f.close()"
      ],
      "metadata": {
        "colab": {
          "base_uri": "https://localhost:8080/"
        },
        "id": "3JY9u57ohghz",
        "outputId": "02157e4e-ce92-431f-cf4a-918121410b56"
      },
      "execution_count": 14,
      "outputs": [
        {
          "name": "stdout",
          "output_type": "stream",
          "text": [
            "Ingrese lo que desea escribir en el archivo: Linea de prueba para trabajo en clase\n"
          ]
        }
      ]
    },
    {
      "cell_type": "markdown",
      "metadata": {
        "id": "XsyzEoUaNFxd"
      },
      "source": [
        "**Ejemplo 5: Crear archivo**"
      ]
    },
    {
      "cell_type": "code",
      "source": [
        "f=open(\"/content/datos.txt\",\"x\")\n",
        "f"
      ],
      "metadata": {
        "colab": {
          "base_uri": "https://localhost:8080/",
          "height": 218
        },
        "id": "gyqheHATg7Pc",
        "outputId": "6ed6852f-249e-4cac-d805-868cb3710bd3"
      },
      "execution_count": 13,
      "outputs": [
        {
          "output_type": "error",
          "ename": "FileExistsError",
          "evalue": "ignored",
          "traceback": [
            "\u001b[0;31m---------------------------------------------------------------------------\u001b[0m",
            "\u001b[0;31mFileExistsError\u001b[0m                           Traceback (most recent call last)",
            "\u001b[0;32m<ipython-input-13-63111e91cecd>\u001b[0m in \u001b[0;36m<module>\u001b[0;34m\u001b[0m\n\u001b[0;32m----> 1\u001b[0;31m \u001b[0mf\u001b[0m\u001b[0;34m=\u001b[0m\u001b[0mopen\u001b[0m\u001b[0;34m(\u001b[0m\u001b[0;34m\"/content/datos.txt\"\u001b[0m\u001b[0;34m,\u001b[0m\u001b[0;34m\"x\"\u001b[0m\u001b[0;34m)\u001b[0m\u001b[0;34m\u001b[0m\u001b[0;34m\u001b[0m\u001b[0m\n\u001b[0m\u001b[1;32m      2\u001b[0m \u001b[0mf\u001b[0m\u001b[0;34m\u001b[0m\u001b[0;34m\u001b[0m\u001b[0m\n",
            "\u001b[0;31mFileExistsError\u001b[0m: [Errno 17] File exists: '/content/datos.txt'"
          ]
        }
      ]
    },
    {
      "cell_type": "code",
      "source": [
        "f=open(\"/content/Archivo_nuevo.txt\",\"x\")\n",
        "f"
      ],
      "metadata": {
        "colab": {
          "base_uri": "https://localhost:8080/"
        },
        "id": "Ky4LbHznh7Gl",
        "outputId": "9e096f95-c9b5-4209-f1cb-04ad93232019"
      },
      "execution_count": 15,
      "outputs": [
        {
          "output_type": "execute_result",
          "data": {
            "text/plain": [
              "<_io.TextIOWrapper name='/content/Archivo_nuevo.txt' mode='x' encoding='UTF-8'>"
            ]
          },
          "metadata": {},
          "execution_count": 15
        }
      ]
    },
    {
      "cell_type": "markdown",
      "metadata": {
        "id": "bNCo2ZXXNFxg"
      },
      "source": [
        "**Ejemplo 6: Agregar a archivo**"
      ]
    },
    {
      "cell_type": "code",
      "source": [
        "f=open(\"/content/datos.txt\",\"w\")\n",
        "texto=f.read()\n",
        "texto"
      ],
      "metadata": {
        "colab": {
          "base_uri": "https://localhost:8080/",
          "height": 235
        },
        "id": "JmQmXrGRiSRa",
        "outputId": "54a2c160-cc1c-4dd7-8c96-759f82cddf70"
      },
      "execution_count": 18,
      "outputs": [
        {
          "output_type": "error",
          "ename": "UnsupportedOperation",
          "evalue": "ignored",
          "traceback": [
            "\u001b[0;31m---------------------------------------------------------------------------\u001b[0m",
            "\u001b[0;31mUnsupportedOperation\u001b[0m                      Traceback (most recent call last)",
            "\u001b[0;32m<ipython-input-18-b206f8b41079>\u001b[0m in \u001b[0;36m<module>\u001b[0;34m\u001b[0m\n\u001b[1;32m      1\u001b[0m \u001b[0mf\u001b[0m\u001b[0;34m=\u001b[0m\u001b[0mopen\u001b[0m\u001b[0;34m(\u001b[0m\u001b[0;34m\"/content/datos.txt\"\u001b[0m\u001b[0;34m,\u001b[0m\u001b[0;34m\"w\"\u001b[0m\u001b[0;34m)\u001b[0m\u001b[0;34m\u001b[0m\u001b[0;34m\u001b[0m\u001b[0m\n\u001b[0;32m----> 2\u001b[0;31m \u001b[0mtexto\u001b[0m\u001b[0;34m=\u001b[0m\u001b[0mf\u001b[0m\u001b[0;34m.\u001b[0m\u001b[0mread\u001b[0m\u001b[0;34m(\u001b[0m\u001b[0;34m)\u001b[0m\u001b[0;34m\u001b[0m\u001b[0;34m\u001b[0m\u001b[0m\n\u001b[0m\u001b[1;32m      3\u001b[0m \u001b[0mtexto\u001b[0m\u001b[0;34m\u001b[0m\u001b[0;34m\u001b[0m\u001b[0m\n",
            "\u001b[0;31mUnsupportedOperation\u001b[0m: not readable"
          ]
        }
      ]
    },
    {
      "cell_type": "markdown",
      "metadata": {
        "id": "HddlaY0Ia-bJ"
      },
      "source": [
        "**Ejemplo 7: Eliminar un archivo**"
      ]
    },
    {
      "cell_type": "code",
      "source": [
        "import os\n",
        "\n",
        "os.remove(\"/content/Archivo_nuevo2.txt\")"
      ],
      "metadata": {
        "id": "WEm1HCIHisxk"
      },
      "execution_count": 19,
      "outputs": []
    },
    {
      "cell_type": "markdown",
      "metadata": {
        "id": "cwEIr-ypNFxk"
      },
      "source": [
        "**Ejemplo 8: Crear Carpeta**"
      ]
    },
    {
      "cell_type": "code",
      "source": [
        "os.mkdir(\"Carpeta nueva\")"
      ],
      "metadata": {
        "id": "K_YH0h85jkor"
      },
      "execution_count": 20,
      "outputs": []
    },
    {
      "cell_type": "markdown",
      "metadata": {
        "id": "zD7go9DmbRFs"
      },
      "source": [
        "**Ejemplo 9: Eliminar una carpeta**"
      ]
    },
    {
      "cell_type": "code",
      "source": [
        "os.rmdir(\"Carpeta nueva\")"
      ],
      "metadata": {
        "id": "W6tTS72kjraK"
      },
      "execution_count": 21,
      "outputs": []
    },
    {
      "cell_type": "markdown",
      "metadata": {
        "id": "mzQwBtzhWBRo"
      },
      "source": [
        "**Example 10: Leer csv**  (Archivo de valores separados por comas)"
      ]
    },
    {
      "cell_type": "code",
      "source": [
        "import csv\n",
        "\n",
        "with open(\"/content/datos.csv\",\"r\") as file:\n",
        "  lector=csv.reader(file)\n",
        "  for fila in lector:\n",
        "    print(fila)"
      ],
      "metadata": {
        "colab": {
          "base_uri": "https://localhost:8080/"
        },
        "id": "iQyy_0r0kuIM",
        "outputId": "f4330ae1-8c40-4fb6-86f3-9e0a6e8e8252"
      },
      "execution_count": 22,
      "outputs": [
        {
          "output_type": "stream",
          "name": "stdout",
          "text": [
            "['NOMBRE', 'CARGO', 'FECHA DE CONTRATACION', 'SALARIO']\n",
            "['SARA LISET TRUJILLO DIAZ', 'ASISTENTE ADMINISTRATIVO', '19/07/2019', '905528']\n",
            "['JOSE GELVEZ BAUTISTA', 'TECNOLOGO EN SISTEMAS', '2/01/2001', '1800000']\n",
            "['MARIA FERNANDA MIRANDA', 'CONTADOR', '5/05/2016', '2000000']\n",
            "['RICHARD VIGGIANI', 'CONSULTOR', '5/05/2016', '2300000']\n",
            "['FABRICIO COMBARIZA', 'TECNOLOGO EN SISTEMAS', '1/11/2013', '1800000']\n",
            "['JAIR PEÑA', 'ABOGADO', '4/07/2019', '2100000']\n",
            "['SINDY GALVIS', 'ENFERMERA', '1/07/2019', '1000000']\n",
            "['ESTEFANY DURAN', 'JEFE DE ENFERMERIA', '1/08/2019', '1800000']\n",
            "['SIMDY RANGEL', 'ENFERMERA', '1/07/2019', '1000000']\n",
            "['LISET HERNANDEZ', 'ENFERMERA', '1/07/2019', '1000000']\n",
            "['LUIS SIERRA', 'MENSAJERO', '1/07/2019', '1100000']\n",
            "['SANDRA DIAZ', 'SECRETARIA', '1/04/2018', '1000000']\n",
            "['DIEGO CAMARGO', 'FACTURADOR', '2/01/2021', '1200000']\n"
          ]
        }
      ]
    },
    {
      "cell_type": "markdown",
      "metadata": {
        "id": "micKac4Mb09K"
      },
      "source": [
        "**Directorio Teléfonico**"
      ]
    },
    {
      "cell_type": "code",
      "source": [
        "listaNombre=[]\n",
        "listaTelefono=[]\n",
        "\n",
        "def agregar(listaNombre,listaTelefono):\n",
        "  nombre=input(\"Por favor ingrese el nombre a guardar: \").upper()\n",
        "  telefono=input(\"Por favor ingrese el numero telefonico: \")\n",
        "  listaNombre.append(nombre)\n",
        "  listaTelefono.append(telefono)\n",
        "  print(\"Contacto agregado correctamente\")\n",
        "\n",
        "def borrar(listaNombre,listaTelefono):\n",
        "  aBorrar=input(\"\\nDigite el nombre de la persona que desea borrar de la agenda\").upper()\n",
        "  indice=listaNombre.index(aBorrar)\n",
        "  listaNombre.pop(indice)\n",
        "  listaTelefono.pop(indice)\n",
        "  print(\"Contacto eliminado correctamente\")\n",
        "\n",
        "def listar(listaNombre,listaTelefono):\n",
        "  print(\"===LISTA DE CONTACTOS===\")\n",
        "  for i in range(len(listaNombre)):\n",
        "    print(listaNombre[i])\n",
        "    print(listaTelefono[i])\n",
        "    print(\"\")\n",
        "\n",
        "def guardar(listaNombre, listaTelefono):\n",
        "  with open(\"agenda.txt\", \"w\") as phonebook:\n",
        "    for i in range(len(listaNombre)):\n",
        "      phonebook.write(\"%s\\n\" % listaNombre[i])\n",
        "      phonebook.write(\"%s\\n\" % listaTelefono[i])\n",
        "      phonebook.write(\"\\n\")\n",
        "    phonebook.close()\n",
        "\n",
        "while True:\n",
        "  print(\"MENU PRINCIPAL\\n\")\n",
        "  menu=input(\"1.Ver lista de contactos \\n2.Agregar Contacto \\n3.Borrar Contacto \\n4.Salir\")\n",
        "  if menu==\"1\":\n",
        "    listar(listaNombre,listaTelefono)\n",
        "  elif menu==\"2\":\n",
        "    agregar(listaNombre,listaTelefono)\n",
        "  elif menu==\"3\":\n",
        "    borrar(listaNombre,listaTelefono)\n",
        "  elif menu==\"4\":\n",
        "    print(\"Gracias, hasta pronto\")\n",
        "    guardar(listaNombre, listaTelefono)\n",
        "    break"
      ],
      "metadata": {
        "colab": {
          "base_uri": "https://localhost:8080/"
        },
        "id": "3kTGPxx6ldB7",
        "outputId": "2745109f-b7ec-406b-95f7-96272791620e"
      },
      "execution_count": 28,
      "outputs": [
        {
          "output_type": "stream",
          "name": "stdout",
          "text": [
            "MENU PRINCIPAL\n",
            "\n",
            "1.Ver lista de contactos \n",
            "2.Agregar Contacto \n",
            "3.Borrar Contacto \n",
            "4.Salir2\n",
            "Por favor ingrese el nombre a guardar: Helena Colmenares\n",
            "Por favor ingrese el numero telefonico: 32132132131\n",
            "Contacto agregado correctamente\n",
            "MENU PRINCIPAL\n",
            "\n",
            "1.Ver lista de contactos \n",
            "2.Agregar Contacto \n",
            "3.Borrar Contacto \n",
            "4.Salir2\n",
            "Por favor ingrese el nombre a guardar: Hernando Gomez\n",
            "Por favor ingrese el numero telefonico: 313131321431\n",
            "Contacto agregado correctamente\n",
            "MENU PRINCIPAL\n",
            "\n",
            "1.Ver lista de contactos \n",
            "2.Agregar Contacto \n",
            "3.Borrar Contacto \n",
            "4.Salir2\n",
            "Por favor ingrese el nombre a guardar: Esteban Lopez\n",
            "Por favor ingrese el numero telefonico: 3241214123\n",
            "Contacto agregado correctamente\n",
            "MENU PRINCIPAL\n",
            "\n",
            "1.Ver lista de contactos \n",
            "2.Agregar Contacto \n",
            "3.Borrar Contacto \n",
            "4.Salir2\n",
            "Por favor ingrese el nombre a guardar: Felix Galvis\n",
            "Por favor ingrese el numero telefonico: 3123123122\n",
            "Contacto agregado correctamente\n",
            "MENU PRINCIPAL\n",
            "\n",
            "1.Ver lista de contactos \n",
            "2.Agregar Contacto \n",
            "3.Borrar Contacto \n",
            "4.Salir4\n",
            "Gracias, hasta pronto\n"
          ]
        }
      ]
    }
  ],
  "metadata": {
    "colab": {
      "provenance": [],
      "include_colab_link": true
    },
    "kernelspec": {
      "display_name": "Python 3",
      "language": "python",
      "name": "python3"
    },
    "language_info": {
      "codemirror_mode": {
        "name": "ipython",
        "version": 3
      },
      "file_extension": ".py",
      "mimetype": "text/x-python",
      "name": "python",
      "nbconvert_exporter": "python",
      "pygments_lexer": "ipython3",
      "version": "3.8.8"
    }
  },
  "nbformat": 4,
  "nbformat_minor": 0
}