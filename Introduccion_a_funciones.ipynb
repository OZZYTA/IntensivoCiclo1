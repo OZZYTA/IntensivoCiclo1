{
  "nbformat": 4,
  "nbformat_minor": 0,
  "metadata": {
    "colab": {
      "provenance": [],
      "authorship_tag": "ABX9TyMFhUp0kinxNYEoIgHFRAPL",
      "include_colab_link": true
    },
    "kernelspec": {
      "name": "python3",
      "display_name": "Python 3"
    },
    "language_info": {
      "name": "python"
    }
  },
  "cells": [
    {
      "cell_type": "markdown",
      "metadata": {
        "id": "view-in-github",
        "colab_type": "text"
      },
      "source": [
        "<a href=\"https://colab.research.google.com/github/OZZYTA/IntensivoCiclo1/blob/main/Introduccion_a_funciones.ipynb\" target=\"_parent\"><img src=\"https://colab.research.google.com/assets/colab-badge.svg\" alt=\"Open In Colab\"/></a>"
      ]
    },
    {
      "cell_type": "code",
      "execution_count": null,
      "metadata": {
        "colab": {
          "base_uri": "https://localhost:8080/"
        },
        "id": "9l-lQ20WMovg",
        "outputId": "156264df-d496-439b-9abd-18b30e0748c2"
      },
      "outputs": [
        {
          "output_type": "execute_result",
          "data": {
            "text/plain": [
              "15625"
            ]
          },
          "metadata": {},
          "execution_count": 1
        }
      ],
      "source": [
        "#funciones basicas\n",
        "\n",
        "import math\n",
        "\n",
        "pow(5,6)  #metodo o funcion pow(numero base, numero exponencial)"
      ]
    },
    {
      "cell_type": "code",
      "source": [
        "def areaTriangulo(base,altura): #declaracion de una funcion\n",
        "  area= (base*altura)/2\n",
        "  return area"
      ],
      "metadata": {
        "id": "pd3XGuYmNkC2"
      },
      "execution_count": null,
      "outputs": []
    },
    {
      "cell_type": "code",
      "source": [
        "areaTriangulo1=areaTriangulo(3,4)\n",
        "areaTriangulo1"
      ],
      "metadata": {
        "colab": {
          "base_uri": "https://localhost:8080/"
        },
        "id": "VKpCguuwN-tm",
        "outputId": "7ce7be06-6369-4e46-f94d-c29daf37caa6"
      },
      "execution_count": null,
      "outputs": [
        {
          "output_type": "execute_result",
          "data": {
            "text/plain": [
              "6.0"
            ]
          },
          "metadata": {},
          "execution_count": 5
        }
      ]
    },
    {
      "cell_type": "code",
      "source": [
        "areaTriangulo2=areaTriangulo(8,6)\n",
        "areaTriangulo2"
      ],
      "metadata": {
        "colab": {
          "base_uri": "https://localhost:8080/"
        },
        "id": "9sEMoLWfOOZM",
        "outputId": "5ae2d128-1740-44ee-e796-60d73d3df055"
      },
      "execution_count": null,
      "outputs": [
        {
          "output_type": "execute_result",
          "data": {
            "text/plain": [
              "24.0"
            ]
          },
          "metadata": {},
          "execution_count": 6
        }
      ]
    },
    {
      "cell_type": "code",
      "source": [
        "def area():\n",
        "  base=float(input(\"Ingrese por favor la base: \"))\n",
        "  altura= float(input(\"Ingrese por favor la altura: \"))\n",
        "\n",
        "  areaT= (base*altura)/2\n",
        "\n",
        "  return areaT"
      ],
      "metadata": {
        "id": "br1oi1vYOodW"
      },
      "execution_count": null,
      "outputs": []
    },
    {
      "cell_type": "code",
      "source": [
        "#Funcion ejecutada en un ciclo\n",
        "numero=1\n",
        "while numero!=0:\n",
        "  print(area())\n",
        "  numero=int(input(\"Desea continuar, oprima 1: Si, 0:No\"))"
      ],
      "metadata": {
        "colab": {
          "base_uri": "https://localhost:8080/"
        },
        "id": "hg9NmIG5O9kX",
        "outputId": "abee3e71-8a2f-49b0-fee9-34bbcc2538e8"
      },
      "execution_count": null,
      "outputs": [
        {
          "name": "stdout",
          "output_type": "stream",
          "text": [
            "Ingrese por favor la base: 23\n",
            "Ingrese por favor la altura: 22\n",
            "253.0\n",
            "Desea continuar, oprima 1: Si, 0:No1\n",
            "Ingrese por favor la base: 34\n",
            "Ingrese por favor la altura: 3\n",
            "51.0\n",
            "Desea continuar, oprima 1: Si, 0:No1\n",
            "Ingrese por favor la base: 45\n",
            "Ingrese por favor la altura: 23\n",
            "517.5\n",
            "Desea continuar, oprima 1: Si, 0:No0\n"
          ]
        }
      ]
    },
    {
      "cell_type": "code",
      "source": [
        "#Desarrolle una funcion que, pida al usuario su email y que imprima un mensaje indicando si la direccion es valida o no\n",
        "#hint: la direccion se considera valida si contiene el simbolo \"@\"\n",
        "\n",
        "def validar(email):\n",
        "  caracterBuscado=\"@\"\n",
        "  emailValido=False\n",
        "  contador=0\n",
        "  for cadaCaracter in email:\n",
        "    if cadaCaracter==caracterBuscado:\n",
        "      contador=contador+1\n",
        "  \n",
        "  if contador!=0:\n",
        "    emailValido= True\n",
        "    return emailValido\n",
        "  else:\n",
        "    return emailValido\n",
        "      "
      ],
      "metadata": {
        "id": "J1mxDHKJP8LO"
      },
      "execution_count": null,
      "outputs": []
    },
    {
      "cell_type": "code",
      "source": [
        "direccion=input(\"Cual es tu email?: \")\n",
        "if validar(direccion)==True: \n",
        "    print(\"Si es una direccion de email correcta\")\n",
        "else:\n",
        "  print(\"No es una direccion de correo electronico correcta\")"
      ],
      "metadata": {
        "colab": {
          "base_uri": "https://localhost:8080/"
        },
        "id": "8uXiMMH9RaT0",
        "outputId": "de74464c-8eb4-4601-f594-641a7532a37d"
      },
      "execution_count": null,
      "outputs": [
        {
          "output_type": "stream",
          "name": "stdout",
          "text": [
            "Cual es tu email?: lolagmail.com\n",
            "No es una direccion de correo electronico correcta\n"
          ]
        }
      ]
    },
    {
      "cell_type": "code",
      "source": [
        "def zapatitoRojo(a,b):\n",
        "  resultado= a**b\n",
        "  return resultado"
      ],
      "metadata": {
        "id": "mhtafwOYS4fS"
      },
      "execution_count": null,
      "outputs": []
    },
    {
      "cell_type": "code",
      "source": [
        "pow(5,7)"
      ],
      "metadata": {
        "colab": {
          "base_uri": "https://localhost:8080/"
        },
        "id": "XrdsWohuTXR0",
        "outputId": "a4a56acc-3a14-4787-8135-d2dca534a041"
      },
      "execution_count": null,
      "outputs": [
        {
          "output_type": "execute_result",
          "data": {
            "text/plain": [
              "78125"
            ]
          },
          "metadata": {},
          "execution_count": 15
        }
      ]
    },
    {
      "cell_type": "code",
      "source": [
        "zapatitoRojo(5,7)"
      ],
      "metadata": {
        "colab": {
          "base_uri": "https://localhost:8080/"
        },
        "id": "bDmMGY0HTdnJ",
        "outputId": "628abab4-643b-4603-e77f-f36573b30606"
      },
      "execution_count": null,
      "outputs": [
        {
          "output_type": "execute_result",
          "data": {
            "text/plain": [
              "78125"
            ]
          },
          "metadata": {},
          "execution_count": 19
        }
      ]
    },
    {
      "cell_type": "code",
      "source": [
        "def hacerJugo(fruta,endulzante,liquido):\n",
        "  licuado=\"Tu jugo esta hecho con \"+fruta+\" en \"+liquido+\" y endulzado con \"+endulzante\n",
        "  return licuado"
      ],
      "metadata": {
        "id": "WAu9YZOqTuQa"
      },
      "execution_count": null,
      "outputs": []
    },
    {
      "cell_type": "code",
      "source": [
        "hacerJugo(\"fresa\",\"estevia\",\"leche de almendras\")"
      ],
      "metadata": {
        "colab": {
          "base_uri": "https://localhost:8080/",
          "height": 36
        },
        "id": "fvs9rUvMUPlf",
        "outputId": "edc42b4f-3d1b-4db6-f92b-37573e0255ee"
      },
      "execution_count": null,
      "outputs": [
        {
          "output_type": "execute_result",
          "data": {
            "text/plain": [
              "'Tu jugo esta hecho con fresa en leche de almendras y endulzado con estevia'"
            ],
            "application/vnd.google.colaboratory.intrinsic+json": {
              "type": "string"
            }
          },
          "metadata": {},
          "execution_count": 24
        }
      ]
    },
    {
      "cell_type": "code",
      "source": [
        "#Funcion que me dice si un numero es par o impar\n",
        "def numPar(numero):\n",
        "  if numero%2==0:\n",
        "    return \"El numero es par\"\n",
        "  else:\n",
        "    return \"El numero es impar\""
      ],
      "metadata": {
        "id": "ekhyjQGtUv95"
      },
      "execution_count": null,
      "outputs": []
    },
    {
      "cell_type": "code",
      "source": [
        "num=int(input(\"Por favor regalame un numero: \"))\n",
        "numPar(num)"
      ],
      "metadata": {
        "colab": {
          "base_uri": "https://localhost:8080/",
          "height": 53
        },
        "id": "-kao7PdfVLFB",
        "outputId": "53bfd6f4-1929-4183-977d-1c522aa984a3"
      },
      "execution_count": null,
      "outputs": [
        {
          "name": "stdout",
          "output_type": "stream",
          "text": [
            "Por favor regalame un numero: 78\n"
          ]
        },
        {
          "output_type": "execute_result",
          "data": {
            "text/plain": [
              "'El numero es par'"
            ],
            "application/vnd.google.colaboratory.intrinsic+json": {
              "type": "string"
            }
          },
          "metadata": {},
          "execution_count": 30
        }
      ]
    },
    {
      "cell_type": "code",
      "source": [
        "#Funcion que me dice si un numero entero mayor que 10 es primo  o no, respuesta en texto\n",
        "\n",
        "def primo(numero):\n",
        "  for i in range(2, numero):\n",
        "    if num%i==0:\n",
        "      return \"El numero no es primo\"\n",
        "  return \"El numero es primo\"\n",
        "\n",
        "num=int(input(\"Ingrese por favor un numero entero: \"))\n",
        "primo(num)"
      ],
      "metadata": {
        "colab": {
          "base_uri": "https://localhost:8080/",
          "height": 53
        },
        "id": "YTm726lCWB9a",
        "outputId": "3440c219-468f-40c9-976d-b12e7fb9865b"
      },
      "execution_count": null,
      "outputs": [
        {
          "name": "stdout",
          "output_type": "stream",
          "text": [
            "Ingrese por favor un numero entero: 17\n"
          ]
        },
        {
          "output_type": "execute_result",
          "data": {
            "text/plain": [
              "'El numero es primo'"
            ],
            "application/vnd.google.colaboratory.intrinsic+json": {
              "type": "string"
            }
          },
          "metadata": {},
          "execution_count": 34
        }
      ]
    },
    {
      "cell_type": "code",
      "source": [
        "#Funcion que dado un numero entero de mas de dos cifras y un digito, nos diga cuantas veces esta dicho digito en el numero\n",
        "\n",
        "def frecuencias(numEntero,digito):\n",
        "  contador=0\n",
        "  numEntero=str(numEntero)\n",
        "  digito=str(digito)\n",
        "  for num in numEntero:\n",
        "    if num==digito:\n",
        "      contador=contador+1\n",
        "  \n",
        "  return contador"
      ],
      "metadata": {
        "id": "s-_JLDd9X56B"
      },
      "execution_count": null,
      "outputs": []
    },
    {
      "cell_type": "code",
      "source": [
        "def frecuencias(numEntero,digito):\n",
        "  contador=0\n",
        "  while numEntero!=0:\n",
        "    ultDigito=numEntero%10\n",
        "    if ultDigito==digito:\n",
        "      contador=contador+1\n",
        "    numEntero=numEntero//10\n",
        "  return contador"
      ],
      "metadata": {
        "id": "uZ7CmBGTZVfE"
      },
      "execution_count": null,
      "outputs": []
    },
    {
      "cell_type": "code",
      "source": [
        "Entero=int(input(\"Deme por favor un numero Entero de mas de dos cifras: \"))\n",
        "digit=int(input(\"Por favor regaleme un digito numeral: \"))\n",
        "frecuencias(Entero,digit)"
      ],
      "metadata": {
        "colab": {
          "base_uri": "https://localhost:8080/"
        },
        "id": "JQrMTIOqYr4A",
        "outputId": "2677c958-8fb0-429d-f038-0350f1df2a04"
      },
      "execution_count": null,
      "outputs": [
        {
          "name": "stdout",
          "output_type": "stream",
          "text": [
            "Deme por favor un numero Entero de mas de dos cifras: 79675847\n",
            "Por favor regaleme un digito numeral: 7\n"
          ]
        },
        {
          "output_type": "execute_result",
          "data": {
            "text/plain": [
              "3"
            ]
          },
          "metadata": {},
          "execution_count": 43
        }
      ]
    },
    {
      "cell_type": "code",
      "source": [
        "8993285//10"
      ],
      "metadata": {
        "colab": {
          "base_uri": "https://localhost:8080/"
        },
        "id": "ZB3GNixcZ1uV",
        "outputId": "5a1dc48d-fc34-4a56-8b02-923d0615a6b3"
      },
      "execution_count": null,
      "outputs": [
        {
          "output_type": "execute_result",
          "data": {
            "text/plain": [
              "899328"
            ]
          },
          "metadata": {},
          "execution_count": 41
        }
      ]
    },
    {
      "cell_type": "code",
      "source": [
        "#Funcion que pida al usuario diferentes numeros que se encuentren dentro de un rango dado, con la finalidad de verificar\n",
        "#si estos numeros son pares o impares. El programa al finalizar debe mostrarnos cuantos numeros verificamos, cuantos fueron\n",
        "#pares, cuantos fueron impares. Si los numeros ingresados se salieron del rango, no cuentan como verificados.\n",
        "#el programa acaba cuando el usuario ingresa 000.\n",
        "\n",
        "def verificadora(minimo, maximo):\n",
        "  numero=int(input(\"Por favor escriba el numero que desea verificar: \"))\n",
        "  contador=0\n",
        "  par=0\n",
        "  impar=0\n",
        "  while numero!=000:\n",
        "    if numero>=minimo and numero<=maximo:\n",
        "      contador=contador+1\n",
        "      if numero%2==0:\n",
        "        par=par+1\n",
        "        print(\"El numero es par\")\n",
        "        numero=int(input(\"Ingrese un nuevo numero: \"))\n",
        "      else:\n",
        "        impar=impar+1\n",
        "        print(\"El numero es impar\")\n",
        "        numero=int(input(\"Ingrese un nuevo numero: \"))\n",
        "    else:\n",
        "      print(\"Te saliste del rango\")\n",
        "      numero=int(input(\"Por favor ingrese un nuevo numero:\"))\n",
        "  print(f\"FIN DEL PROGRAMA, Verificaste {contador} numeros, {par} fueron pares y {impar} fueron impares\")\n"
      ],
      "metadata": {
        "id": "P4QbyLdSaXEw"
      },
      "execution_count": null,
      "outputs": []
    },
    {
      "cell_type": "code",
      "source": [
        "verificadora(20,1250)"
      ],
      "metadata": {
        "colab": {
          "base_uri": "https://localhost:8080/"
        },
        "id": "DWqApEx-eFdw",
        "outputId": "8cdc18b0-110c-4a08-cad6-c9f58aacafb3"
      },
      "execution_count": null,
      "outputs": [
        {
          "output_type": "stream",
          "name": "stdout",
          "text": [
            "Por favor escriba el numero que desea verificar: 9876457\n",
            "Te saliste del rango\n",
            "Por favor ingrese un nuevo numero:2\n",
            "Te saliste del rango\n",
            "Por favor ingrese un nuevo numero:67\n",
            "El numero es impar\n",
            "Ingrese un nuevo numero: 98\n",
            "El numero es par\n",
            "Ingrese un nuevo numero: 5556\n",
            "Te saliste del rango\n",
            "Por favor ingrese un nuevo numero:678\n",
            "El numero es par\n",
            "Ingrese un nuevo numero: 665\n",
            "El numero es impar\n",
            "Ingrese un nuevo numero: 5646\n",
            "Te saliste del rango\n",
            "Por favor ingrese un nuevo numero:32\n",
            "El numero es par\n",
            "Ingrese un nuevo numero: 24\n",
            "El numero es par\n",
            "Ingrese un nuevo numero: 324\n",
            "El numero es par\n",
            "Ingrese un nuevo numero: 213\n",
            "El numero es impar\n",
            "Ingrese un nuevo numero: 13\n",
            "Te saliste del rango\n",
            "Por favor ingrese un nuevo numero:24\n",
            "El numero es par\n",
            "Ingrese un nuevo numero: 342\n",
            "El numero es par\n",
            "Ingrese un nuevo numero: 000\n",
            "FIN DEL PROGRAMA, Verificaste 10 numeros, 7 fueron pares y 3 fueron impares\n"
          ]
        }
      ]
    },
    {
      "cell_type": "markdown",
      "source": [
        "Por el mes de las madres, Ferreteria Cachivaches esta ofreciendo un descuento del 15% de descuento a los productos de la linea Amanecer(solo a esta). Se soliicta un aplicativo que ayude a facturar productos a nuestros cajeros. El aplicativo debe facturar productos hasta que se le diga que \"NO\" desea continuar. Al ingresar productos debe ir mostrando el subtotal de lo comprado y al fina debe mostrar el valor total"
      ],
      "metadata": {
        "id": "YbUMjt5jfzhf"
      }
    },
    {
      "cell_type": "code",
      "source": [
        "def esAmanecer(linea):\n",
        "  if linea==\"Amanecer\":\n",
        "    return True\n",
        "  else:\n",
        "    False"
      ],
      "metadata": {
        "id": "Zwna1g3OfkHO"
      },
      "execution_count": 50,
      "outputs": []
    },
    {
      "cell_type": "code",
      "source": [
        "continuar=\"SI\"\n",
        "total=0 #Acumuladora\n",
        "#Entremos al ciclo\n",
        "while continuar!=\"NO\":\n",
        "  cantidad=int(input(\"Por favor ingrese la cantidad de este producto a facturar: \"))\n",
        "  vUnitario=float(input(\"Por favor ingrese el valor unitario de este producto: $\"))\n",
        "  linea=input(\"de Que linea es este producto?: \")\n",
        "  descuento=esAmanecer(linea)\n",
        "  if(descuento==True): #if(descuento)\n",
        "    valorDescuento=cantidad*vUnitario*0.15\n",
        "    print(f\"Este producto tiene un descuento del 15% equivalente a: ${valorDescuento}\")   \n",
        "    subtotal=cantidad*vUnitario*0.85   #(subtotal-(subtotal*0.15))\n",
        "    print(f\"Ud pagara por este producto: ${subtotal}\")\n",
        "    total=total+subtotal\n",
        "  else:\n",
        "    subtotal=cantidad*vUnitario\n",
        "    print(f\"Ud pagara por este producto: ${subtotal}\")\n",
        "    total=total+subtotal\n",
        "  continuar=input(\"Desea seguir facturando otros productos (SI o NO)?: \").upper()\n",
        "print(f\"\\nTotal a pagar: ${total}\")\n",
        "   "
      ],
      "metadata": {
        "colab": {
          "base_uri": "https://localhost:8080/"
        },
        "id": "J2BSdO4wgjY_",
        "outputId": "21699451-6044-412d-b8a4-c4979e76222b"
      },
      "execution_count": 53,
      "outputs": [
        {
          "output_type": "stream",
          "name": "stdout",
          "text": [
            "Por favor ingrese la cantidad de este producto a facturar: 2\n",
            "Por favor ingrese el valor unitario de este producto: 78000\n",
            "de Que linea es este producto?: Primavera\n",
            "Ud pagara por este producto: $156000.0\n",
            "Desea seguir facturando otros productos (SI o NO)?: si\n",
            "Por favor ingrese la cantidad de este producto a facturar: 3\n",
            "Por favor ingrese el valor unitario de este producto: 210000\n",
            "de Que linea es este producto?: Amanecer\n",
            "Este producto tiene un descuento del 15% equivalente a: $94500.0\n",
            "Ud pagara por este producto: $535500.0\n",
            "Desea seguir facturando otros productos (SI o NO)?: si\n",
            "Por favor ingrese la cantidad de este producto a facturar: 5\n",
            "Por favor ingrese el valor unitario de este producto: 6000\n",
            "de Que linea es este producto?: sin linea\n",
            "Ud pagara por este producto: $30000.0\n",
            "Desea seguir facturando otros productos (SI o NO)?: no\n",
            "Total a pagar: 721500.0\n"
          ]
        }
      ]
    },
    {
      "cell_type": "code",
      "source": [],
      "metadata": {
        "id": "lq37DDa2i-UF"
      },
      "execution_count": null,
      "outputs": []
    }
  ]
}