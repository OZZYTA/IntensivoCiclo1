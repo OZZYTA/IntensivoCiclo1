{
  "cells": [
    {
      "cell_type": "markdown",
      "metadata": {
        "id": "view-in-github",
        "colab_type": "text"
      },
      "source": [
        "<a href=\"https://colab.research.google.com/github/OZZYTA/IntensivoCiclo1/blob/main/Json_y_WebScrapping.ipynb\" target=\"_parent\"><img src=\"https://colab.research.google.com/assets/colab-badge.svg\" alt=\"Open In Colab\"/></a>"
      ]
    },
    {
      "cell_type": "markdown",
      "metadata": {
        "id": "aE5YezocQix3"
      },
      "source": [
        "# JSON Files"
      ]
    },
    {
      "cell_type": "markdown",
      "metadata": {
        "id": "x6xelyBUQix9"
      },
      "source": [
        "JSON, acrónimo de JavaScript Object Notation, es un formato de texto ligero para el intercambio de datos. JSON es un subconjunto de la notación literal de objetos de JavaScript aunque hoy, debido a su amplia adopción como alternativa a XML, se considera un formato de lenguaje independiente. Es utilizado para proyectos de lenguajes de programación diferentes como C, C++, Java, Javascript, Perl, Python y muchos más. Estas propiedades hacen que JSON sea el lenguaje ideal para el intercambio de datos.\n",
        "\n",
        "Por lo tanto, JSON se puede considerar como un método simple de crear y almacenar estructuras de datos. La razón por la que JavaScript está en sus siglas se debe al hecho de que se crea un objeto de JavaScript al almacenar los datos con JSON. Sin embargo, no te preocupes, no necesitas saber nada de JavaScript para trabajar con archivos JSON, sino más bien de la sintaxis (formato) de JSON.\n",
        "\n",
        "En resumen, JSON es una manera de almacenar e intercambiar datos y, gracias a su sintaxis, se utiliza en muchas aplicaciones web. Lo bueno de JSON es que tiene un formato legible por el humano, y es una de las grandes razones de su popularidad, además de su eficacia trabajamos con APIs.\n",
        "\n",
        "Un ejemplo de datos con formato JSON es la siguiente:"
      ]
    },
    {
      "cell_type": "code",
      "execution_count": 1,
      "metadata": {
        "id": "W-LRxJQBQix-",
        "colab": {
          "base_uri": "https://localhost:8080/"
        },
        "outputId": "147b5523-c3a7-4831-9485-406a6ba5a20a"
      },
      "outputs": [
        {
          "output_type": "execute_result",
          "data": {
            "text/plain": [
              "{'name': 'Frank', 'age': 39, 'isEmployed': True}"
            ]
          },
          "metadata": {},
          "execution_count": 1
        }
      ],
      "source": [
        "{\"name\": \"Frank\", \"age\": 39,\n",
        " \"isEmployed\": True}"
      ]
    },
    {
      "cell_type": "markdown",
      "metadata": {
        "id": "5KcCMHFzQiyA"
      },
      "source": [
        "## Python y JSON"
      ]
    },
    {
      "cell_type": "code",
      "execution_count": 2,
      "metadata": {
        "id": "RQdYmR_-QiyB"
      },
      "outputs": [],
      "source": [
        "import json"
      ]
    },
    {
      "cell_type": "markdown",
      "metadata": {
        "id": "dcYWKe1eQiyC"
      },
      "source": [
        "Leer JSON significa convertir el JSON en un valor de Python (objeto). La librería json parsea el JSON en un diccionario o en una lista en Python. Con el fin de hacer eso, utilizamos la función loads(), de la siguiente manera:"
      ]
    },
    {
      "cell_type": "code",
      "execution_count": 3,
      "metadata": {
        "id": "N7Ih3TwvQiyC",
        "colab": {
          "base_uri": "https://localhost:8080/"
        },
        "outputId": "141f08ac-042d-40e3-f706-17e53644ffee"
      },
      "outputs": [
        {
          "output_type": "stream",
          "name": "stdout",
          "text": [
            "30\n"
          ]
        }
      ],
      "source": [
        "import json  #Importar la libreria\n",
        "\n",
        "# algo JSON:\n",
        "x =  '{ \"nombre\":\"John\", \"edad\":30, \"ciudad\":\"New York\"}'\n",
        "\n",
        "# analizar x:\n",
        "y = json.loads(x)  #y ahora es un json file en python\n",
        "\n",
        "# el resultado es un diccionario Python:\n",
        "print(y[\"edad\"])"
      ]
    },
    {
      "cell_type": "markdown",
      "metadata": {
        "id": "dDpkhquwQiyD"
      },
      "source": [
        "# JSON y Python"
      ]
    },
    {
      "cell_type": "code",
      "execution_count": 4,
      "metadata": {
        "id": "wWZ4sB51QiyD",
        "colab": {
          "base_uri": "https://localhost:8080/"
        },
        "outputId": "6cbbc929-9401-4914-cab5-a07ad7c68a9f"
      },
      "outputs": [
        {
          "output_type": "stream",
          "name": "stdout",
          "text": [
            "{\"nombre\": \"John\", \"edad\": 30, \"ciudad\": \"New York\"}\n"
          ]
        }
      ],
      "source": [
        "import json\n",
        "\n",
        "# a un objeto Python (dicc):\n",
        "x = {\n",
        "  \"nombre\": \"John\",\n",
        "  \"edad\": 30,\n",
        "  \"ciudad\": \"New York\"\n",
        "}\n",
        "\n",
        "# convertir en JSON:\n",
        "y = json.dumps(x)  \n",
        "\n",
        "# el resultado es una cadena JSON:\n",
        "print(y)"
      ]
    },
    {
      "cell_type": "markdown",
      "metadata": {
        "id": "z7y9zWGNQiyE"
      },
      "source": [
        "**Estructuras**"
      ]
    },
    {
      "cell_type": "code",
      "execution_count": 5,
      "metadata": {
        "id": "mR-x6ohQQiyF",
        "colab": {
          "base_uri": "https://localhost:8080/"
        },
        "outputId": "1b96f109-428c-4c42-e23b-03f59eaf6067"
      },
      "outputs": [
        {
          "output_type": "stream",
          "name": "stdout",
          "text": [
            "{\"nombre\": \"Alex\", \"edad\": 32, \"casado\": false, \"divorciado\": false, \"hijos\": null, \"mascotas\": [\"Red\", \"Dipi\"], \"carros\": [{\"modelo\": \"Audi A5\", \"mpg\": 27.5}]}\n"
          ]
        }
      ],
      "source": [
        "x = {\n",
        "  \"nombre\": \"John\",\n",
        "  \"edad\": 30,\n",
        "  \"casado\": True,\n",
        "  \"divorciado\": False,\n",
        "  \"hijos\": (\"Ann\",\"Billy\"),\n",
        "  \"mascotas\": None,\n",
        "  \"carros\": [\n",
        "    {\"modelo\": \"BMW 230\", \"mpg\": 27.5},\n",
        "    {\"modelo\": \"Ford Edge\", \"mpg\": 24.1}\n",
        "  ],\n",
        "  \"nombre\": \"Alex\",\n",
        "  \"edad\": 32,\n",
        "  \"casado\": False,\n",
        "  \"divorciado\": False,\n",
        "  \"hijos\": None,\n",
        "  \"mascotas\": [\"Red\",\"Dipi\"],\n",
        "  \"carros\": [\n",
        "    {\"modelo\": \"Audi A5\", \"mpg\": 27.5}]\n",
        "}\n",
        "\n",
        "datos=json.dumps(x)\n",
        "\n",
        "print(datos)"
      ]
    },
    {
      "cell_type": "markdown",
      "metadata": {
        "id": "pdStQ55Rb14x"
      },
      "source": [
        "**MercadoLibre Scrapping**\n",
        "\n",
        "https://developers.mercadolibre.com.co/es_ar/buscador-de-productos\n"
      ]
    },
    {
      "cell_type": "markdown",
      "metadata": {
        "id": "8SglaByYGl8-"
      },
      "source": [
        "**Paso 0: Cargar librerias necesarias**"
      ]
    },
    {
      "cell_type": "code",
      "execution_count": 6,
      "metadata": {
        "id": "1PL6lbPCECQN",
        "colab": {
          "base_uri": "https://localhost:8080/"
        },
        "outputId": "17a1432f-b8b7-488c-a2a1-671606ffabed"
      },
      "outputs": [
        {
          "output_type": "stream",
          "name": "stdout",
          "text": [
            "Librerias Importadas ya!\n"
          ]
        }
      ],
      "source": [
        "import requests\n",
        "import json\n",
        "import pandas as pd\n",
        "from pandas.io.json import json_normalize\n",
        "\n",
        "print(\"Librerias Importadas ya!\")"
      ]
    },
    {
      "cell_type": "markdown",
      "metadata": {
        "id": "3Zmxm755Gtjg"
      },
      "source": [
        "**Paso 1: cargar datos y transformarlos en un conjunto de datos**\n",
        "\n"
      ]
    },
    {
      "cell_type": "code",
      "execution_count": 19,
      "metadata": {
        "id": "oB_BvgODGs-F",
        "colab": {
          "base_uri": "https://localhost:8080/",
          "height": 1000
        },
        "outputId": "1a27e095-93b2-4264-cadf-34e1b76aa5ec"
      },
      "outputs": [
        {
          "output_type": "stream",
          "name": "stderr",
          "text": [
            "/usr/local/lib/python3.7/dist-packages/ipykernel_launcher.py:8: FutureWarning: pandas.io.json.json_normalize is deprecated, use pandas.json_normalize instead\n",
            "  \n"
          ]
        },
        {
          "output_type": "execute_result",
          "data": {
            "text/plain": [
              "             id site_id                                              title  \\\n",
              "0  MCO627975567     MCO  Cafetera Oster Bvstdcdr5 Semi Automática Negra...   \n",
              "1  MCO878901737     MCO  Cafetera Oster Bvstdcs12 Semi Automática Negra...   \n",
              "2  MCO834403278     MCO  Cafetera Kalley K-cmp1502 Semi Automática Blan...   \n",
              "3  MCO827640193     MCO  Cafetera Oster Perfect Brew Bvstem7300 Super A...   \n",
              "4  MCO983610586     MCO  Cafetera Black+decker Cm0941b Semi Automática ...   \n",
              "5  MCO857719736     MCO  Cafetera Espresso Maker 6 Tazas Manual Acero I...   \n",
              "6  MCO904112797     MCO  Cafetera Oster Primalatte Bvstem6701 Automátic...   \n",
              "7  MCO627164473     MCO  Cafetera Kalley K-ex150 Automática Negra Expre...   \n",
              "8  MCO654879762     MCO  Cafetera Breville The Barista Express Bes870 S...   \n",
              "9  MCO857719749     MCO  Cafetera Espresso Maker 9 Tazas Manual Platead...   \n",
              "\n",
              "     price sale_price currency_id  available_quantity  sold_quantity  \\\n",
              "0   159800       None         COP                  26             35   \n",
              "1   159900       None         COP                   5            422   \n",
              "2    52487       None         COP                   6            154   \n",
              "3  1890000       None         COP                  44             36   \n",
              "4   145900       None         COP                   6             46   \n",
              "5    59900       None         COP                  17             44   \n",
              "6  1039900       None         COP                  20             19   \n",
              "7   306900       None         COP                   2            199   \n",
              "8  4689000       None         COP                   1             14   \n",
              "9    69900       None         COP                  46             38   \n",
              "\n",
              "  buying_mode listing_type_id  ... seller_address.zip_code  \\\n",
              "0  buy_it_now        gold_pro  ...                           \n",
              "1  buy_it_now    gold_special  ...                           \n",
              "2  buy_it_now    gold_special  ...                           \n",
              "3  buy_it_now    gold_special  ...                           \n",
              "4  buy_it_now    gold_special  ...                           \n",
              "5  buy_it_now        gold_pro  ...                           \n",
              "6  buy_it_now    gold_special  ...                           \n",
              "7  buy_it_now    gold_special  ...                           \n",
              "8  buy_it_now    gold_special  ...                           \n",
              "9  buy_it_now        gold_pro  ...                           \n",
              "\n",
              "  seller_address.country.id seller_address.country.name  \\\n",
              "0                        CO                    Colombia   \n",
              "1                        CO                    Colombia   \n",
              "2                        CO                    Colombia   \n",
              "3                        CO                    Colombia   \n",
              "4                        CO                    Colombia   \n",
              "5                        CO                    Colombia   \n",
              "6                        CO                    Colombia   \n",
              "7                        CO                    Colombia   \n",
              "8                        CO                    Colombia   \n",
              "9                        CO                    Colombia   \n",
              "\n",
              "  seller_address.state.id seller_address.state.name  seller_address.city.id  \\\n",
              "0                  CO-CUN              Cundinamarca        TUNPQ0NPVGFiYzZm   \n",
              "1                  CO-ANT                 Antioquia        TUNPQ01FRGRjNjc4   \n",
              "2                  CO-NSA        Norte De Santander        TUNPQ0NVQzhhZDhm   \n",
              "3                  CO-ANT                 Antioquia        TUNPQ01FRGRjNjc4   \n",
              "4                  CO-ANT                 Antioquia        TUNPQ01FRGRjNjc4   \n",
              "5                   CO-DC               Bogotá D.C.        TUNPQ01BUjU5NzU1   \n",
              "6                   CO-DC               Bogotá D.C.        TUNPQ01BUjU5NzU1   \n",
              "7                  CO-CUN              Cundinamarca        TUNPQ0ZVTjMxMDQy   \n",
              "8                  CO-SAN                 Santander        TUNPQ0JVQzkzMTE4   \n",
              "9                   CO-DC               Bogotá D.C.        TUNPQ01BUjU5NzU1   \n",
              "\n",
              "  seller_address.city.name seller_address.latitude  seller_address.longitude  \\\n",
              "0                     Cota                                                     \n",
              "1                 Medellín                                                     \n",
              "2                   Cúcuta                                                     \n",
              "3                 Medellín                                                     \n",
              "4                 Medellín                                                     \n",
              "5                 Martires                                                     \n",
              "6                 Martires                                                     \n",
              "7                    Funza                                                     \n",
              "8              Bucaramanga                                                     \n",
              "9                 Martires                                                     \n",
              "\n",
              "  differential_pricing.id  \n",
              "0              33602181.0  \n",
              "1                     NaN  \n",
              "2                     NaN  \n",
              "3                     NaN  \n",
              "4                     NaN  \n",
              "5              33602181.0  \n",
              "6                     NaN  \n",
              "7                     NaN  \n",
              "8                     NaN  \n",
              "9              33602181.0  \n",
              "\n",
              "[10 rows x 72 columns]"
            ],
            "text/html": [
              "\n",
              "  <div id=\"df-ff6b2148-649f-4a1c-aacc-0fd78ae61a37\">\n",
              "    <div class=\"colab-df-container\">\n",
              "      <div>\n",
              "<style scoped>\n",
              "    .dataframe tbody tr th:only-of-type {\n",
              "        vertical-align: middle;\n",
              "    }\n",
              "\n",
              "    .dataframe tbody tr th {\n",
              "        vertical-align: top;\n",
              "    }\n",
              "\n",
              "    .dataframe thead th {\n",
              "        text-align: right;\n",
              "    }\n",
              "</style>\n",
              "<table border=\"1\" class=\"dataframe\">\n",
              "  <thead>\n",
              "    <tr style=\"text-align: right;\">\n",
              "      <th></th>\n",
              "      <th>id</th>\n",
              "      <th>site_id</th>\n",
              "      <th>title</th>\n",
              "      <th>price</th>\n",
              "      <th>sale_price</th>\n",
              "      <th>currency_id</th>\n",
              "      <th>available_quantity</th>\n",
              "      <th>sold_quantity</th>\n",
              "      <th>buying_mode</th>\n",
              "      <th>listing_type_id</th>\n",
              "      <th>...</th>\n",
              "      <th>seller_address.zip_code</th>\n",
              "      <th>seller_address.country.id</th>\n",
              "      <th>seller_address.country.name</th>\n",
              "      <th>seller_address.state.id</th>\n",
              "      <th>seller_address.state.name</th>\n",
              "      <th>seller_address.city.id</th>\n",
              "      <th>seller_address.city.name</th>\n",
              "      <th>seller_address.latitude</th>\n",
              "      <th>seller_address.longitude</th>\n",
              "      <th>differential_pricing.id</th>\n",
              "    </tr>\n",
              "  </thead>\n",
              "  <tbody>\n",
              "    <tr>\n",
              "      <th>0</th>\n",
              "      <td>MCO627975567</td>\n",
              "      <td>MCO</td>\n",
              "      <td>Cafetera Oster Bvstdcdr5 Semi Automática Negra...</td>\n",
              "      <td>159800</td>\n",
              "      <td>None</td>\n",
              "      <td>COP</td>\n",
              "      <td>26</td>\n",
              "      <td>35</td>\n",
              "      <td>buy_it_now</td>\n",
              "      <td>gold_pro</td>\n",
              "      <td>...</td>\n",
              "      <td></td>\n",
              "      <td>CO</td>\n",
              "      <td>Colombia</td>\n",
              "      <td>CO-CUN</td>\n",
              "      <td>Cundinamarca</td>\n",
              "      <td>TUNPQ0NPVGFiYzZm</td>\n",
              "      <td>Cota</td>\n",
              "      <td></td>\n",
              "      <td></td>\n",
              "      <td>33602181.0</td>\n",
              "    </tr>\n",
              "    <tr>\n",
              "      <th>1</th>\n",
              "      <td>MCO878901737</td>\n",
              "      <td>MCO</td>\n",
              "      <td>Cafetera Oster Bvstdcs12 Semi Automática Negra...</td>\n",
              "      <td>159900</td>\n",
              "      <td>None</td>\n",
              "      <td>COP</td>\n",
              "      <td>5</td>\n",
              "      <td>422</td>\n",
              "      <td>buy_it_now</td>\n",
              "      <td>gold_special</td>\n",
              "      <td>...</td>\n",
              "      <td></td>\n",
              "      <td>CO</td>\n",
              "      <td>Colombia</td>\n",
              "      <td>CO-ANT</td>\n",
              "      <td>Antioquia</td>\n",
              "      <td>TUNPQ01FRGRjNjc4</td>\n",
              "      <td>Medellín</td>\n",
              "      <td></td>\n",
              "      <td></td>\n",
              "      <td>NaN</td>\n",
              "    </tr>\n",
              "    <tr>\n",
              "      <th>2</th>\n",
              "      <td>MCO834403278</td>\n",
              "      <td>MCO</td>\n",
              "      <td>Cafetera Kalley K-cmp1502 Semi Automática Blan...</td>\n",
              "      <td>52487</td>\n",
              "      <td>None</td>\n",
              "      <td>COP</td>\n",
              "      <td>6</td>\n",
              "      <td>154</td>\n",
              "      <td>buy_it_now</td>\n",
              "      <td>gold_special</td>\n",
              "      <td>...</td>\n",
              "      <td></td>\n",
              "      <td>CO</td>\n",
              "      <td>Colombia</td>\n",
              "      <td>CO-NSA</td>\n",
              "      <td>Norte De Santander</td>\n",
              "      <td>TUNPQ0NVQzhhZDhm</td>\n",
              "      <td>Cúcuta</td>\n",
              "      <td></td>\n",
              "      <td></td>\n",
              "      <td>NaN</td>\n",
              "    </tr>\n",
              "    <tr>\n",
              "      <th>3</th>\n",
              "      <td>MCO827640193</td>\n",
              "      <td>MCO</td>\n",
              "      <td>Cafetera Oster Perfect Brew Bvstem7300 Super A...</td>\n",
              "      <td>1890000</td>\n",
              "      <td>None</td>\n",
              "      <td>COP</td>\n",
              "      <td>44</td>\n",
              "      <td>36</td>\n",
              "      <td>buy_it_now</td>\n",
              "      <td>gold_special</td>\n",
              "      <td>...</td>\n",
              "      <td></td>\n",
              "      <td>CO</td>\n",
              "      <td>Colombia</td>\n",
              "      <td>CO-ANT</td>\n",
              "      <td>Antioquia</td>\n",
              "      <td>TUNPQ01FRGRjNjc4</td>\n",
              "      <td>Medellín</td>\n",
              "      <td></td>\n",
              "      <td></td>\n",
              "      <td>NaN</td>\n",
              "    </tr>\n",
              "    <tr>\n",
              "      <th>4</th>\n",
              "      <td>MCO983610586</td>\n",
              "      <td>MCO</td>\n",
              "      <td>Cafetera Black+decker Cm0941b Semi Automática ...</td>\n",
              "      <td>145900</td>\n",
              "      <td>None</td>\n",
              "      <td>COP</td>\n",
              "      <td>6</td>\n",
              "      <td>46</td>\n",
              "      <td>buy_it_now</td>\n",
              "      <td>gold_special</td>\n",
              "      <td>...</td>\n",
              "      <td></td>\n",
              "      <td>CO</td>\n",
              "      <td>Colombia</td>\n",
              "      <td>CO-ANT</td>\n",
              "      <td>Antioquia</td>\n",
              "      <td>TUNPQ01FRGRjNjc4</td>\n",
              "      <td>Medellín</td>\n",
              "      <td></td>\n",
              "      <td></td>\n",
              "      <td>NaN</td>\n",
              "    </tr>\n",
              "    <tr>\n",
              "      <th>5</th>\n",
              "      <td>MCO857719736</td>\n",
              "      <td>MCO</td>\n",
              "      <td>Cafetera Espresso Maker 6 Tazas Manual Acero I...</td>\n",
              "      <td>59900</td>\n",
              "      <td>None</td>\n",
              "      <td>COP</td>\n",
              "      <td>17</td>\n",
              "      <td>44</td>\n",
              "      <td>buy_it_now</td>\n",
              "      <td>gold_pro</td>\n",
              "      <td>...</td>\n",
              "      <td></td>\n",
              "      <td>CO</td>\n",
              "      <td>Colombia</td>\n",
              "      <td>CO-DC</td>\n",
              "      <td>Bogotá D.C.</td>\n",
              "      <td>TUNPQ01BUjU5NzU1</td>\n",
              "      <td>Martires</td>\n",
              "      <td></td>\n",
              "      <td></td>\n",
              "      <td>33602181.0</td>\n",
              "    </tr>\n",
              "    <tr>\n",
              "      <th>6</th>\n",
              "      <td>MCO904112797</td>\n",
              "      <td>MCO</td>\n",
              "      <td>Cafetera Oster Primalatte Bvstem6701 Automátic...</td>\n",
              "      <td>1039900</td>\n",
              "      <td>None</td>\n",
              "      <td>COP</td>\n",
              "      <td>20</td>\n",
              "      <td>19</td>\n",
              "      <td>buy_it_now</td>\n",
              "      <td>gold_special</td>\n",
              "      <td>...</td>\n",
              "      <td></td>\n",
              "      <td>CO</td>\n",
              "      <td>Colombia</td>\n",
              "      <td>CO-DC</td>\n",
              "      <td>Bogotá D.C.</td>\n",
              "      <td>TUNPQ01BUjU5NzU1</td>\n",
              "      <td>Martires</td>\n",
              "      <td></td>\n",
              "      <td></td>\n",
              "      <td>NaN</td>\n",
              "    </tr>\n",
              "    <tr>\n",
              "      <th>7</th>\n",
              "      <td>MCO627164473</td>\n",
              "      <td>MCO</td>\n",
              "      <td>Cafetera Kalley K-ex150 Automática Negra Expre...</td>\n",
              "      <td>306900</td>\n",
              "      <td>None</td>\n",
              "      <td>COP</td>\n",
              "      <td>2</td>\n",
              "      <td>199</td>\n",
              "      <td>buy_it_now</td>\n",
              "      <td>gold_special</td>\n",
              "      <td>...</td>\n",
              "      <td></td>\n",
              "      <td>CO</td>\n",
              "      <td>Colombia</td>\n",
              "      <td>CO-CUN</td>\n",
              "      <td>Cundinamarca</td>\n",
              "      <td>TUNPQ0ZVTjMxMDQy</td>\n",
              "      <td>Funza</td>\n",
              "      <td></td>\n",
              "      <td></td>\n",
              "      <td>NaN</td>\n",
              "    </tr>\n",
              "    <tr>\n",
              "      <th>8</th>\n",
              "      <td>MCO654879762</td>\n",
              "      <td>MCO</td>\n",
              "      <td>Cafetera Breville The Barista Express Bes870 S...</td>\n",
              "      <td>4689000</td>\n",
              "      <td>None</td>\n",
              "      <td>COP</td>\n",
              "      <td>1</td>\n",
              "      <td>14</td>\n",
              "      <td>buy_it_now</td>\n",
              "      <td>gold_special</td>\n",
              "      <td>...</td>\n",
              "      <td></td>\n",
              "      <td>CO</td>\n",
              "      <td>Colombia</td>\n",
              "      <td>CO-SAN</td>\n",
              "      <td>Santander</td>\n",
              "      <td>TUNPQ0JVQzkzMTE4</td>\n",
              "      <td>Bucaramanga</td>\n",
              "      <td></td>\n",
              "      <td></td>\n",
              "      <td>NaN</td>\n",
              "    </tr>\n",
              "    <tr>\n",
              "      <th>9</th>\n",
              "      <td>MCO857719749</td>\n",
              "      <td>MCO</td>\n",
              "      <td>Cafetera Espresso Maker 9 Tazas Manual Platead...</td>\n",
              "      <td>69900</td>\n",
              "      <td>None</td>\n",
              "      <td>COP</td>\n",
              "      <td>46</td>\n",
              "      <td>38</td>\n",
              "      <td>buy_it_now</td>\n",
              "      <td>gold_pro</td>\n",
              "      <td>...</td>\n",
              "      <td></td>\n",
              "      <td>CO</td>\n",
              "      <td>Colombia</td>\n",
              "      <td>CO-DC</td>\n",
              "      <td>Bogotá D.C.</td>\n",
              "      <td>TUNPQ01BUjU5NzU1</td>\n",
              "      <td>Martires</td>\n",
              "      <td></td>\n",
              "      <td></td>\n",
              "      <td>33602181.0</td>\n",
              "    </tr>\n",
              "  </tbody>\n",
              "</table>\n",
              "<p>10 rows × 72 columns</p>\n",
              "</div>\n",
              "      <button class=\"colab-df-convert\" onclick=\"convertToInteractive('df-ff6b2148-649f-4a1c-aacc-0fd78ae61a37')\"\n",
              "              title=\"Convert this dataframe to an interactive table.\"\n",
              "              style=\"display:none;\">\n",
              "        \n",
              "  <svg xmlns=\"http://www.w3.org/2000/svg\" height=\"24px\"viewBox=\"0 0 24 24\"\n",
              "       width=\"24px\">\n",
              "    <path d=\"M0 0h24v24H0V0z\" fill=\"none\"/>\n",
              "    <path d=\"M18.56 5.44l.94 2.06.94-2.06 2.06-.94-2.06-.94-.94-2.06-.94 2.06-2.06.94zm-11 1L8.5 8.5l.94-2.06 2.06-.94-2.06-.94L8.5 2.5l-.94 2.06-2.06.94zm10 10l.94 2.06.94-2.06 2.06-.94-2.06-.94-.94-2.06-.94 2.06-2.06.94z\"/><path d=\"M17.41 7.96l-1.37-1.37c-.4-.4-.92-.59-1.43-.59-.52 0-1.04.2-1.43.59L10.3 9.45l-7.72 7.72c-.78.78-.78 2.05 0 2.83L4 21.41c.39.39.9.59 1.41.59.51 0 1.02-.2 1.41-.59l7.78-7.78 2.81-2.81c.8-.78.8-2.07 0-2.86zM5.41 20L4 18.59l7.72-7.72 1.47 1.35L5.41 20z\"/>\n",
              "  </svg>\n",
              "      </button>\n",
              "      \n",
              "  <style>\n",
              "    .colab-df-container {\n",
              "      display:flex;\n",
              "      flex-wrap:wrap;\n",
              "      gap: 12px;\n",
              "    }\n",
              "\n",
              "    .colab-df-convert {\n",
              "      background-color: #E8F0FE;\n",
              "      border: none;\n",
              "      border-radius: 50%;\n",
              "      cursor: pointer;\n",
              "      display: none;\n",
              "      fill: #1967D2;\n",
              "      height: 32px;\n",
              "      padding: 0 0 0 0;\n",
              "      width: 32px;\n",
              "    }\n",
              "\n",
              "    .colab-df-convert:hover {\n",
              "      background-color: #E2EBFA;\n",
              "      box-shadow: 0px 1px 2px rgba(60, 64, 67, 0.3), 0px 1px 3px 1px rgba(60, 64, 67, 0.15);\n",
              "      fill: #174EA6;\n",
              "    }\n",
              "\n",
              "    [theme=dark] .colab-df-convert {\n",
              "      background-color: #3B4455;\n",
              "      fill: #D2E3FC;\n",
              "    }\n",
              "\n",
              "    [theme=dark] .colab-df-convert:hover {\n",
              "      background-color: #434B5C;\n",
              "      box-shadow: 0px 1px 3px 1px rgba(0, 0, 0, 0.15);\n",
              "      filter: drop-shadow(0px 1px 2px rgba(0, 0, 0, 0.3));\n",
              "      fill: #FFFFFF;\n",
              "    }\n",
              "  </style>\n",
              "\n",
              "      <script>\n",
              "        const buttonEl =\n",
              "          document.querySelector('#df-ff6b2148-649f-4a1c-aacc-0fd78ae61a37 button.colab-df-convert');\n",
              "        buttonEl.style.display =\n",
              "          google.colab.kernel.accessAllowed ? 'block' : 'none';\n",
              "\n",
              "        async function convertToInteractive(key) {\n",
              "          const element = document.querySelector('#df-ff6b2148-649f-4a1c-aacc-0fd78ae61a37');\n",
              "          const dataTable =\n",
              "            await google.colab.kernel.invokeFunction('convertToInteractive',\n",
              "                                                     [key], {});\n",
              "          if (!dataTable) return;\n",
              "\n",
              "          const docLinkHtml = 'Like what you see? Visit the ' +\n",
              "            '<a target=\"_blank\" href=https://colab.research.google.com/notebooks/data_table.ipynb>data table notebook</a>'\n",
              "            + ' to learn more about interactive tables.';\n",
              "          element.innerHTML = '';\n",
              "          dataTable['output_type'] = 'display_data';\n",
              "          await google.colab.output.renderOutput(dataTable, element);\n",
              "          const docLink = document.createElement('div');\n",
              "          docLink.innerHTML = docLinkHtml;\n",
              "          element.appendChild(docLink);\n",
              "        }\n",
              "      </script>\n",
              "    </div>\n",
              "  </div>\n",
              "  "
            ]
          },
          "metadata": {},
          "execution_count": 19
        }
      ],
      "source": [
        "target=\"cafetera\"\n",
        "url=\"https://api.mercadolibre.com/sites/MCO/search?q=\"+target\n",
        "\n",
        "response=requests.get(url).json() #Pedir y traer data a la url y traerla en formato json\n",
        "\n",
        "#response\n",
        "\n",
        "df_results=json_normalize(response[\"results\"])  #Convertir el diccionario traido en un dataframe de pandas\n",
        "\n",
        "df_results.head(10)  #Mostrar las primeras 10 filas del dataframe\n"
      ]
    },
    {
      "cell_type": "code",
      "source": [
        "df_results.info()"
      ],
      "metadata": {
        "colab": {
          "base_uri": "https://localhost:8080/"
        },
        "id": "rFC9kaGlQlvw",
        "outputId": "a2ed941d-49a7-4fdc-f583-f651ad1047b8"
      },
      "execution_count": 20,
      "outputs": [
        {
          "output_type": "stream",
          "name": "stdout",
          "text": [
            "<class 'pandas.core.frame.DataFrame'>\n",
            "RangeIndex: 50 entries, 0 to 49\n",
            "Data columns (total 72 columns):\n",
            " #   Column                                Non-Null Count  Dtype  \n",
            "---  ------                                --------------  -----  \n",
            " 0   id                                    50 non-null     object \n",
            " 1   site_id                               50 non-null     object \n",
            " 2   title                                 50 non-null     object \n",
            " 3   price                                 50 non-null     int64  \n",
            " 4   sale_price                            0 non-null      object \n",
            " 5   currency_id                           50 non-null     object \n",
            " 6   available_quantity                    50 non-null     int64  \n",
            " 7   sold_quantity                         50 non-null     int64  \n",
            " 8   buying_mode                           50 non-null     object \n",
            " 9   listing_type_id                       50 non-null     object \n",
            " 10  stop_time                             50 non-null     object \n",
            " 11  condition                             50 non-null     object \n",
            " 12  permalink                             50 non-null     object \n",
            " 13  thumbnail                             50 non-null     object \n",
            " 14  thumbnail_id                          50 non-null     object \n",
            " 15  accepts_mercadopago                   50 non-null     bool   \n",
            " 16  promotions                            0 non-null      object \n",
            " 17  attributes                            50 non-null     object \n",
            " 18  original_price                        3 non-null      float64\n",
            " 19  category_id                           50 non-null     object \n",
            " 20  official_store_id                     15 non-null     float64\n",
            " 21  domain_id                             50 non-null     object \n",
            " 22  catalog_product_id                    34 non-null     object \n",
            " 23  tags                                  50 non-null     object \n",
            " 24  catalog_listing                       29 non-null     object \n",
            " 25  use_thumbnail_id                      50 non-null     bool   \n",
            " 26  offer_score                           0 non-null      object \n",
            " 27  offer_share                           0 non-null      object \n",
            " 28  match_score                           0 non-null      object \n",
            " 29  winner_item_id                        0 non-null      object \n",
            " 30  melicoin                              0 non-null      object \n",
            " 31  discounts                             0 non-null      object \n",
            " 32  inventory_id                          12 non-null     object \n",
            " 33  order_backend                         50 non-null     int64  \n",
            " 34  seller.id                             50 non-null     int64  \n",
            " 35  seller.permalink                      0 non-null      object \n",
            " 36  seller.registration_date              0 non-null      object \n",
            " 37  seller.car_dealer                     50 non-null     bool   \n",
            " 38  seller.real_estate_agency             50 non-null     bool   \n",
            " 39  seller.tags                           0 non-null      object \n",
            " 40  prices.id                             50 non-null     object \n",
            " 41  prices.prices                         50 non-null     object \n",
            " 42  prices.presentation.display_currency  50 non-null     object \n",
            " 43  prices.payment_method_prices          50 non-null     object \n",
            " 44  prices.reference_prices               50 non-null     object \n",
            " 45  prices.purchase_discounts             50 non-null     object \n",
            " 46  installments.quantity                 50 non-null     int64  \n",
            " 47  installments.amount                   50 non-null     float64\n",
            " 48  installments.rate                     50 non-null     int64  \n",
            " 49  installments.currency_id              50 non-null     object \n",
            " 50  address.state_id                      50 non-null     object \n",
            " 51  address.state_name                    50 non-null     object \n",
            " 52  address.city_id                       50 non-null     object \n",
            " 53  address.city_name                     50 non-null     object \n",
            " 54  shipping.free_shipping                50 non-null     bool   \n",
            " 55  shipping.mode                         50 non-null     object \n",
            " 56  shipping.tags                         50 non-null     object \n",
            " 57  shipping.logistic_type                50 non-null     object \n",
            " 58  shipping.store_pick_up                50 non-null     bool   \n",
            " 59  seller_address.id                     50 non-null     object \n",
            " 60  seller_address.comment                50 non-null     object \n",
            " 61  seller_address.address_line           50 non-null     object \n",
            " 62  seller_address.zip_code               50 non-null     object \n",
            " 63  seller_address.country.id             50 non-null     object \n",
            " 64  seller_address.country.name           50 non-null     object \n",
            " 65  seller_address.state.id               50 non-null     object \n",
            " 66  seller_address.state.name             50 non-null     object \n",
            " 67  seller_address.city.id                50 non-null     object \n",
            " 68  seller_address.city.name              50 non-null     object \n",
            " 69  seller_address.latitude               50 non-null     object \n",
            " 70  seller_address.longitude              50 non-null     object \n",
            " 71  differential_pricing.id               8 non-null      float64\n",
            "dtypes: bool(6), float64(4), int64(7), object(55)\n",
            "memory usage: 26.2+ KB\n"
          ]
        }
      ]
    },
    {
      "cell_type": "markdown",
      "metadata": {
        "id": "4SWEDC1_IvzG"
      },
      "source": [
        "**Paso 2: Descarga y muestra la imagen**\n",
        "\n"
      ]
    },
    {
      "cell_type": "code",
      "source": [
        "from skimage import io  #Interpreta imagenes\n",
        "import matplotlib.pyplot as plt  #Graficar\n",
        "\n",
        "imagen=io.imread(df_results[\"thumbnail\"][8])  #Nos traemos la informacion de thumbnail que esta en la fila 8\n",
        "plt.imshow(imagen)   #graficamos la informacion  (imagen+show   ->imshow)\n",
        "plt.show()  #Mostrar imagen"
      ],
      "metadata": {
        "colab": {
          "base_uri": "https://localhost:8080/",
          "height": 268
        },
        "id": "NoKd4xxsOf5E",
        "outputId": "6a3166ca-df31-4e68-9b04-6f44e0842457"
      },
      "execution_count": 21,
      "outputs": [
        {
          "output_type": "display_data",
          "data": {
            "text/plain": [
              "<Figure size 432x288 with 1 Axes>"
            ],
            "image/png": "[encoded data removed]"
          },
          "metadata": {
            "needs_background": "light"
          }
        }
      ]
    },
    {
      "cell_type": "markdown",
      "metadata": {
        "id": "JcgMxEIgKFsd"
      },
      "source": [
        "**Paso 3: Histograma de precios**"
      ]
    },
    {
      "cell_type": "code",
      "execution_count": 22,
      "metadata": {
        "id": "TwQoM72bKF7J",
        "colab": {
          "base_uri": "https://localhost:8080/",
          "height": 295
        },
        "outputId": "61cf1332-a34b-4193-f9e9-489924760e9c"
      },
      "outputs": [
        {
          "output_type": "execute_result",
          "data": {
            "text/plain": [
              "<matplotlib.axes._subplots.AxesSubplot at 0x7f65c11f1290>"
            ]
          },
          "metadata": {},
          "execution_count": 22
        },
        {
          "output_type": "display_data",
          "data": {
            "text/plain": [
              "<Figure size 432x288 with 1 Axes>"
            ],
            "image/png": "[encoded data removed]"
          },
          "metadata": {
            "needs_background": "light"
          }
        }
      ],
      "source": [
        "precios=df_results[[\"price\"]]  #Filtramos solo los precios y los metemos en una variable dataframe llamada precios\n",
        "precios.plot.hist(bins=10, alpha=0.4) #graficamos un histograma de precios"
      ]
    },
    {
      "cell_type": "markdown",
      "metadata": {
        "id": "uVtdhQJoLIE_"
      },
      "source": [
        "**Paso 4: Vendedores por zona**"
      ]
    },
    {
      "cell_type": "code",
      "execution_count": 23,
      "metadata": {
        "id": "z0El4VZULIQu",
        "colab": {
          "base_uri": "https://localhost:8080/"
        },
        "outputId": "ce4e9b47-eb65-4f2d-fe1b-ade37daaef2f"
      },
      "outputs": [
        {
          "output_type": "execute_result",
          "data": {
            "text/plain": [
              "seller_address.city.name\n",
              "Barranquilla      2\n",
              "Bucaramanga       2\n",
              "Cali              1\n",
              "Cota              1\n",
              "Cúcuta            1\n",
              "Fontibón          1\n",
              "Funza             1\n",
              "Kennedy           1\n",
              "Martires          5\n",
              "Medellín         14\n",
              "Pereira           2\n",
              "Puente Aranda    10\n",
              "Riohacha          1\n",
              "Suba              2\n",
              "Tenjo             1\n",
              "Usaquén           3\n",
              "Yumbo             2\n",
              "Name: site_id, dtype: int64"
            ]
          },
          "metadata": {},
          "execution_count": 23
        }
      ],
      "source": [
        "df_results.groupby([\"seller_address.city.name\"]).count()[\"site_id\"]  #Agrupamos por ciudad y contamos"
      ]
    },
    {
      "cell_type": "code",
      "execution_count": 24,
      "metadata": {
        "id": "eUYVQx1zoGeC",
        "colab": {
          "base_uri": "https://localhost:8080/",
          "height": 483
        },
        "outputId": "8bf5b19c-0422-4eae-98be-96d2088ae7fc"
      },
      "outputs": [
        {
          "output_type": "execute_result",
          "data": {
            "text/plain": [
              "<matplotlib.axes._subplots.AxesSubplot at 0x7f65c0e70290>"
            ]
          },
          "metadata": {},
          "execution_count": 24
        },
        {
          "output_type": "display_data",
          "data": {
            "text/plain": [
              "<Figure size 576x576 with 1 Axes>"
            ],
            "image/png": "[encoded data removed]"
          },
          "metadata": {}
        }
      ],
      "source": [
        "df_results.groupby([\"seller_address.city.name\"]).count()[\"site_id\"].plot(kind=\"pie\",figsize=(8,8))"
      ]
    },
    {
      "cell_type": "markdown",
      "metadata": {
        "id": "KoaijkVDjn27"
      },
      "source": [
        "**Paso 5: Tendencias**\n",
        "\n",
        "https://developers.mercadolibre.com.co/es_ar/tendencias"
      ]
    },
    {
      "cell_type": "code",
      "execution_count": 34,
      "metadata": {
        "id": "6TtzkmiejvGs",
        "colab": {
          "base_uri": "https://localhost:8080/",
          "height": 135
        },
        "outputId": "c5112a90-7a11-4ee0-b6b3-ef01cb628950"
      },
      "outputs": [
        {
          "output_type": "stream",
          "name": "stderr",
          "text": [
            "/usr/local/lib/python3.7/dist-packages/ipykernel_launcher.py:5: FutureWarning: pandas.io.json.json_normalize is deprecated, use pandas.json_normalize instead\n",
            "  \"\"\"\n"
          ]
        },
        {
          "output_type": "execute_result",
          "data": {
            "text/plain": [
              "            error                            message  status\n",
              "0  Not authorized  Not authorized for public trends.     403"
            ],
            "text/html": [
              "\n",
              "  <div id=\"df-12c35ab9-8b4c-46c8-9ec0-f9b4afb19208\">\n",
              "    <div class=\"colab-df-container\">\n",
              "      <div>\n",
              "<style scoped>\n",
              "    .dataframe tbody tr th:only-of-type {\n",
              "        vertical-align: middle;\n",
              "    }\n",
              "\n",
              "    .dataframe tbody tr th {\n",
              "        vertical-align: top;\n",
              "    }\n",
              "\n",
              "    .dataframe thead th {\n",
              "        text-align: right;\n",
              "    }\n",
              "</style>\n",
              "<table border=\"1\" class=\"dataframe\">\n",
              "  <thead>\n",
              "    <tr style=\"text-align: right;\">\n",
              "      <th></th>\n",
              "      <th>error</th>\n",
              "      <th>message</th>\n",
              "      <th>status</th>\n",
              "    </tr>\n",
              "  </thead>\n",
              "  <tbody>\n",
              "    <tr>\n",
              "      <th>0</th>\n",
              "      <td>Not authorized</td>\n",
              "      <td>Not authorized for public trends.</td>\n",
              "      <td>403</td>\n",
              "    </tr>\n",
              "  </tbody>\n",
              "</table>\n",
              "</div>\n",
              "      <button class=\"colab-df-convert\" onclick=\"convertToInteractive('df-12c35ab9-8b4c-46c8-9ec0-f9b4afb19208')\"\n",
              "              title=\"Convert this dataframe to an interactive table.\"\n",
              "              style=\"display:none;\">\n",
              "        \n",
              "  <svg xmlns=\"http://www.w3.org/2000/svg\" height=\"24px\"viewBox=\"0 0 24 24\"\n",
              "       width=\"24px\">\n",
              "    <path d=\"M0 0h24v24H0V0z\" fill=\"none\"/>\n",
              "    <path d=\"M18.56 5.44l.94 2.06.94-2.06 2.06-.94-2.06-.94-.94-2.06-.94 2.06-2.06.94zm-11 1L8.5 8.5l.94-2.06 2.06-.94-2.06-.94L8.5 2.5l-.94 2.06-2.06.94zm10 10l.94 2.06.94-2.06 2.06-.94-2.06-.94-.94-2.06-.94 2.06-2.06.94z\"/><path d=\"M17.41 7.96l-1.37-1.37c-.4-.4-.92-.59-1.43-.59-.52 0-1.04.2-1.43.59L10.3 9.45l-7.72 7.72c-.78.78-.78 2.05 0 2.83L4 21.41c.39.39.9.59 1.41.59.51 0 1.02-.2 1.41-.59l7.78-7.78 2.81-2.81c.8-.78.8-2.07 0-2.86zM5.41 20L4 18.59l7.72-7.72 1.47 1.35L5.41 20z\"/>\n",
              "  </svg>\n",
              "      </button>\n",
              "      \n",
              "  <style>\n",
              "    .colab-df-container {\n",
              "      display:flex;\n",
              "      flex-wrap:wrap;\n",
              "      gap: 12px;\n",
              "    }\n",
              "\n",
              "    .colab-df-convert {\n",
              "      background-color: #E8F0FE;\n",
              "      border: none;\n",
              "      border-radius: 50%;\n",
              "      cursor: pointer;\n",
              "      display: none;\n",
              "      fill: #1967D2;\n",
              "      height: 32px;\n",
              "      padding: 0 0 0 0;\n",
              "      width: 32px;\n",
              "    }\n",
              "\n",
              "    .colab-df-convert:hover {\n",
              "      background-color: #E2EBFA;\n",
              "      box-shadow: 0px 1px 2px rgba(60, 64, 67, 0.3), 0px 1px 3px 1px rgba(60, 64, 67, 0.15);\n",
              "      fill: #174EA6;\n",
              "    }\n",
              "\n",
              "    [theme=dark] .colab-df-convert {\n",
              "      background-color: #3B4455;\n",
              "      fill: #D2E3FC;\n",
              "    }\n",
              "\n",
              "    [theme=dark] .colab-df-convert:hover {\n",
              "      background-color: #434B5C;\n",
              "      box-shadow: 0px 1px 3px 1px rgba(0, 0, 0, 0.15);\n",
              "      filter: drop-shadow(0px 1px 2px rgba(0, 0, 0, 0.3));\n",
              "      fill: #FFFFFF;\n",
              "    }\n",
              "  </style>\n",
              "\n",
              "      <script>\n",
              "        const buttonEl =\n",
              "          document.querySelector('#df-12c35ab9-8b4c-46c8-9ec0-f9b4afb19208 button.colab-df-convert');\n",
              "        buttonEl.style.display =\n",
              "          google.colab.kernel.accessAllowed ? 'block' : 'none';\n",
              "\n",
              "        async function convertToInteractive(key) {\n",
              "          const element = document.querySelector('#df-12c35ab9-8b4c-46c8-9ec0-f9b4afb19208');\n",
              "          const dataTable =\n",
              "            await google.colab.kernel.invokeFunction('convertToInteractive',\n",
              "                                                     [key], {});\n",
              "          if (!dataTable) return;\n",
              "\n",
              "          const docLinkHtml = 'Like what you see? Visit the ' +\n",
              "            '<a target=\"_blank\" href=https://colab.research.google.com/notebooks/data_table.ipynb>data table notebook</a>'\n",
              "            + ' to learn more about interactive tables.';\n",
              "          element.innerHTML = '';\n",
              "          dataTable['output_type'] = 'display_data';\n",
              "          await google.colab.output.renderOutput(dataTable, element);\n",
              "          const docLink = document.createElement('div');\n",
              "          docLink.innerHTML = docLinkHtml;\n",
              "          element.appendChild(docLink);\n",
              "        }\n",
              "      </script>\n",
              "    </div>\n",
              "  </div>\n",
              "  "
            ]
          },
          "metadata": {},
          "execution_count": 34
        }
      ],
      "source": [
        "url=\"https://api.mercadolibre.com/trends/MCO\"\n",
        "\n",
        "respuesta=requests.get(url).json()  #Traigo la informacion que esta en la url y la meto como diccionario a respuesta\n",
        "\n",
        "dataframe=json_normalize(respuesta)  #tomo el diccionario respuesta y lo vuelvo dataframe\n",
        "\n",
        "dataframe.head(50)"
      ]
    },
    {
      "cell_type": "markdown",
      "metadata": {
        "id": "kaaebpG8sJKF"
      },
      "source": [
        "**Paso 5A: Nube de palabras de tendencias**"
      ]
    },
    {
      "cell_type": "code",
      "execution_count": 32,
      "metadata": {
        "id": "L2MZmWvVrDdn",
        "scrolled": true,
        "colab": {
          "base_uri": "https://localhost:8080/",
          "height": 287
        },
        "outputId": "fb3dd56a-5d00-49d0-fb66-e68f018ad401"
      },
      "outputs": [
        {
          "output_type": "stream",
          "name": "stderr",
          "text": [
            "[nltk_data] Downloading package stopwords to /root/nltk_data...\n",
            "[nltk_data]   Unzipping corpora/stopwords.zip.\n"
          ]
        },
        {
          "output_type": "stream",
          "name": "stdout",
          "text": [
            "'DataFrame' object has no attribute 'keyword'\n"
          ]
        },
        {
          "output_type": "error",
          "ename": "NameError",
          "evalue": "ignored",
          "traceback": [
            "\u001b[0;31m---------------------------------------------------------------------------\u001b[0m",
            "\u001b[0;31mNameError\u001b[0m                                 Traceback (most recent call last)",
            "\u001b[0;32m<ipython-input-32-7073e6f57aa3>\u001b[0m in \u001b[0;36m<module>\u001b[0;34m\u001b[0m\n\u001b[1;32m     22\u001b[0m   \u001b[0;32mpass\u001b[0m\u001b[0;34m\u001b[0m\u001b[0;34m\u001b[0m\u001b[0m\n\u001b[1;32m     23\u001b[0m \u001b[0;34m\u001b[0m\u001b[0m\n\u001b[0;32m---> 24\u001b[0;31m \u001b[0mtext\u001b[0m \u001b[0;34m=\u001b[0m \u001b[0mtext\u001b[0m\u001b[0;34m.\u001b[0m\u001b[0mlower\u001b[0m\u001b[0;34m(\u001b[0m\u001b[0;34m)\u001b[0m\u001b[0;34m\u001b[0m\u001b[0;34m\u001b[0m\u001b[0m\n\u001b[0m\u001b[1;32m     25\u001b[0m \u001b[0;34m\u001b[0m\u001b[0m\n\u001b[1;32m     26\u001b[0m \u001b[0;31m#Generate a word cloud image\u001b[0m\u001b[0;34m\u001b[0m\u001b[0;34m\u001b[0m\u001b[0;34m\u001b[0m\u001b[0m\n",
            "\u001b[0;31mNameError\u001b[0m: name 'text' is not defined"
          ]
        }
      ],
      "source": [
        "###################GENERATE WORD CLOUD#########################################\n",
        "import numpy as np\n",
        "import pandas as pd\n",
        "from os import path\n",
        "from PIL import Image\n",
        "from wordcloud import WordCloud, STOPWORDS, ImageColorGenerator\n",
        "import matplotlib.pyplot as plt\n",
        "import nltk\n",
        "from nltk.corpus import stopwords \n",
        "\n",
        "nltk.download('stopwords')\n",
        "\n",
        "#Frequent words used in spanish\n",
        "stop_words = set(stopwords.words('spanish')) \n",
        "stop_words = stop_words.union(set(['las', 'los']))\n",
        "\n",
        "#Obtain all responses\n",
        "try:\n",
        "  text = \" \".join(str(resp) for resp in dataframe.keyword)\n",
        "except Exception as e:\n",
        "  print(e)\n",
        "  pass\n",
        "\n",
        "text = text.lower()\n",
        "\n",
        "#Generate a word cloud image\n",
        "wordcloud = WordCloud(stopwords=stop_words, background_color=\"white\", width=500, height=500).generate(text)\n",
        "\n",
        "#Display the generated image\n",
        "plt.figure(figsize=(10,10))\n",
        "plt.imshow(wordcloud, interpolation='bilinear')\n",
        "plt.axis(\"off\")\n",
        "plt.show()\n"
      ]
    }
  ],
  "metadata": {
    "colab": {
      "provenance": [],
      "include_colab_link": true
    },
    "kernelspec": {
      "display_name": "Python 3",
      "language": "python",
      "name": "python3"
    },
    "language_info": {
      "codemirror_mode": {
        "name": "ipython",
        "version": 3
      },
      "file_extension": ".py",
      "mimetype": "text/x-python",
      "name": "python",
      "nbconvert_exporter": "python",
      "pygments_lexer": "ipython3",
      "version": "3.8.8"
    }
  },
  "nbformat": 4,
  "nbformat_minor": 0
}