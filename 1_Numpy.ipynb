{
  "nbformat": 4,
  "nbformat_minor": 0,
  "metadata": {
    "colab": {
      "provenance": [],
      "include_colab_link": true
    },
    "kernelspec": {
      "name": "python3",
      "display_name": "Python 3"
    },
    "language_info": {
      "name": "python"
    }
  },
  "cells": [
    {
      "cell_type": "markdown",
      "metadata": {
        "id": "view-in-github",
        "colab_type": "text"
      },
      "source": [
        "<a href=\"https://colab.research.google.com/github/OZZYTA/IntensivoCiclo1/blob/main/1_Numpy.ipynb\" target=\"_parent\"><img src=\"https://colab.research.google.com/assets/colab-badge.svg\" alt=\"Open In Colab\"/></a>"
      ]
    },
    {
      "cell_type": "markdown",
      "source": [
        "#Numpy\n",
        "\n",
        "Es una librería en la que se define un tipo de dato que representa matrices multidimensionales. Además incluye algunas funcionalidades básicas para trabajar con ellas. Numpy es una librería con una amplia tradición en Python, es estable y muy rápida."
      ],
      "metadata": {
        "id": "rK3qXlXU9v1-"
      }
    },
    {
      "cell_type": "code",
      "source": [
        "pip install numpy"
      ],
      "metadata": {
        "colab": {
          "base_uri": "https://localhost:8080/"
        },
        "id": "xUU3M364YQNV",
        "outputId": "a0d707a6-c7e5-4a19-bcd7-0c2ecc180261"
      },
      "execution_count": 1,
      "outputs": [
        {
          "output_type": "stream",
          "name": "stdout",
          "text": [
            "Looking in indexes: https://pypi.org/simple, https://us-python.pkg.dev/colab-wheels/public/simple/\n",
            "Requirement already satisfied: numpy in /usr/local/lib/python3.7/dist-packages (1.21.6)\n"
          ]
        }
      ]
    },
    {
      "cell_type": "code",
      "source": [
        "import numpy as np"
      ],
      "metadata": {
        "id": "vzRpqy7cY1gw"
      },
      "execution_count": 2,
      "outputs": []
    },
    {
      "cell_type": "code",
      "source": [
        "frutas= (\"Limon\",\"Naranja\",\"Maracuya\",\"Guayaba\",\"Fresas\",\"Piña\")\n",
        "frutas"
      ],
      "metadata": {
        "colab": {
          "base_uri": "https://localhost:8080/"
        },
        "id": "9MPyLLrcZAF_",
        "outputId": "ab0c062a-5180-4e6d-ad05-6d70bc293e36"
      },
      "execution_count": 3,
      "outputs": [
        {
          "output_type": "execute_result",
          "data": {
            "text/plain": [
              "('Limon', 'Naranja', 'Maracuya', 'Guayaba', 'Fresas', 'Piña')"
            ]
          },
          "metadata": {},
          "execution_count": 3
        }
      ]
    },
    {
      "cell_type": "code",
      "source": [
        "frutas=np.array(frutas)\n",
        "frutas"
      ],
      "metadata": {
        "colab": {
          "base_uri": "https://localhost:8080/"
        },
        "id": "lc8KvE8FZNLv",
        "outputId": "dabb8937-17e1-45d0-ce89-295908859e32"
      },
      "execution_count": 4,
      "outputs": [
        {
          "output_type": "execute_result",
          "data": {
            "text/plain": [
              "array(['Limon', 'Naranja', 'Maracuya', 'Guayaba', 'Fresas', 'Piña'],\n",
              "      dtype='<U8')"
            ]
          },
          "metadata": {},
          "execution_count": 4
        }
      ]
    },
    {
      "cell_type": "code",
      "source": [
        "frutas=np.delete(frutas,[4])\n",
        "frutas"
      ],
      "metadata": {
        "colab": {
          "base_uri": "https://localhost:8080/"
        },
        "id": "GLs98YhMZbOT",
        "outputId": "e92db90e-5e15-4a57-cabd-38e1a1799233"
      },
      "execution_count": 5,
      "outputs": [
        {
          "output_type": "execute_result",
          "data": {
            "text/plain": [
              "array(['Limon', 'Naranja', 'Maracuya', 'Guayaba', 'Piña'], dtype='<U8')"
            ]
          },
          "metadata": {},
          "execution_count": 5
        }
      ]
    },
    {
      "cell_type": "code",
      "source": [
        "paises=np.array([\"Colombia\",\"Panamá\",\"Brasil\",\"Venezuela\",\"Argentina\",\"Chile\"]) #Creamos un arreglo de paises\n",
        "capitales=np.array([\"Bogotá\",\"Ciudad de Panamá\",\"Brasilia\",\"Caracas\",\"Buenos Aires\",\"Santiago de Chile\"]) #Creamos arreglo con las capitales\n",
        "\n",
        "pais=input(\"De qué pais deseas saber la capital?: \")\n",
        "posicion=np.where(paises==pais)\n",
        "print(f\"La capital de {pais} es: {capitales[posicion]}\")"
      ],
      "metadata": {
        "colab": {
          "base_uri": "https://localhost:8080/"
        },
        "id": "jlzQKmYxZqx7",
        "outputId": "2acac4a8-911f-437d-aa14-f24fcc424470"
      },
      "execution_count": 8,
      "outputs": [
        {
          "output_type": "stream",
          "name": "stdout",
          "text": [
            "De qué pais deseas saber la capital?: Colombia\n",
            "La capital de Colombia es: ['Bogotá']\n"
          ]
        }
      ]
    },
    {
      "cell_type": "code",
      "source": [
        "#Numeros\n",
        "\n",
        "lista=[25,12,15,66,12,5]\n",
        "vector=np.array(lista)\n",
        "lista"
      ],
      "metadata": {
        "colab": {
          "base_uri": "https://localhost:8080/"
        },
        "id": "yENANYugbWe7",
        "outputId": "cd9a42b8-d9f7-4420-ba94-b9c1e8760c8f"
      },
      "execution_count": 9,
      "outputs": [
        {
          "output_type": "execute_result",
          "data": {
            "text/plain": [
              "[25, 12, 15, 66, 12, 5]"
            ]
          },
          "metadata": {},
          "execution_count": 9
        }
      ]
    },
    {
      "cell_type": "code",
      "source": [
        "print(\"Vector Original\")\n",
        "vector"
      ],
      "metadata": {
        "colab": {
          "base_uri": "https://localhost:8080/"
        },
        "id": "sRQuVb8JbmJa",
        "outputId": "dfbb658b-dd90-4cd5-efbd-ae97ec814df3"
      },
      "execution_count": 11,
      "outputs": [
        {
          "output_type": "stream",
          "name": "stdout",
          "text": [
            "Vector Original\n"
          ]
        },
        {
          "output_type": "execute_result",
          "data": {
            "text/plain": [
              "array([25, 12, 15, 66, 12,  5])"
            ]
          },
          "metadata": {},
          "execution_count": 11
        }
      ]
    },
    {
      "cell_type": "code",
      "source": [
        "print(\"Vector original sumando 1 a cada elemento:\")\n",
        "vector+1"
      ],
      "metadata": {
        "colab": {
          "base_uri": "https://localhost:8080/"
        },
        "id": "j0GAri2mbwgK",
        "outputId": "23253c3b-f45c-4631-84aa-6ab3a4816ffb"
      },
      "execution_count": 13,
      "outputs": [
        {
          "output_type": "stream",
          "name": "stdout",
          "text": [
            "Vector original sumando 1 a cada elemento:\n"
          ]
        },
        {
          "output_type": "execute_result",
          "data": {
            "text/plain": [
              "array([26, 13, 16, 67, 13,  6])"
            ]
          },
          "metadata": {},
          "execution_count": 13
        }
      ]
    },
    {
      "cell_type": "code",
      "source": [
        "print(\"Vector original multiplicando *5 cada elemento:\")\n",
        "vector*5"
      ],
      "metadata": {
        "colab": {
          "base_uri": "https://localhost:8080/"
        },
        "id": "pA12qhQhcLcC",
        "outputId": "42250388-be60-4674-9006-67474548d288"
      },
      "execution_count": 14,
      "outputs": [
        {
          "output_type": "stream",
          "name": "stdout",
          "text": [
            "Vector original multiplicando *5 cada elemento:\n"
          ]
        },
        {
          "output_type": "execute_result",
          "data": {
            "text/plain": [
              "array([125,  60,  75, 330,  60,  25])"
            ]
          },
          "metadata": {},
          "execution_count": 14
        }
      ]
    },
    {
      "cell_type": "code",
      "source": [
        "print(\"Suma de todos los elementos del vector\")\n",
        "np.sum(vector)"
      ],
      "metadata": {
        "colab": {
          "base_uri": "https://localhost:8080/"
        },
        "id": "Y6L04rAdcR0V",
        "outputId": "935c42dd-e51e-4972-ed74-b806fd8820ea"
      },
      "execution_count": 15,
      "outputs": [
        {
          "output_type": "stream",
          "name": "stdout",
          "text": [
            "Suma de todos los elementos del vector\n"
          ]
        },
        {
          "output_type": "execute_result",
          "data": {
            "text/plain": [
              "135"
            ]
          },
          "metadata": {},
          "execution_count": 15
        }
      ]
    },
    {
      "cell_type": "code",
      "source": [
        "print(\"Promedio todos los elementos del vector\")\n",
        "np.mean(vector)"
      ],
      "metadata": {
        "colab": {
          "base_uri": "https://localhost:8080/"
        },
        "id": "VYD_NE78coGd",
        "outputId": "bf4be1f3-e3b6-40c0-e1a5-36caf9c79276"
      },
      "execution_count": 16,
      "outputs": [
        {
          "output_type": "stream",
          "name": "stdout",
          "text": [
            "Promedio todos los elementos del vector\n"
          ]
        },
        {
          "output_type": "execute_result",
          "data": {
            "text/plain": [
              "22.5"
            ]
          },
          "metadata": {},
          "execution_count": 16
        }
      ]
    },
    {
      "cell_type": "code",
      "source": [
        "np.sum(vector)/len(vector)"
      ],
      "metadata": {
        "colab": {
          "base_uri": "https://localhost:8080/"
        },
        "id": "UwdUyyC-c_rA",
        "outputId": "28261bdb-7171-49c7-b32b-717beb8cea07"
      },
      "execution_count": 17,
      "outputs": [
        {
          "output_type": "execute_result",
          "data": {
            "text/plain": [
              "22.5"
            ]
          },
          "metadata": {},
          "execution_count": 17
        }
      ]
    },
    {
      "cell_type": "code",
      "source": [
        "lista*5"
      ],
      "metadata": {
        "colab": {
          "base_uri": "https://localhost:8080/"
        },
        "id": "16qKbk2wdN0B",
        "outputId": "b9381482-06c6-42b8-b9ac-fb2f576e7b93"
      },
      "execution_count": 18,
      "outputs": [
        {
          "output_type": "execute_result",
          "data": {
            "text/plain": [
              "[25,\n",
              " 12,\n",
              " 15,\n",
              " 66,\n",
              " 12,\n",
              " 5,\n",
              " 25,\n",
              " 12,\n",
              " 15,\n",
              " 66,\n",
              " 12,\n",
              " 5,\n",
              " 25,\n",
              " 12,\n",
              " 15,\n",
              " 66,\n",
              " 12,\n",
              " 5,\n",
              " 25,\n",
              " 12,\n",
              " 15,\n",
              " 66,\n",
              " 12,\n",
              " 5,\n",
              " 25,\n",
              " 12,\n",
              " 15,\n",
              " 66,\n",
              " 12,\n",
              " 5]"
            ]
          },
          "metadata": {},
          "execution_count": 18
        }
      ]
    }
  ]
}