{
  "nbformat": 4,
  "nbformat_minor": 0,
  "metadata": {
    "colab": {
      "provenance": [],
      "collapsed_sections": [],
      "authorship_tag": "ABX9TyOdj9THsldcfgUeoDOR2Iag",
      "include_colab_link": true
    },
    "kernelspec": {
      "name": "python3",
      "display_name": "Python 3"
    },
    "language_info": {
      "name": "python"
    }
  },
  "cells": [
    {
      "cell_type": "markdown",
      "metadata": {
        "id": "view-in-github",
        "colab_type": "text"
      },
      "source": [
        "<a href=\"https://colab.research.google.com/github/OZZYTA/IntensivoCiclo1/blob/main/Ejercicios_con_Dict.ipynb\" target=\"_parent\"><img src=\"https://colab.research.google.com/assets/colab-badge.svg\" alt=\"Open In Colab\"/></a>"
      ]
    },
    {
      "cell_type": "markdown",
      "source": [
        "#Ejercicio 1.\n",
        "Doña Rosa Trujillo tiene una casa grande de tres pisos en un barrio popular cerca a universidades, ha decidido empezar a alquilar algunas de sus habitaciones para ayudarse economicamente. Le ha ido muy bien, normalmente de las habitaciones que habilitó para alquilar no le queda ninguna vacia, es decir va saliendo un inquilino y de inmediato le entrega al otro. Sucede que por su edad doña Rosa muchas veces olvida el nombre de sus inquilinos o la tarifa acordada. Su nieto, en vista de esto decide ayudarla generando una funcion en python que ella solo debe alimentar con los datos de sus nuevos inquilinos cuando van llegando para actualizar los datos del ocupante de cada habitación. A la fecha no tiene habitaciones disponibles para alquiler.\n",
        "\n",
        "Actualmente tiene 3 habitaciones alquiladas en el primer de la siguiente forma:\n",
        "\n",
        "* Habitacion 101: Alquilada a Patricia Rojas, por 40000 el dia.\n",
        "* Habitacion 102: Alquilada a Jairo Torres, por 45000 el dia\n",
        "* Habitacion 103: Alquilada a Nancy Contreras, por 40000 el dia.\n",
        "\n",
        "En el segundo piso tiene una sola habitacion para alquilar, la 201, actualmente alquilada por Jesus Ramirez, por 50000 el dia.\n",
        "\n",
        "En el tercer piso no alquila habitaciones, es donde vive con su familia.\n",
        "\n",
        "¿Como debe ser la funcion que desarrolla su nieto si en determinado momento los datos de alquiler de sus habitaciones cambian?\n",
        "\n",
        "\n",
        "\n"
      ],
      "metadata": {
        "id": "J7s0HdDL8959"
      }
    },
    {
      "cell_type": "code",
      "execution_count": 4,
      "metadata": {
        "id": "DfdMUF-1YdIU"
      },
      "outputs": [],
      "source": [
        "hostal=[{\"101\":{\"inquilino\":\"Patricia Rojas\", \"tarifa\":40000},\"102\":{\"inquilino\":\"Jairo Torres\", \"tarifa\":45000},\"103\":{\"inquilino\":\"Nancy Contreras\", \"tarifa\":40000}},{\"201\":{\"inquilino\":\"Jesus Ramirez\", \"tarifa\":50000}},{}]"
      ]
    },
    {
      "cell_type": "code",
      "source": [
        "len(hostal)"
      ],
      "metadata": {
        "colab": {
          "base_uri": "https://localhost:8080/"
        },
        "id": "J-HZkmHVbJde",
        "outputId": "18b067d3-d9a9-461d-bde1-a4ffc8fa77a3"
      },
      "execution_count": 5,
      "outputs": [
        {
          "output_type": "execute_result",
          "data": {
            "text/plain": [
              "3"
            ]
          },
          "metadata": {},
          "execution_count": 5
        }
      ]
    },
    {
      "cell_type": "code",
      "source": [
        "hostal[0]"
      ],
      "metadata": {
        "colab": {
          "base_uri": "https://localhost:8080/"
        },
        "id": "BqOpkik7bx7y",
        "outputId": "a7196f4a-e7f3-45ea-93da-7e6c3b180e42"
      },
      "execution_count": 6,
      "outputs": [
        {
          "output_type": "execute_result",
          "data": {
            "text/plain": [
              "{'101': {'inquilino': 'Patricia Rojas', 'tarifa': 40000},\n",
              " '102': {'inquilino': 'Jairo Torres', 'tarifa': 45000},\n",
              " '103': {'inquilino': 'Nancy Contreras', 'tarifa': 40000}}"
            ]
          },
          "metadata": {},
          "execution_count": 6
        }
      ]
    },
    {
      "cell_type": "code",
      "source": [
        "hostal[0]['101']"
      ],
      "metadata": {
        "colab": {
          "base_uri": "https://localhost:8080/"
        },
        "id": "aDbsfKT-b1o_",
        "outputId": "071512c8-382a-42aa-d2ac-f686d2c78fed"
      },
      "execution_count": 7,
      "outputs": [
        {
          "output_type": "execute_result",
          "data": {
            "text/plain": [
              "{'inquilino': 'Patricia Rojas', 'tarifa': 40000}"
            ]
          },
          "metadata": {},
          "execution_count": 7
        }
      ]
    },
    {
      "cell_type": "code",
      "source": [
        "hostal[0]['101']['inquilino']"
      ],
      "metadata": {
        "colab": {
          "base_uri": "https://localhost:8080/",
          "height": 36
        },
        "id": "mb9U9JZpb-Tw",
        "outputId": "b8f0a983-08bc-4405-d95e-c79e8e86a9ee"
      },
      "execution_count": 10,
      "outputs": [
        {
          "output_type": "execute_result",
          "data": {
            "text/plain": [
              "'Patricia Rojas'"
            ],
            "application/vnd.google.colaboratory.intrinsic+json": {
              "type": "string"
            }
          },
          "metadata": {},
          "execution_count": 10
        }
      ]
    },
    {
      "cell_type": "code",
      "source": [
        "hostal[0]['101']['tarifa']"
      ],
      "metadata": {
        "colab": {
          "base_uri": "https://localhost:8080/"
        },
        "id": "4yzOuiLycJGg",
        "outputId": "3a954d6c-2ef3-4bbd-92f6-89b9e63ebfac"
      },
      "execution_count": 11,
      "outputs": [
        {
          "output_type": "execute_result",
          "data": {
            "text/plain": [
              "40000"
            ]
          },
          "metadata": {},
          "execution_count": 11
        }
      ]
    },
    {
      "cell_type": "code",
      "source": [
        "hostal[0]['101']['inquilino']=\"Camila Ortiz\""
      ],
      "metadata": {
        "id": "N0JhMtp1cS5m"
      },
      "execution_count": 12,
      "outputs": []
    },
    {
      "cell_type": "code",
      "source": [
        "len(hostal[2])"
      ],
      "metadata": {
        "colab": {
          "base_uri": "https://localhost:8080/"
        },
        "id": "QW9RPo5wdu2a",
        "outputId": "88bbc05b-e7ff-4e85-8995-ae2e6d4f28c5"
      },
      "execution_count": 16,
      "outputs": [
        {
          "output_type": "execute_result",
          "data": {
            "text/plain": [
              "0"
            ]
          },
          "metadata": {},
          "execution_count": 16
        }
      ]
    },
    {
      "cell_type": "code",
      "source": [
        "\"201\" in hostal[1]"
      ],
      "metadata": {
        "colab": {
          "base_uri": "https://localhost:8080/"
        },
        "id": "B6UUX7MNeYeg",
        "outputId": "fa8ef155-d0a8-43d0-fb03-732bbc78cd06"
      },
      "execution_count": 19,
      "outputs": [
        {
          "output_type": "execute_result",
          "data": {
            "text/plain": [
              "True"
            ]
          },
          "metadata": {},
          "execution_count": 19
        }
      ]
    },
    {
      "cell_type": "code",
      "source": [
        "hostal[0]"
      ],
      "metadata": {
        "colab": {
          "base_uri": "https://localhost:8080/"
        },
        "id": "11AHjXfpcX_c",
        "outputId": "d806b868-2a8e-4c90-968b-7abfac7dfa68"
      },
      "execution_count": 13,
      "outputs": [
        {
          "output_type": "execute_result",
          "data": {
            "text/plain": [
              "{'101': {'inquilino': 'Camila Ortiz', 'tarifa': 40000},\n",
              " '102': {'inquilino': 'Jairo Torres', 'tarifa': 45000},\n",
              " '103': {'inquilino': 'Nancy Contreras', 'tarifa': 40000}}"
            ]
          },
          "metadata": {},
          "execution_count": 13
        }
      ]
    },
    {
      "cell_type": "code",
      "source": [
        "#Codigo plano\n",
        "piso=2\n",
        "inquilino=\"Betty Ricci\"\n",
        "numHabitacion=\"201\"\n",
        "tarifa=50000\n",
        "\n",
        "pisos=len(hostal)\n",
        "if piso not in range(1,pisos+1):\n",
        "  mensaje=\"No, ese piso no existe.\"\n",
        "elif len(hostal[piso-1])==0:\n",
        "  mensaje=\"No, en ese piso, no hay habitaciones para alquilar\"\n",
        "else:\n",
        "  if numHabitacion not in hostal[piso-1]:\n",
        "    mensaje=\"Esa habitación no se encuentra en el piso seleccionado\"\n",
        "  else:\n",
        "    hostal[piso-1][numHabitacion][\"inquilino\"]=inquilino\n",
        "    hostal[piso-1][numHabitacion][\"tarifa\"]=tarifa\n",
        "    mensaje=\"Inquilino y tarifa, registradas correctamente\"\n",
        "\n",
        "print(mensaje)"
      ],
      "metadata": {
        "colab": {
          "base_uri": "https://localhost:8080/"
        },
        "id": "THJgv2rwcbuL",
        "outputId": "95ae07d8-ea6d-46fb-fb16-7d1d9755727a"
      },
      "execution_count": 24,
      "outputs": [
        {
          "output_type": "stream",
          "name": "stdout",
          "text": [
            "Inquilino y tarifa, registradas correctamente\n"
          ]
        }
      ]
    },
    {
      "cell_type": "code",
      "source": [
        "hostal"
      ],
      "metadata": {
        "colab": {
          "base_uri": "https://localhost:8080/"
        },
        "id": "fQeg7OBjfQu5",
        "outputId": "1df5a252-4d3d-416e-941c-0b1db7d1d3c1"
      },
      "execution_count": 25,
      "outputs": [
        {
          "output_type": "execute_result",
          "data": {
            "text/plain": [
              "[{'101': {'inquilino': 'Camila Ortiz', 'tarifa': 40000},\n",
              "  '102': {'inquilino': 'Jairo Torres', 'tarifa': 45000},\n",
              "  '103': {'inquilino': 'Nancy Contreras', 'tarifa': 40000}},\n",
              " {'201': {'inquilino': 'Betty Ricci', 'tarifa': 50000}},\n",
              " {}]"
            ]
          },
          "metadata": {},
          "execution_count": 25
        }
      ]
    },
    {
      "cell_type": "code",
      "source": [
        "#Volvamóslo una función:\n",
        "\n",
        "def donaRosa(piso, inquilino, numHabitacion, tarifa):\n",
        "  pisos=len(hostal)\n",
        "  if piso not in range(1,pisos+1):\n",
        "    mensaje=\"No, ese piso no existe.\"\n",
        "  elif len(hostal[piso-1])==0:\n",
        "    mensaje=\"No, en ese piso, no hay habitaciones para alquilar\"\n",
        "  else:\n",
        "    if numHabitacion not in hostal[piso-1]:\n",
        "      mensaje=\"Esa habitación no se encuentra en el piso seleccionado\"\n",
        "    else:\n",
        "      hostal[piso-1][numHabitacion][\"inquilino\"]=inquilino\n",
        "      hostal[piso-1][numHabitacion][\"tarifa\"]=tarifa\n",
        "      mensaje=\"Inquilino y tarifa, registradas correctamente\"\n",
        "      \n",
        "  return mensaje, hostal"
      ],
      "metadata": {
        "id": "VywQUTgTfaYY"
      },
      "execution_count": 26,
      "outputs": []
    },
    {
      "cell_type": "code",
      "source": [
        "donaRosa(2,\"Miguel Pérez\",\"201\",\"50000\")"
      ],
      "metadata": {
        "colab": {
          "base_uri": "https://localhost:8080/"
        },
        "id": "YlgPq3dMf1om",
        "outputId": "0954366b-068c-4e59-9240-ef4a4c454f27"
      },
      "execution_count": 27,
      "outputs": [
        {
          "output_type": "execute_result",
          "data": {
            "text/plain": [
              "('Inquilino y tarifa, registradas correctamente',\n",
              " [{'101': {'inquilino': 'Camila Ortiz', 'tarifa': 40000},\n",
              "   '102': {'inquilino': 'Jairo Torres', 'tarifa': 45000},\n",
              "   '103': {'inquilino': 'Nancy Contreras', 'tarifa': 40000}},\n",
              "  {'201': {'inquilino': 'Miguel Pérez', 'tarifa': '50000'}},\n",
              "  {}])"
            ]
          },
          "metadata": {},
          "execution_count": 27
        }
      ]
    }
  ]
}